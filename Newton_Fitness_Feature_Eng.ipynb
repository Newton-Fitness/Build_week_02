{
 "cells": [
  {
   "cell_type": "code",
   "execution_count": 206,
   "id": "violent-multimedia",
   "metadata": {},
   "outputs": [
    {
     "name": "stdout",
     "output_type": "stream",
     "text": [
      "Setup Complete\n"
     ]
    }
   ],
   "source": [
    "import pandas as pd\n",
    "import numpy as np\n",
    "from matplotlib import pyplot as plt\n",
    "from sklearn.ensemble import RandomForestClassifier\n",
    "from sklearn.model_selection import train_test_split\n",
    "from sklearn.preprocessing import LabelEncoder\n",
    "from sklearn.metrics import roc_curve\n",
    "from sklearn.metrics import auc\n",
    "from sklearn.metrics import precision_recall_curve\n",
    "from sklearn.metrics import precision_score\n",
    "from sklearn.metrics import recall_score\n",
    "from sklearn.metrics import f1_score\n",
    "from sklearn.metrics import average_precision_score\n",
    "from inspect import signature\n",
    "from sklearn.model_selection import train_test_split\n",
    "from sklearn import preprocessing\n",
    "from matplotlib import pyplot\n",
    "\n",
    "print(\"Setup Complete\")"
   ]
  },
  {
   "cell_type": "code",
   "execution_count": 182,
   "id": "meaning-rough",
   "metadata": {},
   "outputs": [
    {
     "data": {
      "text/plain": [
       "<bound method DataFrame.info of          id   time  activityrecognition#0  activityrecognition#1  \\\n",
       "0     16170   78.0                    NaN                  100.0   \n",
       "1     15871  145.0                    NaN                  100.0   \n",
       "2     16811  150.0                    NaN                  100.0   \n",
       "3     15831  105.0                    NaN                   77.0   \n",
       "4       876   77.0                    NaN                  100.0   \n",
       "...     ...    ...                    ...                    ...   \n",
       "5888  14125    4.0                    NaN                  100.0   \n",
       "5889  19582   32.0                    NaN                   10.0   \n",
       "5890  16178   86.0                    NaN                  100.0   \n",
       "5891  10973  199.0                    NaN                  100.0   \n",
       "5892   8278   55.0                    NaN                  100.0   \n",
       "\n",
       "      android.sensor.accelerometer#mean  android.sensor.accelerometer#min  \\\n",
       "0                              9.811476                          9.758895   \n",
       "1                              9.939207                          7.707437   \n",
       "2                              9.827178                          9.804817   \n",
       "3                              9.673039                          7.659674   \n",
       "4                              9.993466                          8.965621   \n",
       "...                                 ...                               ...   \n",
       "5888                          10.066610                          4.564648   \n",
       "5889                           9.964271                          8.768007   \n",
       "5890                           9.812893                          9.772881   \n",
       "5891                           9.831144                          9.807347   \n",
       "5892                          11.051009                          5.203285   \n",
       "\n",
       "      android.sensor.accelerometer#max  android.sensor.accelerometer#std  \\\n",
       "0                             9.849411                          0.014626   \n",
       "1                            17.146631                          1.775944   \n",
       "2                             9.849262                          0.011199   \n",
       "3                            12.304298                          0.862553   \n",
       "4                            10.891645                          0.504117   \n",
       "...                                ...                               ...   \n",
       "5888                         13.414389                          3.373972   \n",
       "5889                         11.454213                          0.665529   \n",
       "5890                          9.862587                          0.017633   \n",
       "5891                          9.874450                          0.013485   \n",
       "5892                         19.921068                          4.745098   \n",
       "\n",
       "      android.sensor.game_rotation_vector#mean  \\\n",
       "0                                     0.029340   \n",
       "1                                     0.999925   \n",
       "2                                     0.665215   \n",
       "3                                     0.996221   \n",
       "4                                     0.563792   \n",
       "...                                        ...   \n",
       "5888                                  0.986319   \n",
       "5889                                  0.648602   \n",
       "5890                                  0.024392   \n",
       "5891                                  0.481212   \n",
       "5892                                  0.919815   \n",
       "\n",
       "      android.sensor.game_rotation_vector#min  ...  sound#mean  sound#min  \\\n",
       "0                                    0.029014  ...         NaN        NaN   \n",
       "1                                    0.999903  ...   89.200210  89.065143   \n",
       "2                                    0.665213  ...         NaN        NaN   \n",
       "3                                    0.993781  ...   87.470377  87.470377   \n",
       "4                                    0.521799  ...   89.770732  89.770732   \n",
       "...                                       ...  ...         ...        ...   \n",
       "5888                                 0.974523  ...         NaN        NaN   \n",
       "5889                                 0.648343  ...         NaN        NaN   \n",
       "5890                                 0.024081  ...         NaN        NaN   \n",
       "5891                                 0.481209  ...         NaN        NaN   \n",
       "5892                                 0.892571  ...   89.712441  89.712441   \n",
       "\n",
       "      sound#max  sound#std  speed#mean  speed#min  speed#max  speed#std  \\\n",
       "0           NaN        NaN    0.000000   0.000000   0.000000   0.000000   \n",
       "1     89.335277   0.191013   16.539349  16.539349  16.539349   0.628595   \n",
       "2           NaN        NaN    0.000000   0.000000   0.000000   0.000000   \n",
       "3     87.470377   2.284186   17.739895  17.739895  17.739895   0.628595   \n",
       "4     89.770732   0.006389    9.000000   9.000000   9.000000        NaN   \n",
       "...         ...        ...         ...        ...        ...        ...   \n",
       "5888        NaN        NaN         NaN        NaN        NaN        NaN   \n",
       "5889        NaN        NaN   31.960054  31.960054  31.960054        NaN   \n",
       "5890        NaN        NaN    0.000000   0.000000   0.000000   0.000000   \n",
       "5891        NaN        NaN    1.090415   1.090415   1.090415        NaN   \n",
       "5892  89.712441   0.006400    0.750000   0.750000   0.750000        NaN   \n",
       "\n",
       "       target       user  \n",
       "0       Still       Luca  \n",
       "1         Car       Luca  \n",
       "2       Still       Luca  \n",
       "3         Car       Luca  \n",
       "4         Car     andrea  \n",
       "...       ...        ...  \n",
       "5888  Walking  IvanHeibi  \n",
       "5889    Train  Pierpaolo  \n",
       "5890    Still       Luca  \n",
       "5891    Still    Damiano  \n",
       "5892  Walking     andrea  \n",
       "\n",
       "[5893 rows x 70 columns]>"
      ]
     },
     "execution_count": 182,
     "metadata": {},
     "output_type": "execute_result"
    }
   ],
   "source": [
    "df = pd.read_csv(\"TransportationData/datasetBalanced/dataset_5secondWindow.csv\") #dataset_halfSecondWindows\n",
    "df.info\n",
    "# first doing label encodingon User\n",
    "\n",
    "# sorting based on the user label\n",
    "\n",
    "\n",
    "\n",
    "# plotting given_user distribution\n",
    "\n",
    "\n",
    "# making split"
   ]
  },
  {
   "cell_type": "code",
   "execution_count": 183,
   "id": "portuguese-geology",
   "metadata": {},
   "outputs": [
    {
     "data": {
      "text/html": [
       "<div>\n",
       "<style scoped>\n",
       "    .dataframe tbody tr th:only-of-type {\n",
       "        vertical-align: middle;\n",
       "    }\n",
       "\n",
       "    .dataframe tbody tr th {\n",
       "        vertical-align: top;\n",
       "    }\n",
       "\n",
       "    .dataframe thead th {\n",
       "        text-align: right;\n",
       "    }\n",
       "</style>\n",
       "<table border=\"1\" class=\"dataframe\">\n",
       "  <thead>\n",
       "    <tr style=\"text-align: right;\">\n",
       "      <th></th>\n",
       "      <th>id</th>\n",
       "      <th>time</th>\n",
       "      <th>activityrecognition#0</th>\n",
       "      <th>activityrecognition#1</th>\n",
       "      <th>android.sensor.accelerometer#mean</th>\n",
       "      <th>android.sensor.accelerometer#min</th>\n",
       "      <th>android.sensor.accelerometer#max</th>\n",
       "      <th>android.sensor.accelerometer#std</th>\n",
       "      <th>android.sensor.game_rotation_vector#mean</th>\n",
       "      <th>android.sensor.game_rotation_vector#min</th>\n",
       "      <th>...</th>\n",
       "      <th>sound#mean</th>\n",
       "      <th>sound#min</th>\n",
       "      <th>sound#max</th>\n",
       "      <th>sound#std</th>\n",
       "      <th>speed#mean</th>\n",
       "      <th>speed#min</th>\n",
       "      <th>speed#max</th>\n",
       "      <th>speed#std</th>\n",
       "      <th>target</th>\n",
       "      <th>user</th>\n",
       "    </tr>\n",
       "  </thead>\n",
       "  <tbody>\n",
       "    <tr>\n",
       "      <th>0</th>\n",
       "      <td>16170</td>\n",
       "      <td>78.0</td>\n",
       "      <td>NaN</td>\n",
       "      <td>100.0</td>\n",
       "      <td>9.811476</td>\n",
       "      <td>9.758895</td>\n",
       "      <td>9.849411</td>\n",
       "      <td>0.014626</td>\n",
       "      <td>0.029340</td>\n",
       "      <td>0.029014</td>\n",
       "      <td>...</td>\n",
       "      <td>NaN</td>\n",
       "      <td>NaN</td>\n",
       "      <td>NaN</td>\n",
       "      <td>NaN</td>\n",
       "      <td>0.000000</td>\n",
       "      <td>0.000000</td>\n",
       "      <td>0.000000</td>\n",
       "      <td>0.000000</td>\n",
       "      <td>Still</td>\n",
       "      <td>Luca</td>\n",
       "    </tr>\n",
       "    <tr>\n",
       "      <th>1</th>\n",
       "      <td>15871</td>\n",
       "      <td>145.0</td>\n",
       "      <td>NaN</td>\n",
       "      <td>100.0</td>\n",
       "      <td>9.939207</td>\n",
       "      <td>7.707437</td>\n",
       "      <td>17.146631</td>\n",
       "      <td>1.775944</td>\n",
       "      <td>0.999925</td>\n",
       "      <td>0.999903</td>\n",
       "      <td>...</td>\n",
       "      <td>89.200210</td>\n",
       "      <td>89.065143</td>\n",
       "      <td>89.335277</td>\n",
       "      <td>0.191013</td>\n",
       "      <td>16.539349</td>\n",
       "      <td>16.539349</td>\n",
       "      <td>16.539349</td>\n",
       "      <td>0.628595</td>\n",
       "      <td>Car</td>\n",
       "      <td>Luca</td>\n",
       "    </tr>\n",
       "    <tr>\n",
       "      <th>2</th>\n",
       "      <td>16811</td>\n",
       "      <td>150.0</td>\n",
       "      <td>NaN</td>\n",
       "      <td>100.0</td>\n",
       "      <td>9.827178</td>\n",
       "      <td>9.804817</td>\n",
       "      <td>9.849262</td>\n",
       "      <td>0.011199</td>\n",
       "      <td>0.665215</td>\n",
       "      <td>0.665213</td>\n",
       "      <td>...</td>\n",
       "      <td>NaN</td>\n",
       "      <td>NaN</td>\n",
       "      <td>NaN</td>\n",
       "      <td>NaN</td>\n",
       "      <td>0.000000</td>\n",
       "      <td>0.000000</td>\n",
       "      <td>0.000000</td>\n",
       "      <td>0.000000</td>\n",
       "      <td>Still</td>\n",
       "      <td>Luca</td>\n",
       "    </tr>\n",
       "    <tr>\n",
       "      <th>3</th>\n",
       "      <td>15831</td>\n",
       "      <td>105.0</td>\n",
       "      <td>NaN</td>\n",
       "      <td>77.0</td>\n",
       "      <td>9.673039</td>\n",
       "      <td>7.659674</td>\n",
       "      <td>12.304298</td>\n",
       "      <td>0.862553</td>\n",
       "      <td>0.996221</td>\n",
       "      <td>0.993781</td>\n",
       "      <td>...</td>\n",
       "      <td>87.470377</td>\n",
       "      <td>87.470377</td>\n",
       "      <td>87.470377</td>\n",
       "      <td>2.284186</td>\n",
       "      <td>17.739895</td>\n",
       "      <td>17.739895</td>\n",
       "      <td>17.739895</td>\n",
       "      <td>0.628595</td>\n",
       "      <td>Car</td>\n",
       "      <td>Luca</td>\n",
       "    </tr>\n",
       "    <tr>\n",
       "      <th>4</th>\n",
       "      <td>876</td>\n",
       "      <td>77.0</td>\n",
       "      <td>NaN</td>\n",
       "      <td>100.0</td>\n",
       "      <td>9.993466</td>\n",
       "      <td>8.965621</td>\n",
       "      <td>10.891645</td>\n",
       "      <td>0.504117</td>\n",
       "      <td>0.563792</td>\n",
       "      <td>0.521799</td>\n",
       "      <td>...</td>\n",
       "      <td>89.770732</td>\n",
       "      <td>89.770732</td>\n",
       "      <td>89.770732</td>\n",
       "      <td>0.006389</td>\n",
       "      <td>9.000000</td>\n",
       "      <td>9.000000</td>\n",
       "      <td>9.000000</td>\n",
       "      <td>NaN</td>\n",
       "      <td>Car</td>\n",
       "      <td>andrea</td>\n",
       "    </tr>\n",
       "    <tr>\n",
       "      <th>...</th>\n",
       "      <td>...</td>\n",
       "      <td>...</td>\n",
       "      <td>...</td>\n",
       "      <td>...</td>\n",
       "      <td>...</td>\n",
       "      <td>...</td>\n",
       "      <td>...</td>\n",
       "      <td>...</td>\n",
       "      <td>...</td>\n",
       "      <td>...</td>\n",
       "      <td>...</td>\n",
       "      <td>...</td>\n",
       "      <td>...</td>\n",
       "      <td>...</td>\n",
       "      <td>...</td>\n",
       "      <td>...</td>\n",
       "      <td>...</td>\n",
       "      <td>...</td>\n",
       "      <td>...</td>\n",
       "      <td>...</td>\n",
       "      <td>...</td>\n",
       "    </tr>\n",
       "    <tr>\n",
       "      <th>5888</th>\n",
       "      <td>14125</td>\n",
       "      <td>4.0</td>\n",
       "      <td>NaN</td>\n",
       "      <td>100.0</td>\n",
       "      <td>10.066610</td>\n",
       "      <td>4.564648</td>\n",
       "      <td>13.414389</td>\n",
       "      <td>3.373972</td>\n",
       "      <td>0.986319</td>\n",
       "      <td>0.974523</td>\n",
       "      <td>...</td>\n",
       "      <td>NaN</td>\n",
       "      <td>NaN</td>\n",
       "      <td>NaN</td>\n",
       "      <td>NaN</td>\n",
       "      <td>NaN</td>\n",
       "      <td>NaN</td>\n",
       "      <td>NaN</td>\n",
       "      <td>NaN</td>\n",
       "      <td>Walking</td>\n",
       "      <td>IvanHeibi</td>\n",
       "    </tr>\n",
       "    <tr>\n",
       "      <th>5889</th>\n",
       "      <td>19582</td>\n",
       "      <td>32.0</td>\n",
       "      <td>NaN</td>\n",
       "      <td>10.0</td>\n",
       "      <td>9.964271</td>\n",
       "      <td>8.768007</td>\n",
       "      <td>11.454213</td>\n",
       "      <td>0.665529</td>\n",
       "      <td>0.648602</td>\n",
       "      <td>0.648343</td>\n",
       "      <td>...</td>\n",
       "      <td>NaN</td>\n",
       "      <td>NaN</td>\n",
       "      <td>NaN</td>\n",
       "      <td>NaN</td>\n",
       "      <td>31.960054</td>\n",
       "      <td>31.960054</td>\n",
       "      <td>31.960054</td>\n",
       "      <td>NaN</td>\n",
       "      <td>Train</td>\n",
       "      <td>Pierpaolo</td>\n",
       "    </tr>\n",
       "    <tr>\n",
       "      <th>5890</th>\n",
       "      <td>16178</td>\n",
       "      <td>86.0</td>\n",
       "      <td>NaN</td>\n",
       "      <td>100.0</td>\n",
       "      <td>9.812893</td>\n",
       "      <td>9.772881</td>\n",
       "      <td>9.862587</td>\n",
       "      <td>0.017633</td>\n",
       "      <td>0.024392</td>\n",
       "      <td>0.024081</td>\n",
       "      <td>...</td>\n",
       "      <td>NaN</td>\n",
       "      <td>NaN</td>\n",
       "      <td>NaN</td>\n",
       "      <td>NaN</td>\n",
       "      <td>0.000000</td>\n",
       "      <td>0.000000</td>\n",
       "      <td>0.000000</td>\n",
       "      <td>0.000000</td>\n",
       "      <td>Still</td>\n",
       "      <td>Luca</td>\n",
       "    </tr>\n",
       "    <tr>\n",
       "      <th>5891</th>\n",
       "      <td>10973</td>\n",
       "      <td>199.0</td>\n",
       "      <td>NaN</td>\n",
       "      <td>100.0</td>\n",
       "      <td>9.831144</td>\n",
       "      <td>9.807347</td>\n",
       "      <td>9.874450</td>\n",
       "      <td>0.013485</td>\n",
       "      <td>0.481212</td>\n",
       "      <td>0.481209</td>\n",
       "      <td>...</td>\n",
       "      <td>NaN</td>\n",
       "      <td>NaN</td>\n",
       "      <td>NaN</td>\n",
       "      <td>NaN</td>\n",
       "      <td>1.090415</td>\n",
       "      <td>1.090415</td>\n",
       "      <td>1.090415</td>\n",
       "      <td>NaN</td>\n",
       "      <td>Still</td>\n",
       "      <td>Damiano</td>\n",
       "    </tr>\n",
       "    <tr>\n",
       "      <th>5892</th>\n",
       "      <td>8278</td>\n",
       "      <td>55.0</td>\n",
       "      <td>NaN</td>\n",
       "      <td>100.0</td>\n",
       "      <td>11.051009</td>\n",
       "      <td>5.203285</td>\n",
       "      <td>19.921068</td>\n",
       "      <td>4.745098</td>\n",
       "      <td>0.919815</td>\n",
       "      <td>0.892571</td>\n",
       "      <td>...</td>\n",
       "      <td>89.712441</td>\n",
       "      <td>89.712441</td>\n",
       "      <td>89.712441</td>\n",
       "      <td>0.006400</td>\n",
       "      <td>0.750000</td>\n",
       "      <td>0.750000</td>\n",
       "      <td>0.750000</td>\n",
       "      <td>NaN</td>\n",
       "      <td>Walking</td>\n",
       "      <td>andrea</td>\n",
       "    </tr>\n",
       "  </tbody>\n",
       "</table>\n",
       "<p>5893 rows × 70 columns</p>\n",
       "</div>"
      ],
      "text/plain": [
       "         id   time  activityrecognition#0  activityrecognition#1  \\\n",
       "0     16170   78.0                    NaN                  100.0   \n",
       "1     15871  145.0                    NaN                  100.0   \n",
       "2     16811  150.0                    NaN                  100.0   \n",
       "3     15831  105.0                    NaN                   77.0   \n",
       "4       876   77.0                    NaN                  100.0   \n",
       "...     ...    ...                    ...                    ...   \n",
       "5888  14125    4.0                    NaN                  100.0   \n",
       "5889  19582   32.0                    NaN                   10.0   \n",
       "5890  16178   86.0                    NaN                  100.0   \n",
       "5891  10973  199.0                    NaN                  100.0   \n",
       "5892   8278   55.0                    NaN                  100.0   \n",
       "\n",
       "      android.sensor.accelerometer#mean  android.sensor.accelerometer#min  \\\n",
       "0                              9.811476                          9.758895   \n",
       "1                              9.939207                          7.707437   \n",
       "2                              9.827178                          9.804817   \n",
       "3                              9.673039                          7.659674   \n",
       "4                              9.993466                          8.965621   \n",
       "...                                 ...                               ...   \n",
       "5888                          10.066610                          4.564648   \n",
       "5889                           9.964271                          8.768007   \n",
       "5890                           9.812893                          9.772881   \n",
       "5891                           9.831144                          9.807347   \n",
       "5892                          11.051009                          5.203285   \n",
       "\n",
       "      android.sensor.accelerometer#max  android.sensor.accelerometer#std  \\\n",
       "0                             9.849411                          0.014626   \n",
       "1                            17.146631                          1.775944   \n",
       "2                             9.849262                          0.011199   \n",
       "3                            12.304298                          0.862553   \n",
       "4                            10.891645                          0.504117   \n",
       "...                                ...                               ...   \n",
       "5888                         13.414389                          3.373972   \n",
       "5889                         11.454213                          0.665529   \n",
       "5890                          9.862587                          0.017633   \n",
       "5891                          9.874450                          0.013485   \n",
       "5892                         19.921068                          4.745098   \n",
       "\n",
       "      android.sensor.game_rotation_vector#mean  \\\n",
       "0                                     0.029340   \n",
       "1                                     0.999925   \n",
       "2                                     0.665215   \n",
       "3                                     0.996221   \n",
       "4                                     0.563792   \n",
       "...                                        ...   \n",
       "5888                                  0.986319   \n",
       "5889                                  0.648602   \n",
       "5890                                  0.024392   \n",
       "5891                                  0.481212   \n",
       "5892                                  0.919815   \n",
       "\n",
       "      android.sensor.game_rotation_vector#min  ...  sound#mean  sound#min  \\\n",
       "0                                    0.029014  ...         NaN        NaN   \n",
       "1                                    0.999903  ...   89.200210  89.065143   \n",
       "2                                    0.665213  ...         NaN        NaN   \n",
       "3                                    0.993781  ...   87.470377  87.470377   \n",
       "4                                    0.521799  ...   89.770732  89.770732   \n",
       "...                                       ...  ...         ...        ...   \n",
       "5888                                 0.974523  ...         NaN        NaN   \n",
       "5889                                 0.648343  ...         NaN        NaN   \n",
       "5890                                 0.024081  ...         NaN        NaN   \n",
       "5891                                 0.481209  ...         NaN        NaN   \n",
       "5892                                 0.892571  ...   89.712441  89.712441   \n",
       "\n",
       "      sound#max  sound#std  speed#mean  speed#min  speed#max  speed#std  \\\n",
       "0           NaN        NaN    0.000000   0.000000   0.000000   0.000000   \n",
       "1     89.335277   0.191013   16.539349  16.539349  16.539349   0.628595   \n",
       "2           NaN        NaN    0.000000   0.000000   0.000000   0.000000   \n",
       "3     87.470377   2.284186   17.739895  17.739895  17.739895   0.628595   \n",
       "4     89.770732   0.006389    9.000000   9.000000   9.000000        NaN   \n",
       "...         ...        ...         ...        ...        ...        ...   \n",
       "5888        NaN        NaN         NaN        NaN        NaN        NaN   \n",
       "5889        NaN        NaN   31.960054  31.960054  31.960054        NaN   \n",
       "5890        NaN        NaN    0.000000   0.000000   0.000000   0.000000   \n",
       "5891        NaN        NaN    1.090415   1.090415   1.090415        NaN   \n",
       "5892  89.712441   0.006400    0.750000   0.750000   0.750000        NaN   \n",
       "\n",
       "       target       user  \n",
       "0       Still       Luca  \n",
       "1         Car       Luca  \n",
       "2       Still       Luca  \n",
       "3         Car       Luca  \n",
       "4         Car     andrea  \n",
       "...       ...        ...  \n",
       "5888  Walking  IvanHeibi  \n",
       "5889    Train  Pierpaolo  \n",
       "5890    Still       Luca  \n",
       "5891    Still    Damiano  \n",
       "5892  Walking     andrea  \n",
       "\n",
       "[5893 rows x 70 columns]"
      ]
     },
     "execution_count": 183,
     "metadata": {},
     "output_type": "execute_result"
    }
   ],
   "source": [
    "df"
   ]
  },
  {
   "cell_type": "code",
   "execution_count": 185,
   "id": "union-mountain",
   "metadata": {},
   "outputs": [],
   "source": [
    "#df.apply(preprocessing.LabelEncoder().fit_transform(df['user']))"
   ]
  },
  {
   "cell_type": "code",
   "execution_count": 186,
   "id": "separated-endorsement",
   "metadata": {},
   "outputs": [
    {
     "data": {
      "text/plain": [
       "andrea             2470\n",
       "Luca                820\n",
       "Damiano             531\n",
       "michelangelo        397\n",
       "Pierpaolo           331\n",
       "Vincenzo            279\n",
       "IvanHeibi           271\n",
       "AndreaCarpineti     227\n",
       "Federica            214\n",
       "Serena              167\n",
       "Claudio              90\n",
       "Elena                79\n",
       "Riccardo             17\n",
       "Name: user, dtype: int64"
      ]
     },
     "execution_count": 186,
     "metadata": {},
     "output_type": "execute_result"
    }
   ],
   "source": [
    "user_df = df['user'].value_counts()\n",
    "user_df"
   ]
  },
  {
   "cell_type": "code",
   "execution_count": 187,
   "id": "literary-browser",
   "metadata": {},
   "outputs": [
    {
     "data": {
      "text/plain": [
       "Car        1180\n",
       "Still      1179\n",
       "Train      1179\n",
       "Bus        1178\n",
       "Walking    1177\n",
       "Name: target, dtype: int64"
      ]
     },
     "execution_count": 187,
     "metadata": {},
     "output_type": "execute_result"
    }
   ],
   "source": [
    "df['target'].value_counts()"
   ]
  },
  {
   "cell_type": "code",
   "execution_count": 188,
   "id": "continental-chapel",
   "metadata": {},
   "outputs": [
    {
     "data": {
      "text/html": [
       "<div>\n",
       "<style scoped>\n",
       "    .dataframe tbody tr th:only-of-type {\n",
       "        vertical-align: middle;\n",
       "    }\n",
       "\n",
       "    .dataframe tbody tr th {\n",
       "        vertical-align: top;\n",
       "    }\n",
       "\n",
       "    .dataframe thead th {\n",
       "        text-align: right;\n",
       "    }\n",
       "</style>\n",
       "<table border=\"1\" class=\"dataframe\">\n",
       "  <thead>\n",
       "    <tr style=\"text-align: right;\">\n",
       "      <th></th>\n",
       "      <th>id</th>\n",
       "      <th>time</th>\n",
       "      <th>activityrecognition#0</th>\n",
       "      <th>activityrecognition#1</th>\n",
       "      <th>android.sensor.accelerometer#mean</th>\n",
       "      <th>android.sensor.accelerometer#min</th>\n",
       "      <th>android.sensor.accelerometer#max</th>\n",
       "      <th>android.sensor.accelerometer#std</th>\n",
       "      <th>android.sensor.game_rotation_vector#mean</th>\n",
       "      <th>android.sensor.game_rotation_vector#min</th>\n",
       "      <th>...</th>\n",
       "      <th>sound#mean</th>\n",
       "      <th>sound#min</th>\n",
       "      <th>sound#max</th>\n",
       "      <th>sound#std</th>\n",
       "      <th>speed#mean</th>\n",
       "      <th>speed#min</th>\n",
       "      <th>speed#max</th>\n",
       "      <th>speed#std</th>\n",
       "      <th>target</th>\n",
       "      <th>user</th>\n",
       "    </tr>\n",
       "  </thead>\n",
       "  <tbody>\n",
       "    <tr>\n",
       "      <th>0</th>\n",
       "      <td>16170</td>\n",
       "      <td>78.0</td>\n",
       "      <td>NaN</td>\n",
       "      <td>100.0</td>\n",
       "      <td>9.811476</td>\n",
       "      <td>9.758895</td>\n",
       "      <td>9.849411</td>\n",
       "      <td>0.014626</td>\n",
       "      <td>0.029340</td>\n",
       "      <td>0.029014</td>\n",
       "      <td>...</td>\n",
       "      <td>NaN</td>\n",
       "      <td>NaN</td>\n",
       "      <td>NaN</td>\n",
       "      <td>NaN</td>\n",
       "      <td>0.000000</td>\n",
       "      <td>0.000000</td>\n",
       "      <td>0.000000</td>\n",
       "      <td>0.000000</td>\n",
       "      <td>2</td>\n",
       "      <td>Luca</td>\n",
       "    </tr>\n",
       "    <tr>\n",
       "      <th>1</th>\n",
       "      <td>15871</td>\n",
       "      <td>145.0</td>\n",
       "      <td>NaN</td>\n",
       "      <td>100.0</td>\n",
       "      <td>9.939207</td>\n",
       "      <td>7.707437</td>\n",
       "      <td>17.146631</td>\n",
       "      <td>1.775944</td>\n",
       "      <td>0.999925</td>\n",
       "      <td>0.999903</td>\n",
       "      <td>...</td>\n",
       "      <td>89.200210</td>\n",
       "      <td>89.065143</td>\n",
       "      <td>89.335277</td>\n",
       "      <td>0.191013</td>\n",
       "      <td>16.539349</td>\n",
       "      <td>16.539349</td>\n",
       "      <td>16.539349</td>\n",
       "      <td>0.628595</td>\n",
       "      <td>1</td>\n",
       "      <td>Luca</td>\n",
       "    </tr>\n",
       "    <tr>\n",
       "      <th>2</th>\n",
       "      <td>16811</td>\n",
       "      <td>150.0</td>\n",
       "      <td>NaN</td>\n",
       "      <td>100.0</td>\n",
       "      <td>9.827178</td>\n",
       "      <td>9.804817</td>\n",
       "      <td>9.849262</td>\n",
       "      <td>0.011199</td>\n",
       "      <td>0.665215</td>\n",
       "      <td>0.665213</td>\n",
       "      <td>...</td>\n",
       "      <td>NaN</td>\n",
       "      <td>NaN</td>\n",
       "      <td>NaN</td>\n",
       "      <td>NaN</td>\n",
       "      <td>0.000000</td>\n",
       "      <td>0.000000</td>\n",
       "      <td>0.000000</td>\n",
       "      <td>0.000000</td>\n",
       "      <td>2</td>\n",
       "      <td>Luca</td>\n",
       "    </tr>\n",
       "    <tr>\n",
       "      <th>3</th>\n",
       "      <td>15831</td>\n",
       "      <td>105.0</td>\n",
       "      <td>NaN</td>\n",
       "      <td>77.0</td>\n",
       "      <td>9.673039</td>\n",
       "      <td>7.659674</td>\n",
       "      <td>12.304298</td>\n",
       "      <td>0.862553</td>\n",
       "      <td>0.996221</td>\n",
       "      <td>0.993781</td>\n",
       "      <td>...</td>\n",
       "      <td>87.470377</td>\n",
       "      <td>87.470377</td>\n",
       "      <td>87.470377</td>\n",
       "      <td>2.284186</td>\n",
       "      <td>17.739895</td>\n",
       "      <td>17.739895</td>\n",
       "      <td>17.739895</td>\n",
       "      <td>0.628595</td>\n",
       "      <td>1</td>\n",
       "      <td>Luca</td>\n",
       "    </tr>\n",
       "    <tr>\n",
       "      <th>4</th>\n",
       "      <td>876</td>\n",
       "      <td>77.0</td>\n",
       "      <td>NaN</td>\n",
       "      <td>100.0</td>\n",
       "      <td>9.993466</td>\n",
       "      <td>8.965621</td>\n",
       "      <td>10.891645</td>\n",
       "      <td>0.504117</td>\n",
       "      <td>0.563792</td>\n",
       "      <td>0.521799</td>\n",
       "      <td>...</td>\n",
       "      <td>89.770732</td>\n",
       "      <td>89.770732</td>\n",
       "      <td>89.770732</td>\n",
       "      <td>0.006389</td>\n",
       "      <td>9.000000</td>\n",
       "      <td>9.000000</td>\n",
       "      <td>9.000000</td>\n",
       "      <td>NaN</td>\n",
       "      <td>1</td>\n",
       "      <td>andrea</td>\n",
       "    </tr>\n",
       "    <tr>\n",
       "      <th>...</th>\n",
       "      <td>...</td>\n",
       "      <td>...</td>\n",
       "      <td>...</td>\n",
       "      <td>...</td>\n",
       "      <td>...</td>\n",
       "      <td>...</td>\n",
       "      <td>...</td>\n",
       "      <td>...</td>\n",
       "      <td>...</td>\n",
       "      <td>...</td>\n",
       "      <td>...</td>\n",
       "      <td>...</td>\n",
       "      <td>...</td>\n",
       "      <td>...</td>\n",
       "      <td>...</td>\n",
       "      <td>...</td>\n",
       "      <td>...</td>\n",
       "      <td>...</td>\n",
       "      <td>...</td>\n",
       "      <td>...</td>\n",
       "      <td>...</td>\n",
       "    </tr>\n",
       "    <tr>\n",
       "      <th>5888</th>\n",
       "      <td>14125</td>\n",
       "      <td>4.0</td>\n",
       "      <td>NaN</td>\n",
       "      <td>100.0</td>\n",
       "      <td>10.066610</td>\n",
       "      <td>4.564648</td>\n",
       "      <td>13.414389</td>\n",
       "      <td>3.373972</td>\n",
       "      <td>0.986319</td>\n",
       "      <td>0.974523</td>\n",
       "      <td>...</td>\n",
       "      <td>NaN</td>\n",
       "      <td>NaN</td>\n",
       "      <td>NaN</td>\n",
       "      <td>NaN</td>\n",
       "      <td>NaN</td>\n",
       "      <td>NaN</td>\n",
       "      <td>NaN</td>\n",
       "      <td>NaN</td>\n",
       "      <td>5</td>\n",
       "      <td>IvanHeibi</td>\n",
       "    </tr>\n",
       "    <tr>\n",
       "      <th>5889</th>\n",
       "      <td>19582</td>\n",
       "      <td>32.0</td>\n",
       "      <td>NaN</td>\n",
       "      <td>10.0</td>\n",
       "      <td>9.964271</td>\n",
       "      <td>8.768007</td>\n",
       "      <td>11.454213</td>\n",
       "      <td>0.665529</td>\n",
       "      <td>0.648602</td>\n",
       "      <td>0.648343</td>\n",
       "      <td>...</td>\n",
       "      <td>NaN</td>\n",
       "      <td>NaN</td>\n",
       "      <td>NaN</td>\n",
       "      <td>NaN</td>\n",
       "      <td>31.960054</td>\n",
       "      <td>31.960054</td>\n",
       "      <td>31.960054</td>\n",
       "      <td>NaN</td>\n",
       "      <td>3</td>\n",
       "      <td>Pierpaolo</td>\n",
       "    </tr>\n",
       "    <tr>\n",
       "      <th>5890</th>\n",
       "      <td>16178</td>\n",
       "      <td>86.0</td>\n",
       "      <td>NaN</td>\n",
       "      <td>100.0</td>\n",
       "      <td>9.812893</td>\n",
       "      <td>9.772881</td>\n",
       "      <td>9.862587</td>\n",
       "      <td>0.017633</td>\n",
       "      <td>0.024392</td>\n",
       "      <td>0.024081</td>\n",
       "      <td>...</td>\n",
       "      <td>NaN</td>\n",
       "      <td>NaN</td>\n",
       "      <td>NaN</td>\n",
       "      <td>NaN</td>\n",
       "      <td>0.000000</td>\n",
       "      <td>0.000000</td>\n",
       "      <td>0.000000</td>\n",
       "      <td>0.000000</td>\n",
       "      <td>2</td>\n",
       "      <td>Luca</td>\n",
       "    </tr>\n",
       "    <tr>\n",
       "      <th>5891</th>\n",
       "      <td>10973</td>\n",
       "      <td>199.0</td>\n",
       "      <td>NaN</td>\n",
       "      <td>100.0</td>\n",
       "      <td>9.831144</td>\n",
       "      <td>9.807347</td>\n",
       "      <td>9.874450</td>\n",
       "      <td>0.013485</td>\n",
       "      <td>0.481212</td>\n",
       "      <td>0.481209</td>\n",
       "      <td>...</td>\n",
       "      <td>NaN</td>\n",
       "      <td>NaN</td>\n",
       "      <td>NaN</td>\n",
       "      <td>NaN</td>\n",
       "      <td>1.090415</td>\n",
       "      <td>1.090415</td>\n",
       "      <td>1.090415</td>\n",
       "      <td>NaN</td>\n",
       "      <td>2</td>\n",
       "      <td>Damiano</td>\n",
       "    </tr>\n",
       "    <tr>\n",
       "      <th>5892</th>\n",
       "      <td>8278</td>\n",
       "      <td>55.0</td>\n",
       "      <td>NaN</td>\n",
       "      <td>100.0</td>\n",
       "      <td>11.051009</td>\n",
       "      <td>5.203285</td>\n",
       "      <td>19.921068</td>\n",
       "      <td>4.745098</td>\n",
       "      <td>0.919815</td>\n",
       "      <td>0.892571</td>\n",
       "      <td>...</td>\n",
       "      <td>89.712441</td>\n",
       "      <td>89.712441</td>\n",
       "      <td>89.712441</td>\n",
       "      <td>0.006400</td>\n",
       "      <td>0.750000</td>\n",
       "      <td>0.750000</td>\n",
       "      <td>0.750000</td>\n",
       "      <td>NaN</td>\n",
       "      <td>5</td>\n",
       "      <td>andrea</td>\n",
       "    </tr>\n",
       "  </tbody>\n",
       "</table>\n",
       "<p>5893 rows × 70 columns</p>\n",
       "</div>"
      ],
      "text/plain": [
       "         id   time  activityrecognition#0  activityrecognition#1  \\\n",
       "0     16170   78.0                    NaN                  100.0   \n",
       "1     15871  145.0                    NaN                  100.0   \n",
       "2     16811  150.0                    NaN                  100.0   \n",
       "3     15831  105.0                    NaN                   77.0   \n",
       "4       876   77.0                    NaN                  100.0   \n",
       "...     ...    ...                    ...                    ...   \n",
       "5888  14125    4.0                    NaN                  100.0   \n",
       "5889  19582   32.0                    NaN                   10.0   \n",
       "5890  16178   86.0                    NaN                  100.0   \n",
       "5891  10973  199.0                    NaN                  100.0   \n",
       "5892   8278   55.0                    NaN                  100.0   \n",
       "\n",
       "      android.sensor.accelerometer#mean  android.sensor.accelerometer#min  \\\n",
       "0                              9.811476                          9.758895   \n",
       "1                              9.939207                          7.707437   \n",
       "2                              9.827178                          9.804817   \n",
       "3                              9.673039                          7.659674   \n",
       "4                              9.993466                          8.965621   \n",
       "...                                 ...                               ...   \n",
       "5888                          10.066610                          4.564648   \n",
       "5889                           9.964271                          8.768007   \n",
       "5890                           9.812893                          9.772881   \n",
       "5891                           9.831144                          9.807347   \n",
       "5892                          11.051009                          5.203285   \n",
       "\n",
       "      android.sensor.accelerometer#max  android.sensor.accelerometer#std  \\\n",
       "0                             9.849411                          0.014626   \n",
       "1                            17.146631                          1.775944   \n",
       "2                             9.849262                          0.011199   \n",
       "3                            12.304298                          0.862553   \n",
       "4                            10.891645                          0.504117   \n",
       "...                                ...                               ...   \n",
       "5888                         13.414389                          3.373972   \n",
       "5889                         11.454213                          0.665529   \n",
       "5890                          9.862587                          0.017633   \n",
       "5891                          9.874450                          0.013485   \n",
       "5892                         19.921068                          4.745098   \n",
       "\n",
       "      android.sensor.game_rotation_vector#mean  \\\n",
       "0                                     0.029340   \n",
       "1                                     0.999925   \n",
       "2                                     0.665215   \n",
       "3                                     0.996221   \n",
       "4                                     0.563792   \n",
       "...                                        ...   \n",
       "5888                                  0.986319   \n",
       "5889                                  0.648602   \n",
       "5890                                  0.024392   \n",
       "5891                                  0.481212   \n",
       "5892                                  0.919815   \n",
       "\n",
       "      android.sensor.game_rotation_vector#min  ...  sound#mean  sound#min  \\\n",
       "0                                    0.029014  ...         NaN        NaN   \n",
       "1                                    0.999903  ...   89.200210  89.065143   \n",
       "2                                    0.665213  ...         NaN        NaN   \n",
       "3                                    0.993781  ...   87.470377  87.470377   \n",
       "4                                    0.521799  ...   89.770732  89.770732   \n",
       "...                                       ...  ...         ...        ...   \n",
       "5888                                 0.974523  ...         NaN        NaN   \n",
       "5889                                 0.648343  ...         NaN        NaN   \n",
       "5890                                 0.024081  ...         NaN        NaN   \n",
       "5891                                 0.481209  ...         NaN        NaN   \n",
       "5892                                 0.892571  ...   89.712441  89.712441   \n",
       "\n",
       "      sound#max  sound#std  speed#mean  speed#min  speed#max  speed#std  \\\n",
       "0           NaN        NaN    0.000000   0.000000   0.000000   0.000000   \n",
       "1     89.335277   0.191013   16.539349  16.539349  16.539349   0.628595   \n",
       "2           NaN        NaN    0.000000   0.000000   0.000000   0.000000   \n",
       "3     87.470377   2.284186   17.739895  17.739895  17.739895   0.628595   \n",
       "4     89.770732   0.006389    9.000000   9.000000   9.000000        NaN   \n",
       "...         ...        ...         ...        ...        ...        ...   \n",
       "5888        NaN        NaN         NaN        NaN        NaN        NaN   \n",
       "5889        NaN        NaN   31.960054  31.960054  31.960054        NaN   \n",
       "5890        NaN        NaN    0.000000   0.000000   0.000000   0.000000   \n",
       "5891        NaN        NaN    1.090415   1.090415   1.090415        NaN   \n",
       "5892  89.712441   0.006400    0.750000   0.750000   0.750000        NaN   \n",
       "\n",
       "      target       user  \n",
       "0          2       Luca  \n",
       "1          1       Luca  \n",
       "2          2       Luca  \n",
       "3          1       Luca  \n",
       "4          1     andrea  \n",
       "...      ...        ...  \n",
       "5888       5  IvanHeibi  \n",
       "5889       3  Pierpaolo  \n",
       "5890       2       Luca  \n",
       "5891       2    Damiano  \n",
       "5892       5     andrea  \n",
       "\n",
       "[5893 rows x 70 columns]"
      ]
     },
     "execution_count": 188,
     "metadata": {},
     "output_type": "execute_result"
    }
   ],
   "source": [
    "cleanup_target = {\"target\": {\"Car\":1,\"Still\":2,\"Train\":3,\"Bus\":4,\"Walking\":5}}\n",
    "df = df.replace(cleanup_target)\n",
    "df"
   ]
  },
  {
   "cell_type": "code",
   "execution_count": 189,
   "id": "combined-promise",
   "metadata": {},
   "outputs": [
    {
     "data": {
      "text/html": [
       "<div>\n",
       "<style scoped>\n",
       "    .dataframe tbody tr th:only-of-type {\n",
       "        vertical-align: middle;\n",
       "    }\n",
       "\n",
       "    .dataframe tbody tr th {\n",
       "        vertical-align: top;\n",
       "    }\n",
       "\n",
       "    .dataframe thead th {\n",
       "        text-align: right;\n",
       "    }\n",
       "</style>\n",
       "<table border=\"1\" class=\"dataframe\">\n",
       "  <thead>\n",
       "    <tr style=\"text-align: right;\">\n",
       "      <th></th>\n",
       "      <th>id</th>\n",
       "      <th>time</th>\n",
       "      <th>activityrecognition#0</th>\n",
       "      <th>activityrecognition#1</th>\n",
       "      <th>android.sensor.accelerometer#mean</th>\n",
       "      <th>android.sensor.accelerometer#min</th>\n",
       "      <th>android.sensor.accelerometer#max</th>\n",
       "      <th>android.sensor.accelerometer#std</th>\n",
       "      <th>android.sensor.game_rotation_vector#mean</th>\n",
       "      <th>android.sensor.game_rotation_vector#min</th>\n",
       "      <th>...</th>\n",
       "      <th>sound#mean</th>\n",
       "      <th>sound#min</th>\n",
       "      <th>sound#max</th>\n",
       "      <th>sound#std</th>\n",
       "      <th>speed#mean</th>\n",
       "      <th>speed#min</th>\n",
       "      <th>speed#max</th>\n",
       "      <th>speed#std</th>\n",
       "      <th>target</th>\n",
       "      <th>user</th>\n",
       "    </tr>\n",
       "  </thead>\n",
       "  <tbody>\n",
       "    <tr>\n",
       "      <th>0</th>\n",
       "      <td>16170</td>\n",
       "      <td>78.0</td>\n",
       "      <td>NaN</td>\n",
       "      <td>100.0</td>\n",
       "      <td>9.811476</td>\n",
       "      <td>9.758895</td>\n",
       "      <td>9.849411</td>\n",
       "      <td>0.014626</td>\n",
       "      <td>0.029340</td>\n",
       "      <td>0.029014</td>\n",
       "      <td>...</td>\n",
       "      <td>NaN</td>\n",
       "      <td>NaN</td>\n",
       "      <td>NaN</td>\n",
       "      <td>NaN</td>\n",
       "      <td>0.000000</td>\n",
       "      <td>0.000000</td>\n",
       "      <td>0.000000</td>\n",
       "      <td>0.000000</td>\n",
       "      <td>2</td>\n",
       "      <td>2</td>\n",
       "    </tr>\n",
       "    <tr>\n",
       "      <th>1</th>\n",
       "      <td>15871</td>\n",
       "      <td>145.0</td>\n",
       "      <td>NaN</td>\n",
       "      <td>100.0</td>\n",
       "      <td>9.939207</td>\n",
       "      <td>7.707437</td>\n",
       "      <td>17.146631</td>\n",
       "      <td>1.775944</td>\n",
       "      <td>0.999925</td>\n",
       "      <td>0.999903</td>\n",
       "      <td>...</td>\n",
       "      <td>89.200210</td>\n",
       "      <td>89.065143</td>\n",
       "      <td>89.335277</td>\n",
       "      <td>0.191013</td>\n",
       "      <td>16.539349</td>\n",
       "      <td>16.539349</td>\n",
       "      <td>16.539349</td>\n",
       "      <td>0.628595</td>\n",
       "      <td>1</td>\n",
       "      <td>2</td>\n",
       "    </tr>\n",
       "    <tr>\n",
       "      <th>2</th>\n",
       "      <td>16811</td>\n",
       "      <td>150.0</td>\n",
       "      <td>NaN</td>\n",
       "      <td>100.0</td>\n",
       "      <td>9.827178</td>\n",
       "      <td>9.804817</td>\n",
       "      <td>9.849262</td>\n",
       "      <td>0.011199</td>\n",
       "      <td>0.665215</td>\n",
       "      <td>0.665213</td>\n",
       "      <td>...</td>\n",
       "      <td>NaN</td>\n",
       "      <td>NaN</td>\n",
       "      <td>NaN</td>\n",
       "      <td>NaN</td>\n",
       "      <td>0.000000</td>\n",
       "      <td>0.000000</td>\n",
       "      <td>0.000000</td>\n",
       "      <td>0.000000</td>\n",
       "      <td>2</td>\n",
       "      <td>2</td>\n",
       "    </tr>\n",
       "    <tr>\n",
       "      <th>3</th>\n",
       "      <td>15831</td>\n",
       "      <td>105.0</td>\n",
       "      <td>NaN</td>\n",
       "      <td>77.0</td>\n",
       "      <td>9.673039</td>\n",
       "      <td>7.659674</td>\n",
       "      <td>12.304298</td>\n",
       "      <td>0.862553</td>\n",
       "      <td>0.996221</td>\n",
       "      <td>0.993781</td>\n",
       "      <td>...</td>\n",
       "      <td>87.470377</td>\n",
       "      <td>87.470377</td>\n",
       "      <td>87.470377</td>\n",
       "      <td>2.284186</td>\n",
       "      <td>17.739895</td>\n",
       "      <td>17.739895</td>\n",
       "      <td>17.739895</td>\n",
       "      <td>0.628595</td>\n",
       "      <td>1</td>\n",
       "      <td>2</td>\n",
       "    </tr>\n",
       "    <tr>\n",
       "      <th>4</th>\n",
       "      <td>876</td>\n",
       "      <td>77.0</td>\n",
       "      <td>NaN</td>\n",
       "      <td>100.0</td>\n",
       "      <td>9.993466</td>\n",
       "      <td>8.965621</td>\n",
       "      <td>10.891645</td>\n",
       "      <td>0.504117</td>\n",
       "      <td>0.563792</td>\n",
       "      <td>0.521799</td>\n",
       "      <td>...</td>\n",
       "      <td>89.770732</td>\n",
       "      <td>89.770732</td>\n",
       "      <td>89.770732</td>\n",
       "      <td>0.006389</td>\n",
       "      <td>9.000000</td>\n",
       "      <td>9.000000</td>\n",
       "      <td>9.000000</td>\n",
       "      <td>NaN</td>\n",
       "      <td>1</td>\n",
       "      <td>1</td>\n",
       "    </tr>\n",
       "    <tr>\n",
       "      <th>...</th>\n",
       "      <td>...</td>\n",
       "      <td>...</td>\n",
       "      <td>...</td>\n",
       "      <td>...</td>\n",
       "      <td>...</td>\n",
       "      <td>...</td>\n",
       "      <td>...</td>\n",
       "      <td>...</td>\n",
       "      <td>...</td>\n",
       "      <td>...</td>\n",
       "      <td>...</td>\n",
       "      <td>...</td>\n",
       "      <td>...</td>\n",
       "      <td>...</td>\n",
       "      <td>...</td>\n",
       "      <td>...</td>\n",
       "      <td>...</td>\n",
       "      <td>...</td>\n",
       "      <td>...</td>\n",
       "      <td>...</td>\n",
       "      <td>...</td>\n",
       "    </tr>\n",
       "    <tr>\n",
       "      <th>5888</th>\n",
       "      <td>14125</td>\n",
       "      <td>4.0</td>\n",
       "      <td>NaN</td>\n",
       "      <td>100.0</td>\n",
       "      <td>10.066610</td>\n",
       "      <td>4.564648</td>\n",
       "      <td>13.414389</td>\n",
       "      <td>3.373972</td>\n",
       "      <td>0.986319</td>\n",
       "      <td>0.974523</td>\n",
       "      <td>...</td>\n",
       "      <td>NaN</td>\n",
       "      <td>NaN</td>\n",
       "      <td>NaN</td>\n",
       "      <td>NaN</td>\n",
       "      <td>NaN</td>\n",
       "      <td>NaN</td>\n",
       "      <td>NaN</td>\n",
       "      <td>NaN</td>\n",
       "      <td>5</td>\n",
       "      <td>7</td>\n",
       "    </tr>\n",
       "    <tr>\n",
       "      <th>5889</th>\n",
       "      <td>19582</td>\n",
       "      <td>32.0</td>\n",
       "      <td>NaN</td>\n",
       "      <td>10.0</td>\n",
       "      <td>9.964271</td>\n",
       "      <td>8.768007</td>\n",
       "      <td>11.454213</td>\n",
       "      <td>0.665529</td>\n",
       "      <td>0.648602</td>\n",
       "      <td>0.648343</td>\n",
       "      <td>...</td>\n",
       "      <td>NaN</td>\n",
       "      <td>NaN</td>\n",
       "      <td>NaN</td>\n",
       "      <td>NaN</td>\n",
       "      <td>31.960054</td>\n",
       "      <td>31.960054</td>\n",
       "      <td>31.960054</td>\n",
       "      <td>NaN</td>\n",
       "      <td>3</td>\n",
       "      <td>5</td>\n",
       "    </tr>\n",
       "    <tr>\n",
       "      <th>5890</th>\n",
       "      <td>16178</td>\n",
       "      <td>86.0</td>\n",
       "      <td>NaN</td>\n",
       "      <td>100.0</td>\n",
       "      <td>9.812893</td>\n",
       "      <td>9.772881</td>\n",
       "      <td>9.862587</td>\n",
       "      <td>0.017633</td>\n",
       "      <td>0.024392</td>\n",
       "      <td>0.024081</td>\n",
       "      <td>...</td>\n",
       "      <td>NaN</td>\n",
       "      <td>NaN</td>\n",
       "      <td>NaN</td>\n",
       "      <td>NaN</td>\n",
       "      <td>0.000000</td>\n",
       "      <td>0.000000</td>\n",
       "      <td>0.000000</td>\n",
       "      <td>0.000000</td>\n",
       "      <td>2</td>\n",
       "      <td>2</td>\n",
       "    </tr>\n",
       "    <tr>\n",
       "      <th>5891</th>\n",
       "      <td>10973</td>\n",
       "      <td>199.0</td>\n",
       "      <td>NaN</td>\n",
       "      <td>100.0</td>\n",
       "      <td>9.831144</td>\n",
       "      <td>9.807347</td>\n",
       "      <td>9.874450</td>\n",
       "      <td>0.013485</td>\n",
       "      <td>0.481212</td>\n",
       "      <td>0.481209</td>\n",
       "      <td>...</td>\n",
       "      <td>NaN</td>\n",
       "      <td>NaN</td>\n",
       "      <td>NaN</td>\n",
       "      <td>NaN</td>\n",
       "      <td>1.090415</td>\n",
       "      <td>1.090415</td>\n",
       "      <td>1.090415</td>\n",
       "      <td>NaN</td>\n",
       "      <td>2</td>\n",
       "      <td>3</td>\n",
       "    </tr>\n",
       "    <tr>\n",
       "      <th>5892</th>\n",
       "      <td>8278</td>\n",
       "      <td>55.0</td>\n",
       "      <td>NaN</td>\n",
       "      <td>100.0</td>\n",
       "      <td>11.051009</td>\n",
       "      <td>5.203285</td>\n",
       "      <td>19.921068</td>\n",
       "      <td>4.745098</td>\n",
       "      <td>0.919815</td>\n",
       "      <td>0.892571</td>\n",
       "      <td>...</td>\n",
       "      <td>89.712441</td>\n",
       "      <td>89.712441</td>\n",
       "      <td>89.712441</td>\n",
       "      <td>0.006400</td>\n",
       "      <td>0.750000</td>\n",
       "      <td>0.750000</td>\n",
       "      <td>0.750000</td>\n",
       "      <td>NaN</td>\n",
       "      <td>5</td>\n",
       "      <td>1</td>\n",
       "    </tr>\n",
       "  </tbody>\n",
       "</table>\n",
       "<p>5893 rows × 70 columns</p>\n",
       "</div>"
      ],
      "text/plain": [
       "         id   time  activityrecognition#0  activityrecognition#1  \\\n",
       "0     16170   78.0                    NaN                  100.0   \n",
       "1     15871  145.0                    NaN                  100.0   \n",
       "2     16811  150.0                    NaN                  100.0   \n",
       "3     15831  105.0                    NaN                   77.0   \n",
       "4       876   77.0                    NaN                  100.0   \n",
       "...     ...    ...                    ...                    ...   \n",
       "5888  14125    4.0                    NaN                  100.0   \n",
       "5889  19582   32.0                    NaN                   10.0   \n",
       "5890  16178   86.0                    NaN                  100.0   \n",
       "5891  10973  199.0                    NaN                  100.0   \n",
       "5892   8278   55.0                    NaN                  100.0   \n",
       "\n",
       "      android.sensor.accelerometer#mean  android.sensor.accelerometer#min  \\\n",
       "0                              9.811476                          9.758895   \n",
       "1                              9.939207                          7.707437   \n",
       "2                              9.827178                          9.804817   \n",
       "3                              9.673039                          7.659674   \n",
       "4                              9.993466                          8.965621   \n",
       "...                                 ...                               ...   \n",
       "5888                          10.066610                          4.564648   \n",
       "5889                           9.964271                          8.768007   \n",
       "5890                           9.812893                          9.772881   \n",
       "5891                           9.831144                          9.807347   \n",
       "5892                          11.051009                          5.203285   \n",
       "\n",
       "      android.sensor.accelerometer#max  android.sensor.accelerometer#std  \\\n",
       "0                             9.849411                          0.014626   \n",
       "1                            17.146631                          1.775944   \n",
       "2                             9.849262                          0.011199   \n",
       "3                            12.304298                          0.862553   \n",
       "4                            10.891645                          0.504117   \n",
       "...                                ...                               ...   \n",
       "5888                         13.414389                          3.373972   \n",
       "5889                         11.454213                          0.665529   \n",
       "5890                          9.862587                          0.017633   \n",
       "5891                          9.874450                          0.013485   \n",
       "5892                         19.921068                          4.745098   \n",
       "\n",
       "      android.sensor.game_rotation_vector#mean  \\\n",
       "0                                     0.029340   \n",
       "1                                     0.999925   \n",
       "2                                     0.665215   \n",
       "3                                     0.996221   \n",
       "4                                     0.563792   \n",
       "...                                        ...   \n",
       "5888                                  0.986319   \n",
       "5889                                  0.648602   \n",
       "5890                                  0.024392   \n",
       "5891                                  0.481212   \n",
       "5892                                  0.919815   \n",
       "\n",
       "      android.sensor.game_rotation_vector#min  ...  sound#mean  sound#min  \\\n",
       "0                                    0.029014  ...         NaN        NaN   \n",
       "1                                    0.999903  ...   89.200210  89.065143   \n",
       "2                                    0.665213  ...         NaN        NaN   \n",
       "3                                    0.993781  ...   87.470377  87.470377   \n",
       "4                                    0.521799  ...   89.770732  89.770732   \n",
       "...                                       ...  ...         ...        ...   \n",
       "5888                                 0.974523  ...         NaN        NaN   \n",
       "5889                                 0.648343  ...         NaN        NaN   \n",
       "5890                                 0.024081  ...         NaN        NaN   \n",
       "5891                                 0.481209  ...         NaN        NaN   \n",
       "5892                                 0.892571  ...   89.712441  89.712441   \n",
       "\n",
       "      sound#max  sound#std  speed#mean  speed#min  speed#max  speed#std  \\\n",
       "0           NaN        NaN    0.000000   0.000000   0.000000   0.000000   \n",
       "1     89.335277   0.191013   16.539349  16.539349  16.539349   0.628595   \n",
       "2           NaN        NaN    0.000000   0.000000   0.000000   0.000000   \n",
       "3     87.470377   2.284186   17.739895  17.739895  17.739895   0.628595   \n",
       "4     89.770732   0.006389    9.000000   9.000000   9.000000        NaN   \n",
       "...         ...        ...         ...        ...        ...        ...   \n",
       "5888        NaN        NaN         NaN        NaN        NaN        NaN   \n",
       "5889        NaN        NaN   31.960054  31.960054  31.960054        NaN   \n",
       "5890        NaN        NaN    0.000000   0.000000   0.000000   0.000000   \n",
       "5891        NaN        NaN    1.090415   1.090415   1.090415        NaN   \n",
       "5892  89.712441   0.006400    0.750000   0.750000   0.750000        NaN   \n",
       "\n",
       "      target  user  \n",
       "0          2     2  \n",
       "1          1     2  \n",
       "2          2     2  \n",
       "3          1     2  \n",
       "4          1     1  \n",
       "...      ...   ...  \n",
       "5888       5     7  \n",
       "5889       3     5  \n",
       "5890       2     2  \n",
       "5891       2     3  \n",
       "5892       5     1  \n",
       "\n",
       "[5893 rows x 70 columns]"
      ]
     },
     "execution_count": 189,
     "metadata": {},
     "output_type": "execute_result"
    }
   ],
   "source": [
    "cleanup_nums = {\"user\": {\"andrea\": 1, \"Luca\": 2, \"Damiano\": 3,\"michelangelo\": 4,\n",
    "                         \"Pierpaolo\": 5, \"Vincenzo\": 6,\"IvanHeibi\":7,\"AndreaCarpineti\":8,\n",
    "                         \"Federica\":9,\"Serena\":10,\"Claudio\":11,\"Elena\":12,\n",
    "                         \"Riccardo\":13}}\n",
    "\n",
    "df = df.replace(cleanup_nums)\n",
    "df"
   ]
  },
  {
   "cell_type": "code",
   "execution_count": 190,
   "id": "premium-scholarship",
   "metadata": {},
   "outputs": [
    {
     "data": {
      "text/html": [
       "<div>\n",
       "<style scoped>\n",
       "    .dataframe tbody tr th:only-of-type {\n",
       "        vertical-align: middle;\n",
       "    }\n",
       "\n",
       "    .dataframe tbody tr th {\n",
       "        vertical-align: top;\n",
       "    }\n",
       "\n",
       "    .dataframe thead th {\n",
       "        text-align: right;\n",
       "    }\n",
       "</style>\n",
       "<table border=\"1\" class=\"dataframe\">\n",
       "  <thead>\n",
       "    <tr style=\"text-align: right;\">\n",
       "      <th></th>\n",
       "      <th>id</th>\n",
       "      <th>time</th>\n",
       "      <th>activityrecognition#1</th>\n",
       "      <th>android.sensor.accelerometer#mean</th>\n",
       "      <th>android.sensor.accelerometer#min</th>\n",
       "      <th>android.sensor.accelerometer#max</th>\n",
       "      <th>android.sensor.accelerometer#std</th>\n",
       "      <th>android.sensor.game_rotation_vector#mean</th>\n",
       "      <th>android.sensor.game_rotation_vector#min</th>\n",
       "      <th>android.sensor.game_rotation_vector#max</th>\n",
       "      <th>...</th>\n",
       "      <th>sound#mean</th>\n",
       "      <th>sound#min</th>\n",
       "      <th>sound#max</th>\n",
       "      <th>sound#std</th>\n",
       "      <th>speed#mean</th>\n",
       "      <th>speed#min</th>\n",
       "      <th>speed#max</th>\n",
       "      <th>speed#std</th>\n",
       "      <th>target</th>\n",
       "      <th>user</th>\n",
       "    </tr>\n",
       "  </thead>\n",
       "  <tbody>\n",
       "    <tr>\n",
       "      <th>2946</th>\n",
       "      <td>5228</td>\n",
       "      <td>190.0</td>\n",
       "      <td>92.0</td>\n",
       "      <td>10.179832</td>\n",
       "      <td>10.137434</td>\n",
       "      <td>10.207683</td>\n",
       "      <td>0.020380</td>\n",
       "      <td>0.995086</td>\n",
       "      <td>0.995067</td>\n",
       "      <td>0.995112</td>\n",
       "      <td>...</td>\n",
       "      <td>84.350732</td>\n",
       "      <td>84.350732</td>\n",
       "      <td>84.350732</td>\n",
       "      <td>0.923820</td>\n",
       "      <td>8.235254</td>\n",
       "      <td>8.216747</td>\n",
       "      <td>8.253528</td>\n",
       "      <td>0.236959</td>\n",
       "      <td>3</td>\n",
       "      <td>1</td>\n",
       "    </tr>\n",
       "    <tr>\n",
       "      <th>3075</th>\n",
       "      <td>5835</td>\n",
       "      <td>193.0</td>\n",
       "      <td>35.0</td>\n",
       "      <td>10.179362</td>\n",
       "      <td>9.853068</td>\n",
       "      <td>10.587065</td>\n",
       "      <td>0.167584</td>\n",
       "      <td>0.987558</td>\n",
       "      <td>0.987359</td>\n",
       "      <td>0.987745</td>\n",
       "      <td>...</td>\n",
       "      <td>89.762268</td>\n",
       "      <td>89.762268</td>\n",
       "      <td>89.762268</td>\n",
       "      <td>0.001198</td>\n",
       "      <td>8.235254</td>\n",
       "      <td>8.216747</td>\n",
       "      <td>8.253528</td>\n",
       "      <td>0.236959</td>\n",
       "      <td>3</td>\n",
       "      <td>1</td>\n",
       "    </tr>\n",
       "    <tr>\n",
       "      <th>3076</th>\n",
       "      <td>2274</td>\n",
       "      <td>256.0</td>\n",
       "      <td>8.0</td>\n",
       "      <td>9.657759</td>\n",
       "      <td>9.029124</td>\n",
       "      <td>10.286443</td>\n",
       "      <td>0.414025</td>\n",
       "      <td>0.844973</td>\n",
       "      <td>0.840452</td>\n",
       "      <td>0.851091</td>\n",
       "      <td>...</td>\n",
       "      <td>89.769040</td>\n",
       "      <td>89.769040</td>\n",
       "      <td>89.769040</td>\n",
       "      <td>0.013131</td>\n",
       "      <td>30.750000</td>\n",
       "      <td>30.750000</td>\n",
       "      <td>30.750000</td>\n",
       "      <td>0.236959</td>\n",
       "      <td>1</td>\n",
       "      <td>1</td>\n",
       "    </tr>\n",
       "    <tr>\n",
       "      <th>3077</th>\n",
       "      <td>7287</td>\n",
       "      <td>86.0</td>\n",
       "      <td>100.0</td>\n",
       "      <td>10.299321</td>\n",
       "      <td>8.088142</td>\n",
       "      <td>12.456252</td>\n",
       "      <td>1.604990</td>\n",
       "      <td>0.968824</td>\n",
       "      <td>0.956427</td>\n",
       "      <td>0.975352</td>\n",
       "      <td>...</td>\n",
       "      <td>88.572737</td>\n",
       "      <td>88.572737</td>\n",
       "      <td>88.572737</td>\n",
       "      <td>0.095157</td>\n",
       "      <td>0.750000</td>\n",
       "      <td>0.750000</td>\n",
       "      <td>0.750000</td>\n",
       "      <td>0.236959</td>\n",
       "      <td>5</td>\n",
       "      <td>1</td>\n",
       "    </tr>\n",
       "    <tr>\n",
       "      <th>3079</th>\n",
       "      <td>184</td>\n",
       "      <td>91.0</td>\n",
       "      <td>85.0</td>\n",
       "      <td>9.729062</td>\n",
       "      <td>7.139446</td>\n",
       "      <td>14.355289</td>\n",
       "      <td>2.184604</td>\n",
       "      <td>0.928255</td>\n",
       "      <td>0.925184</td>\n",
       "      <td>0.931989</td>\n",
       "      <td>...</td>\n",
       "      <td>89.773691</td>\n",
       "      <td>89.767912</td>\n",
       "      <td>89.779470</td>\n",
       "      <td>0.008173</td>\n",
       "      <td>11.000000</td>\n",
       "      <td>11.000000</td>\n",
       "      <td>11.000000</td>\n",
       "      <td>0.236959</td>\n",
       "      <td>4</td>\n",
       "      <td>1</td>\n",
       "    </tr>\n",
       "    <tr>\n",
       "      <th>...</th>\n",
       "      <td>...</td>\n",
       "      <td>...</td>\n",
       "      <td>...</td>\n",
       "      <td>...</td>\n",
       "      <td>...</td>\n",
       "      <td>...</td>\n",
       "      <td>...</td>\n",
       "      <td>...</td>\n",
       "      <td>...</td>\n",
       "      <td>...</td>\n",
       "      <td>...</td>\n",
       "      <td>...</td>\n",
       "      <td>...</td>\n",
       "      <td>...</td>\n",
       "      <td>...</td>\n",
       "      <td>...</td>\n",
       "      <td>...</td>\n",
       "      <td>...</td>\n",
       "      <td>...</td>\n",
       "      <td>...</td>\n",
       "      <td>...</td>\n",
       "    </tr>\n",
       "    <tr>\n",
       "      <th>5063</th>\n",
       "      <td>20310</td>\n",
       "      <td>25.0</td>\n",
       "      <td>100.0</td>\n",
       "      <td>10.637163</td>\n",
       "      <td>2.471217</td>\n",
       "      <td>28.961093</td>\n",
       "      <td>5.469623</td>\n",
       "      <td>0.814607</td>\n",
       "      <td>0.814607</td>\n",
       "      <td>0.814607</td>\n",
       "      <td>...</td>\n",
       "      <td>84.941781</td>\n",
       "      <td>84.941781</td>\n",
       "      <td>84.941781</td>\n",
       "      <td>0.945771</td>\n",
       "      <td>1.463377</td>\n",
       "      <td>1.463377</td>\n",
       "      <td>1.463377</td>\n",
       "      <td>0.010040</td>\n",
       "      <td>5</td>\n",
       "      <td>13</td>\n",
       "    </tr>\n",
       "    <tr>\n",
       "      <th>1296</th>\n",
       "      <td>20330</td>\n",
       "      <td>45.0</td>\n",
       "      <td>100.0</td>\n",
       "      <td>11.333011</td>\n",
       "      <td>3.124888</td>\n",
       "      <td>35.098704</td>\n",
       "      <td>5.852742</td>\n",
       "      <td>0.763646</td>\n",
       "      <td>0.763646</td>\n",
       "      <td>0.763646</td>\n",
       "      <td>...</td>\n",
       "      <td>82.625956</td>\n",
       "      <td>82.625956</td>\n",
       "      <td>82.625956</td>\n",
       "      <td>5.321307</td>\n",
       "      <td>0.891086</td>\n",
       "      <td>0.883836</td>\n",
       "      <td>0.898335</td>\n",
       "      <td>0.010252</td>\n",
       "      <td>5</td>\n",
       "      <td>13</td>\n",
       "    </tr>\n",
       "    <tr>\n",
       "      <th>1619</th>\n",
       "      <td>20292</td>\n",
       "      <td>7.0</td>\n",
       "      <td>100.0</td>\n",
       "      <td>10.592901</td>\n",
       "      <td>4.633172</td>\n",
       "      <td>16.071722</td>\n",
       "      <td>2.962479</td>\n",
       "      <td>0.710383</td>\n",
       "      <td>0.647101</td>\n",
       "      <td>0.761554</td>\n",
       "      <td>...</td>\n",
       "      <td>84.591077</td>\n",
       "      <td>84.591077</td>\n",
       "      <td>84.591077</td>\n",
       "      <td>1.913065</td>\n",
       "      <td>1.402243</td>\n",
       "      <td>1.402243</td>\n",
       "      <td>1.402243</td>\n",
       "      <td>0.236959</td>\n",
       "      <td>5</td>\n",
       "      <td>13</td>\n",
       "    </tr>\n",
       "    <tr>\n",
       "      <th>2314</th>\n",
       "      <td>20299</td>\n",
       "      <td>14.0</td>\n",
       "      <td>100.0</td>\n",
       "      <td>11.132643</td>\n",
       "      <td>7.024562</td>\n",
       "      <td>18.064503</td>\n",
       "      <td>2.831729</td>\n",
       "      <td>0.923661</td>\n",
       "      <td>0.910555</td>\n",
       "      <td>0.943459</td>\n",
       "      <td>...</td>\n",
       "      <td>76.260939</td>\n",
       "      <td>76.260939</td>\n",
       "      <td>76.260939</td>\n",
       "      <td>1.913065</td>\n",
       "      <td>1.213918</td>\n",
       "      <td>1.213918</td>\n",
       "      <td>1.213918</td>\n",
       "      <td>0.236959</td>\n",
       "      <td>5</td>\n",
       "      <td>13</td>\n",
       "    </tr>\n",
       "    <tr>\n",
       "      <th>640</th>\n",
       "      <td>20308</td>\n",
       "      <td>23.0</td>\n",
       "      <td>100.0</td>\n",
       "      <td>9.746732</td>\n",
       "      <td>3.348920</td>\n",
       "      <td>19.931811</td>\n",
       "      <td>4.062253</td>\n",
       "      <td>0.984727</td>\n",
       "      <td>0.984727</td>\n",
       "      <td>0.984727</td>\n",
       "      <td>...</td>\n",
       "      <td>87.408041</td>\n",
       "      <td>87.408041</td>\n",
       "      <td>87.408041</td>\n",
       "      <td>0.945771</td>\n",
       "      <td>1.463377</td>\n",
       "      <td>1.463377</td>\n",
       "      <td>1.463377</td>\n",
       "      <td>0.010040</td>\n",
       "      <td>5</td>\n",
       "      <td>13</td>\n",
       "    </tr>\n",
       "  </tbody>\n",
       "</table>\n",
       "<p>5893 rows × 69 columns</p>\n",
       "</div>"
      ],
      "text/plain": [
       "         id   time  activityrecognition#1  android.sensor.accelerometer#mean  \\\n",
       "2946   5228  190.0                   92.0                          10.179832   \n",
       "3075   5835  193.0                   35.0                          10.179362   \n",
       "3076   2274  256.0                    8.0                           9.657759   \n",
       "3077   7287   86.0                  100.0                          10.299321   \n",
       "3079    184   91.0                   85.0                           9.729062   \n",
       "...     ...    ...                    ...                                ...   \n",
       "5063  20310   25.0                  100.0                          10.637163   \n",
       "1296  20330   45.0                  100.0                          11.333011   \n",
       "1619  20292    7.0                  100.0                          10.592901   \n",
       "2314  20299   14.0                  100.0                          11.132643   \n",
       "640   20308   23.0                  100.0                           9.746732   \n",
       "\n",
       "      android.sensor.accelerometer#min  android.sensor.accelerometer#max  \\\n",
       "2946                         10.137434                         10.207683   \n",
       "3075                          9.853068                         10.587065   \n",
       "3076                          9.029124                         10.286443   \n",
       "3077                          8.088142                         12.456252   \n",
       "3079                          7.139446                         14.355289   \n",
       "...                                ...                               ...   \n",
       "5063                          2.471217                         28.961093   \n",
       "1296                          3.124888                         35.098704   \n",
       "1619                          4.633172                         16.071722   \n",
       "2314                          7.024562                         18.064503   \n",
       "640                           3.348920                         19.931811   \n",
       "\n",
       "      android.sensor.accelerometer#std  \\\n",
       "2946                          0.020380   \n",
       "3075                          0.167584   \n",
       "3076                          0.414025   \n",
       "3077                          1.604990   \n",
       "3079                          2.184604   \n",
       "...                                ...   \n",
       "5063                          5.469623   \n",
       "1296                          5.852742   \n",
       "1619                          2.962479   \n",
       "2314                          2.831729   \n",
       "640                           4.062253   \n",
       "\n",
       "      android.sensor.game_rotation_vector#mean  \\\n",
       "2946                                  0.995086   \n",
       "3075                                  0.987558   \n",
       "3076                                  0.844973   \n",
       "3077                                  0.968824   \n",
       "3079                                  0.928255   \n",
       "...                                        ...   \n",
       "5063                                  0.814607   \n",
       "1296                                  0.763646   \n",
       "1619                                  0.710383   \n",
       "2314                                  0.923661   \n",
       "640                                   0.984727   \n",
       "\n",
       "      android.sensor.game_rotation_vector#min  \\\n",
       "2946                                 0.995067   \n",
       "3075                                 0.987359   \n",
       "3076                                 0.840452   \n",
       "3077                                 0.956427   \n",
       "3079                                 0.925184   \n",
       "...                                       ...   \n",
       "5063                                 0.814607   \n",
       "1296                                 0.763646   \n",
       "1619                                 0.647101   \n",
       "2314                                 0.910555   \n",
       "640                                  0.984727   \n",
       "\n",
       "      android.sensor.game_rotation_vector#max  ...  sound#mean  sound#min  \\\n",
       "2946                                 0.995112  ...   84.350732  84.350732   \n",
       "3075                                 0.987745  ...   89.762268  89.762268   \n",
       "3076                                 0.851091  ...   89.769040  89.769040   \n",
       "3077                                 0.975352  ...   88.572737  88.572737   \n",
       "3079                                 0.931989  ...   89.773691  89.767912   \n",
       "...                                       ...  ...         ...        ...   \n",
       "5063                                 0.814607  ...   84.941781  84.941781   \n",
       "1296                                 0.763646  ...   82.625956  82.625956   \n",
       "1619                                 0.761554  ...   84.591077  84.591077   \n",
       "2314                                 0.943459  ...   76.260939  76.260939   \n",
       "640                                  0.984727  ...   87.408041  87.408041   \n",
       "\n",
       "      sound#max  sound#std  speed#mean  speed#min  speed#max  speed#std  \\\n",
       "2946  84.350732   0.923820    8.235254   8.216747   8.253528   0.236959   \n",
       "3075  89.762268   0.001198    8.235254   8.216747   8.253528   0.236959   \n",
       "3076  89.769040   0.013131   30.750000  30.750000  30.750000   0.236959   \n",
       "3077  88.572737   0.095157    0.750000   0.750000   0.750000   0.236959   \n",
       "3079  89.779470   0.008173   11.000000  11.000000  11.000000   0.236959   \n",
       "...         ...        ...         ...        ...        ...        ...   \n",
       "5063  84.941781   0.945771    1.463377   1.463377   1.463377   0.010040   \n",
       "1296  82.625956   5.321307    0.891086   0.883836   0.898335   0.010252   \n",
       "1619  84.591077   1.913065    1.402243   1.402243   1.402243   0.236959   \n",
       "2314  76.260939   1.913065    1.213918   1.213918   1.213918   0.236959   \n",
       "640   87.408041   0.945771    1.463377   1.463377   1.463377   0.010040   \n",
       "\n",
       "      target  user  \n",
       "2946       3     1  \n",
       "3075       3     1  \n",
       "3076       1     1  \n",
       "3077       5     1  \n",
       "3079       4     1  \n",
       "...      ...   ...  \n",
       "5063       5    13  \n",
       "1296       5    13  \n",
       "1619       5    13  \n",
       "2314       5    13  \n",
       "640        5    13  \n",
       "\n",
       "[5893 rows x 69 columns]"
      ]
     },
     "execution_count": 190,
     "metadata": {},
     "output_type": "execute_result"
    }
   ],
   "source": [
    "# sorting the df by column\n",
    "df1 = df.sort_values(by=['user'])\n",
    "df1 = df1.dropna(axis=1, how='all')\n",
    "df1 = df1.fillna(df.mean())\n",
    "df1"
   ]
  },
  {
   "cell_type": "code",
   "execution_count": 191,
   "id": "yellow-simulation",
   "metadata": {},
   "outputs": [
    {
     "name": "stdout",
     "output_type": "stream",
     "text": [
      "andrea             2470\n",
      "Luca                820\n",
      "Damiano             531\n",
      "michelangelo        397\n",
      "Pierpaolo           331\n",
      "Vincenzo            279\n",
      "IvanHeibi           271\n",
      "AndreaCarpineti     227\n",
      "Federica            214\n",
      "Serena              167\n",
      "Claudio              90\n",
      "Elena                79\n",
      "Riccardo             17\n",
      "Name: user, dtype: int64\n",
      "2470 cum_percentage 0.42\n",
      "3290 cum_percentage 0.56\n",
      "3821 cum_percentage 0.65\n",
      "4218 cum_percentage 0.72\n",
      "4549 cum_percentage 0.77\n",
      "4828 cum_percentage 0.82\n",
      "5099 cum_percentage 0.87\n",
      "5326 cum_percentage 0.9\n",
      "5540 cum_percentage 0.94\n",
      "5707 cum_percentage 0.97\n",
      "5797 cum_percentage 0.98\n",
      "5876 cum_percentage 1.0\n",
      "5893 cum_percentage 1.0\n"
     ]
    }
   ],
   "source": [
    "print(user_df)\n",
    "total_cum = 0\n",
    "for items in user_df.iteritems():\n",
    "    total_cum += items[1]\n",
    "    print(total_cum, \"cum_percentage\",round(total_cum/5893,2))"
   ]
  },
  {
   "cell_type": "code",
   "execution_count": 192,
   "id": "computational-sixth",
   "metadata": {},
   "outputs": [
    {
     "data": {
      "text/plain": [
       "<AxesSubplot:>"
      ]
     },
     "execution_count": 192,
     "metadata": {},
     "output_type": "execute_result"
    },
    {
     "data": {
      "image/png": "[encoded data removed]",
      "text/plain": [
       "<Figure size 432x288 with 1 Axes>"
      ]
     },
     "metadata": {
      "needs_background": "light"
     },
     "output_type": "display_data"
    }
   ],
   "source": [
    "df['user'].value_counts().plot(kind='bar')"
   ]
  },
  {
   "cell_type": "code",
   "execution_count": 193,
   "id": "lesbian-drain",
   "metadata": {},
   "outputs": [
    {
     "data": {
      "text/plain": [
       "0"
      ]
     },
     "execution_count": 193,
     "metadata": {},
     "output_type": "execute_result"
    }
   ],
   "source": [
    "## splitting for test \n",
    "df1.isna().any().sum()\n"
   ]
  },
  {
   "cell_type": "code",
   "execution_count": 195,
   "id": "random-mobility",
   "metadata": {},
   "outputs": [],
   "source": [
    "#df1"
   ]
  },
  {
   "cell_type": "code",
   "execution_count": 196,
   "id": "comfortable-azerbaijan",
   "metadata": {},
   "outputs": [],
   "source": [
    "df2 = df1\n"
   ]
  },
  {
   "cell_type": "code",
   "execution_count": 137,
   "id": "framed-level",
   "metadata": {},
   "outputs": [
    {
     "name": "stdout",
     "output_type": "stream",
     "text": [
      "Before Removing Outliers\n"
     ]
    },
    {
     "data": {
      "image/png": "[encoded data removed]",
      "text/plain": [
       "<Figure size 432x288 with 1 Axes>"
      ]
     },
     "metadata": {
      "needs_background": "light"
     },
     "output_type": "display_data"
    },
    {
     "name": "stdout",
     "output_type": "stream",
     "text": [
      "Before Removing Outliers\n"
     ]
    },
    {
     "data": {
      "image/png": "[encoded data removed]",
      "text/plain": [
       "<Figure size 432x288 with 1 Axes>"
      ]
     },
     "metadata": {
      "needs_background": "light"
     },
     "output_type": "display_data"
    },
    {
     "name": "stdout",
     "output_type": "stream",
     "text": [
      "Before Removing Outliers\n"
     ]
    },
    {
     "data": {
      "image/png": "[encoded data removed]",
      "text/plain": [
       "<Figure size 432x288 with 1 Axes>"
      ]
     },
     "metadata": {
      "needs_background": "light"
     },
     "output_type": "display_data"
    },
    {
     "name": "stdout",
     "output_type": "stream",
     "text": [
      "Before Removing Outliers\n"
     ]
    },
    {
     "data": {
      "image/png": "[encoded data removed]",
      "text/plain": [
       "<Figure size 432x288 with 1 Axes>"
      ]
     },
     "metadata": {
      "needs_background": "light"
     },
     "output_type": "display_data"
    },
    {
     "name": "stdout",
     "output_type": "stream",
     "text": [
      "Before Removing Outliers\n"
     ]
    },
    {
     "data": {
      "image/png": "[encoded data removed]",
      "text/plain": [
       "<Figure size 432x288 with 1 Axes>"
      ]
     },
     "metadata": {
      "needs_background": "light"
     },
     "output_type": "display_data"
    },
    {
     "name": "stdout",
     "output_type": "stream",
     "text": [
      "Before Removing Outliers\n"
     ]
    },
    {
     "data": {
      "image/png": "[encoded data removed]",
      "text/plain": [
       "<Figure size 432x288 with 1 Axes>"
      ]
     },
     "metadata": {
      "needs_background": "light"
     },
     "output_type": "display_data"
    },
    {
     "name": "stdout",
     "output_type": "stream",
     "text": [
      "Before Removing Outliers\n"
     ]
    },
    {
     "data": {
      "image/png": "[encoded data removed]",
      "text/plain": [
       "<Figure size 432x288 with 1 Axes>"
      ]
     },
     "metadata": {
      "needs_background": "light"
     },
     "output_type": "display_data"
    },
    {
     "name": "stdout",
     "output_type": "stream",
     "text": [
      "Before Removing Outliers\n"
     ]
    },
    {
     "data": {
      "image/png": "[encoded data removed]",
      "text/plain": [
       "<Figure size 432x288 with 1 Axes>"
      ]
     },
     "metadata": {
      "needs_background": "light"
     },
     "output_type": "display_data"
    },
    {
     "name": "stdout",
     "output_type": "stream",
     "text": [
      "Before Removing Outliers\n"
     ]
    },
    {
     "data": {
      "image/png": "[encoded data removed]",
      "text/plain": [
       "<Figure size 432x288 with 1 Axes>"
      ]
     },
     "metadata": {
      "needs_background": "light"
     },
     "output_type": "display_data"
    },
    {
     "name": "stdout",
     "output_type": "stream",
     "text": [
      "Before Removing Outliers\n"
     ]
    },
    {
     "data": {
      "image/png": "[encoded data removed]",
      "text/plain": [
       "<Figure size 432x288 with 1 Axes>"
      ]
     },
     "metadata": {
      "needs_background": "light"
     },
     "output_type": "display_data"
    },
    {
     "name": "stdout",
     "output_type": "stream",
     "text": [
      "Before Removing Outliers\n"
     ]
    },
    {
     "data": {
      "image/png": "[encoded data removed]",
      "text/plain": [
       "<Figure size 432x288 with 1 Axes>"
      ]
     },
     "metadata": {
      "needs_background": "light"
     },
     "output_type": "display_data"
    },
    {
     "name": "stdout",
     "output_type": "stream",
     "text": [
      "Before Removing Outliers\n"
     ]
    },
    {
     "data": {
      "image/png": "[encoded data removed]",
      "text/plain": [
       "<Figure size 432x288 with 1 Axes>"
      ]
     },
     "metadata": {
      "needs_background": "light"
     },
     "output_type": "display_data"
    },
    {
     "name": "stdout",
     "output_type": "stream",
     "text": [
      "Before Removing Outliers\n"
     ]
    },
    {
     "data": {
      "image/png": "[encoded data removed]",
      "text/plain": [
       "<Figure size 432x288 with 1 Axes>"
      ]
     },
     "metadata": {
      "needs_background": "light"
     },
     "output_type": "display_data"
    },
    {
     "name": "stdout",
     "output_type": "stream",
     "text": [
      "Before Removing Outliers\n"
     ]
    },
    {
     "data": {
      "image/png": "[encoded data removed]",
      "text/plain": [
       "<Figure size 432x288 with 1 Axes>"
      ]
     },
     "metadata": {
      "needs_background": "light"
     },
     "output_type": "display_data"
    },
    {
     "name": "stdout",
     "output_type": "stream",
     "text": [
      "Before Removing Outliers\n"
     ]
    },
    {
     "data": {
      "image/png": "[encoded data removed]",
      "text/plain": [
       "<Figure size 432x288 with 1 Axes>"
      ]
     },
     "metadata": {
      "needs_background": "light"
     },
     "output_type": "display_data"
    },
    {
     "name": "stdout",
     "output_type": "stream",
     "text": [
      "Before Removing Outliers\n"
     ]
    },
    {
     "data": {
      "image/png": "[encoded data removed]",
      "text/plain": [
       "<Figure size 432x288 with 1 Axes>"
      ]
     },
     "metadata": {
      "needs_background": "light"
     },
     "output_type": "display_data"
    },
    {
     "name": "stdout",
     "output_type": "stream",
     "text": [
      "Before Removing Outliers\n"
     ]
    },
    {
     "data": {
      "image/png": "[encoded data removed]",
      "text/plain": [
       "<Figure size 432x288 with 1 Axes>"
      ]
     },
     "metadata": {
      "needs_background": "light"
     },
     "output_type": "display_data"
    },
    {
     "name": "stdout",
     "output_type": "stream",
     "text": [
      "Before Removing Outliers\n"
     ]
    },
    {
     "data": {
      "image/png": "[encoded data removed]",
      "text/plain": [
       "<Figure size 432x288 with 1 Axes>"
      ]
     },
     "metadata": {
      "needs_background": "light"
     },
     "output_type": "display_data"
    },
    {
     "name": "stdout",
     "output_type": "stream",
     "text": [
      "Before Removing Outliers\n"
     ]
    },
    {
     "data": {
      "image/png": "[encoded data removed]",
      "text/plain": [
       "<Figure size 432x288 with 1 Axes>"
      ]
     },
     "metadata": {
      "needs_background": "light"
     },
     "output_type": "display_data"
    },
    {
     "name": "stdout",
     "output_type": "stream",
     "text": [
      "Before Removing Outliers\n"
     ]
    },
    {
     "data": {
      "image/png": "[encoded data removed]",
      "text/plain": [
       "<Figure size 432x288 with 1 Axes>"
      ]
     },
     "metadata": {
      "needs_background": "light"
     },
     "output_type": "display_data"
    },
    {
     "name": "stdout",
     "output_type": "stream",
     "text": [
      "Before Removing Outliers\n"
     ]
    },
    {
     "data": {
      "image/png": "[encoded data removed]",
      "text/plain": [
       "<Figure size 432x288 with 1 Axes>"
      ]
     },
     "metadata": {
      "needs_background": "light"
     },
     "output_type": "display_data"
    },
    {
     "name": "stdout",
     "output_type": "stream",
     "text": [
      "Before Removing Outliers\n"
     ]
    },
    {
     "data": {
      "image/png": "[encoded data removed]",
      "text/plain": [
       "<Figure size 432x288 with 1 Axes>"
      ]
     },
     "metadata": {
      "needs_background": "light"
     },
     "output_type": "display_data"
    },
    {
     "name": "stdout",
     "output_type": "stream",
     "text": [
      "Before Removing Outliers\n"
     ]
    },
    {
     "data": {
      "image/png": "[encoded data removed]",
      "text/plain": [
       "<Figure size 432x288 with 1 Axes>"
      ]
     },
     "metadata": {
      "needs_background": "light"
     },
     "output_type": "display_data"
    },
    {
     "name": "stdout",
     "output_type": "stream",
     "text": [
      "Before Removing Outliers\n"
     ]
    },
    {
     "data": {
      "image/png": "[encoded data removed]",
      "text/plain": [
       "<Figure size 432x288 with 1 Axes>"
      ]
     },
     "metadata": {
      "needs_background": "light"
     },
     "output_type": "display_data"
    },
    {
     "name": "stdout",
     "output_type": "stream",
     "text": [
      "Before Removing Outliers\n"
     ]
    },
    {
     "data": {
      "image/png": "[encoded data removed]",
      "text/plain": [
       "<Figure size 432x288 with 1 Axes>"
      ]
     },
     "metadata": {
      "needs_background": "light"
     },
     "output_type": "display_data"
    },
    {
     "name": "stdout",
     "output_type": "stream",
     "text": [
      "Before Removing Outliers\n"
     ]
    },
    {
     "data": {
      "image/png": "[encoded data removed]",
      "text/plain": [
       "<Figure size 432x288 with 1 Axes>"
      ]
     },
     "metadata": {
      "needs_background": "light"
     },
     "output_type": "display_data"
    },
    {
     "name": "stdout",
     "output_type": "stream",
     "text": [
      "Before Removing Outliers\n"
     ]
    },
    {
     "data": {
      "image/png": "[encoded data removed]",
      "text/plain": [
       "<Figure size 432x288 with 1 Axes>"
      ]
     },
     "metadata": {
      "needs_background": "light"
     },
     "output_type": "display_data"
    },
    {
     "name": "stdout",
     "output_type": "stream",
     "text": [
      "Before Removing Outliers\n"
     ]
    },
    {
     "data": {
      "image/png": "[encoded data removed]",
      "text/plain": [
       "<Figure size 432x288 with 1 Axes>"
      ]
     },
     "metadata": {
      "needs_background": "light"
     },
     "output_type": "display_data"
    },
    {
     "name": "stdout",
     "output_type": "stream",
     "text": [
      "Before Removing Outliers\n"
     ]
    },
    {
     "data": {
      "image/png": "[encoded data removed]",
      "text/plain": [
       "<Figure size 432x288 with 1 Axes>"
      ]
     },
     "metadata": {
      "needs_background": "light"
     },
     "output_type": "display_data"
    },
    {
     "name": "stdout",
     "output_type": "stream",
     "text": [
      "Before Removing Outliers\n"
     ]
    },
    {
     "data": {
      "image/png": "[encoded data removed]",
      "text/plain": [
       "<Figure size 432x288 with 1 Axes>"
      ]
     },
     "metadata": {
      "needs_background": "light"
     },
     "output_type": "display_data"
    },
    {
     "name": "stdout",
     "output_type": "stream",
     "text": [
      "Before Removing Outliers\n"
     ]
    },
    {
     "data": {
      "image/png": "[encoded data removed]",
      "text/plain": [
       "<Figure size 432x288 with 1 Axes>"
      ]
     },
     "metadata": {
      "needs_background": "light"
     },
     "output_type": "display_data"
    },
    {
     "name": "stdout",
     "output_type": "stream",
     "text": [
      "Before Removing Outliers\n"
     ]
    },
    {
     "data": {
      "image/png": "[encoded data removed]",
      "text/plain": [
       "<Figure size 432x288 with 1 Axes>"
      ]
     },
     "metadata": {
      "needs_background": "light"
     },
     "output_type": "display_data"
    },
    {
     "name": "stdout",
     "output_type": "stream",
     "text": [
      "Before Removing Outliers\n"
     ]
    },
    {
     "data": {
      "image/png": "[encoded data removed]",
      "text/plain": [
       "<Figure size 432x288 with 1 Axes>"
      ]
     },
     "metadata": {
      "needs_background": "light"
     },
     "output_type": "display_data"
    },
    {
     "name": "stdout",
     "output_type": "stream",
     "text": [
      "Before Removing Outliers\n"
     ]
    },
    {
     "data": {
      "image/png": "[encoded data removed]",
      "text/plain": [
       "<Figure size 432x288 with 1 Axes>"
      ]
     },
     "metadata": {
      "needs_background": "light"
     },
     "output_type": "display_data"
    },
    {
     "name": "stdout",
     "output_type": "stream",
     "text": [
      "Before Removing Outliers\n"
     ]
    },
    {
     "data": {
      "image/png": "[encoded data removed]",
      "text/plain": [
       "<Figure size 432x288 with 1 Axes>"
      ]
     },
     "metadata": {
      "needs_background": "light"
     },
     "output_type": "display_data"
    },
    {
     "name": "stdout",
     "output_type": "stream",
     "text": [
      "Before Removing Outliers\n"
     ]
    },
    {
     "data": {
      "image/png": "[encoded data removed]",
      "text/plain": [
       "<Figure size 432x288 with 1 Axes>"
      ]
     },
     "metadata": {
      "needs_background": "light"
     },
     "output_type": "display_data"
    },
    {
     "name": "stdout",
     "output_type": "stream",
     "text": [
      "Before Removing Outliers\n"
     ]
    },
    {
     "data": {
      "image/png": "[encoded data removed]",
      "text/plain": [
       "<Figure size 432x288 with 1 Axes>"
      ]
     },
     "metadata": {
      "needs_background": "light"
     },
     "output_type": "display_data"
    },
    {
     "name": "stdout",
     "output_type": "stream",
     "text": [
      "Before Removing Outliers\n"
     ]
    },
    {
     "data": {
      "image/png": "[encoded data removed]",
      "text/plain": [
       "<Figure size 432x288 with 1 Axes>"
      ]
     },
     "metadata": {
      "needs_background": "light"
     },
     "output_type": "display_data"
    },
    {
     "name": "stdout",
     "output_type": "stream",
     "text": [
      "Before Removing Outliers\n"
     ]
    },
    {
     "data": {
      "image/png": "[encoded data removed]",
      "text/plain": [
       "<Figure size 432x288 with 1 Axes>"
      ]
     },
     "metadata": {
      "needs_background": "light"
     },
     "output_type": "display_data"
    },
    {
     "name": "stdout",
     "output_type": "stream",
     "text": [
      "Before Removing Outliers\n"
     ]
    },
    {
     "data": {
      "image/png": "[encoded data removed]",
      "text/plain": [
       "<Figure size 432x288 with 1 Axes>"
      ]
     },
     "metadata": {
      "needs_background": "light"
     },
     "output_type": "display_data"
    },
    {
     "name": "stdout",
     "output_type": "stream",
     "text": [
      "Before Removing Outliers\n"
     ]
    },
    {
     "data": {
      "image/png": "[encoded data removed]",
      "text/plain": [
       "<Figure size 432x288 with 1 Axes>"
      ]
     },
     "metadata": {
      "needs_background": "light"
     },
     "output_type": "display_data"
    },
    {
     "name": "stdout",
     "output_type": "stream",
     "text": [
      "Before Removing Outliers\n"
     ]
    },
    {
     "data": {
      "image/png": "[encoded data removed]",
      "text/plain": [
       "<Figure size 432x288 with 1 Axes>"
      ]
     },
     "metadata": {
      "needs_background": "light"
     },
     "output_type": "display_data"
    },
    {
     "name": "stdout",
     "output_type": "stream",
     "text": [
      "Before Removing Outliers\n"
     ]
    },
    {
     "data": {
      "image/png": "[encoded data removed]",
      "text/plain": [
       "<Figure size 432x288 with 1 Axes>"
      ]
     },
     "metadata": {
      "needs_background": "light"
     },
     "output_type": "display_data"
    },
    {
     "name": "stdout",
     "output_type": "stream",
     "text": [
      "Before Removing Outliers\n"
     ]
    },
    {
     "data": {
      "image/png": "[encoded data removed]",
      "text/plain": [
       "<Figure size 432x288 with 1 Axes>"
      ]
     },
     "metadata": {
      "needs_background": "light"
     },
     "output_type": "display_data"
    },
    {
     "name": "stdout",
     "output_type": "stream",
     "text": [
      "Before Removing Outliers\n"
     ]
    },
    {
     "data": {
      "image/png": "[encoded data removed]",
      "text/plain": [
       "<Figure size 432x288 with 1 Axes>"
      ]
     },
     "metadata": {
      "needs_background": "light"
     },
     "output_type": "display_data"
    },
    {
     "name": "stdout",
     "output_type": "stream",
     "text": [
      "Before Removing Outliers\n"
     ]
    },
    {
     "data": {
      "image/png": "[encoded data removed]",
      "text/plain": [
       "<Figure size 432x288 with 1 Axes>"
      ]
     },
     "metadata": {
      "needs_background": "light"
     },
     "output_type": "display_data"
    },
    {
     "name": "stdout",
     "output_type": "stream",
     "text": [
      "Before Removing Outliers\n"
     ]
    },
    {
     "data": {
      "image/png": "[encoded data removed]",
      "text/plain": [
       "<Figure size 432x288 with 1 Axes>"
      ]
     },
     "metadata": {
      "needs_background": "light"
     },
     "output_type": "display_data"
    },
    {
     "name": "stdout",
     "output_type": "stream",
     "text": [
      "Before Removing Outliers\n"
     ]
    },
    {
     "data": {
      "image/png": "[encoded data removed]",
      "text/plain": [
       "<Figure size 432x288 with 1 Axes>"
      ]
     },
     "metadata": {
      "needs_background": "light"
     },
     "output_type": "display_data"
    },
    {
     "name": "stdout",
     "output_type": "stream",
     "text": [
      "Before Removing Outliers\n"
     ]
    },
    {
     "data": {
      "image/png": "[encoded data removed]",
      "text/plain": [
       "<Figure size 432x288 with 1 Axes>"
      ]
     },
     "metadata": {
      "needs_background": "light"
     },
     "output_type": "display_data"
    },
    {
     "name": "stdout",
     "output_type": "stream",
     "text": [
      "Before Removing Outliers\n"
     ]
    },
    {
     "data": {
      "image/png": "[encoded data removed]",
      "text/plain": [
       "<Figure size 432x288 with 1 Axes>"
      ]
     },
     "metadata": {
      "needs_background": "light"
     },
     "output_type": "display_data"
    },
    {
     "name": "stdout",
     "output_type": "stream",
     "text": [
      "Before Removing Outliers\n"
     ]
    },
    {
     "data": {
      "image/png": "[encoded data removed]",
      "text/plain": [
       "<Figure size 432x288 with 1 Axes>"
      ]
     },
     "metadata": {
      "needs_background": "light"
     },
     "output_type": "display_data"
    },
    {
     "name": "stdout",
     "output_type": "stream",
     "text": [
      "Before Removing Outliers\n"
     ]
    },
    {
     "data": {
      "image/png": "[encoded data removed]",
      "text/plain": [
       "<Figure size 432x288 with 1 Axes>"
      ]
     },
     "metadata": {
      "needs_background": "light"
     },
     "output_type": "display_data"
    },
    {
     "name": "stdout",
     "output_type": "stream",
     "text": [
      "Before Removing Outliers\n"
     ]
    },
    {
     "data": {
      "image/png": "[encoded data removed]",
      "text/plain": [
       "<Figure size 432x288 with 1 Axes>"
      ]
     },
     "metadata": {
      "needs_background": "light"
     },
     "output_type": "display_data"
    },
    {
     "name": "stdout",
     "output_type": "stream",
     "text": [
      "Before Removing Outliers\n"
     ]
    },
    {
     "data": {
      "image/png": "[encoded data removed]",
      "text/plain": [
       "<Figure size 432x288 with 1 Axes>"
      ]
     },
     "metadata": {
      "needs_background": "light"
     },
     "output_type": "display_data"
    },
    {
     "name": "stdout",
     "output_type": "stream",
     "text": [
      "Before Removing Outliers\n"
     ]
    },
    {
     "data": {
      "image/png": "[encoded data removed]",
      "text/plain": [
       "<Figure size 432x288 with 1 Axes>"
      ]
     },
     "metadata": {
      "needs_background": "light"
     },
     "output_type": "display_data"
    },
    {
     "name": "stdout",
     "output_type": "stream",
     "text": [
      "Before Removing Outliers\n"
     ]
    },
    {
     "data": {
      "image/png": "[encoded data removed]",
      "text/plain": [
       "<Figure size 432x288 with 1 Axes>"
      ]
     },
     "metadata": {
      "needs_background": "light"
     },
     "output_type": "display_data"
    },
    {
     "name": "stdout",
     "output_type": "stream",
     "text": [
      "Before Removing Outliers\n"
     ]
    },
    {
     "data": {
      "image/png": "[encoded data removed]",
      "text/plain": [
       "<Figure size 432x288 with 1 Axes>"
      ]
     },
     "metadata": {
      "needs_background": "light"
     },
     "output_type": "display_data"
    },
    {
     "name": "stdout",
     "output_type": "stream",
     "text": [
      "Before Removing Outliers\n"
     ]
    },
    {
     "data": {
      "image/png": "[encoded data removed]",
      "text/plain": [
       "<Figure size 432x288 with 1 Axes>"
      ]
     },
     "metadata": {
      "needs_background": "light"
     },
     "output_type": "display_data"
    },
    {
     "name": "stdout",
     "output_type": "stream",
     "text": [
      "Before Removing Outliers\n"
     ]
    },
    {
     "data": {
      "image/png": "[encoded data removed]",
      "text/plain": [
       "<Figure size 432x288 with 1 Axes>"
      ]
     },
     "metadata": {
      "needs_background": "light"
     },
     "output_type": "display_data"
    },
    {
     "name": "stdout",
     "output_type": "stream",
     "text": [
      "Before Removing Outliers\n"
     ]
    },
    {
     "data": {
      "image/png": "[encoded data removed]",
      "text/plain": [
       "<Figure size 432x288 with 1 Axes>"
      ]
     },
     "metadata": {
      "needs_background": "light"
     },
     "output_type": "display_data"
    },
    {
     "name": "stdout",
     "output_type": "stream",
     "text": [
      "Before Removing Outliers\n"
     ]
    },
    {
     "data": {
      "image/png": "[encoded data removed]",
      "text/plain": [
       "<Figure size 432x288 with 1 Axes>"
      ]
     },
     "metadata": {
      "needs_background": "light"
     },
     "output_type": "display_data"
    },
    {
     "name": "stdout",
     "output_type": "stream",
     "text": [
      "Before Removing Outliers\n"
     ]
    },
    {
     "data": {
      "image/png": "[encoded data removed]",
      "text/plain": [
       "<Figure size 432x288 with 1 Axes>"
      ]
     },
     "metadata": {
      "needs_background": "light"
     },
     "output_type": "display_data"
    },
    {
     "name": "stdout",
     "output_type": "stream",
     "text": [
      "Before Removing Outliers\n"
     ]
    },
    {
     "data": {
      "image/png": "[encoded data removed]",
      "text/plain": [
       "<Figure size 432x288 with 1 Axes>"
      ]
     },
     "metadata": {
      "needs_background": "light"
     },
     "output_type": "display_data"
    },
    {
     "name": "stdout",
     "output_type": "stream",
     "text": [
      "Before Removing Outliers\n"
     ]
    },
    {
     "data": {
      "image/png": "[encoded data removed]",
      "text/plain": [
       "<Figure size 432x288 with 1 Axes>"
      ]
     },
     "metadata": {
      "needs_background": "light"
     },
     "output_type": "display_data"
    },
    {
     "name": "stdout",
     "output_type": "stream",
     "text": [
      "Before Removing Outliers\n"
     ]
    },
    {
     "data": {
      "image/png": "[encoded data removed]",
      "text/plain": [
       "<Figure size 432x288 with 1 Axes>"
      ]
     },
     "metadata": {
      "needs_background": "light"
     },
     "output_type": "display_data"
    },
    {
     "name": "stdout",
     "output_type": "stream",
     "text": [
      "Before Removing Outliers\n"
     ]
    },
    {
     "data": {
      "image/png": "[encoded data removed]",
      "text/plain": [
       "<Figure size 432x288 with 1 Axes>"
      ]
     },
     "metadata": {
      "needs_background": "light"
     },
     "output_type": "display_data"
    },
    {
     "name": "stdout",
     "output_type": "stream",
     "text": [
      "Before Removing Outliers\n"
     ]
    },
    {
     "data": {
      "image/png": "[encoded data removed]",
      "text/plain": [
       "<Figure size 432x288 with 1 Axes>"
      ]
     },
     "metadata": {
      "needs_background": "light"
     },
     "output_type": "display_data"
    },
    {
     "name": "stdout",
     "output_type": "stream",
     "text": [
      "Before Removing Outliers\n"
     ]
    },
    {
     "data": {
      "image/png": "[encoded data removed]",
      "text/plain": [
       "<Figure size 432x288 with 1 Axes>"
      ]
     },
     "metadata": {
      "needs_background": "light"
     },
     "output_type": "display_data"
    }
   ],
   "source": [
    "def remove_outliers(x):\n",
    "## storing names of columns in Column_Names\n",
    "    Column_Names=x.columns\n",
    "\n",
    "    ## importing matplotlib and seaborn for visualisation of outliers\n",
    "    import matplotlib.pyplot as plt\n",
    "    import seaborn as sns   \n",
    "\n",
    "    ## iterating through Column_Names using try and except for distinguishing between numerical and categorical columns\n",
    "    for j in Column_Names:\n",
    "        try:\n",
    "            print('Before Removing Outliers')\n",
    "\n",
    "            ##visualisation of outliers\n",
    "            a = sns.boxplot(data=x,x=x[j])\n",
    "            plt.tight_layout() \n",
    "            plt.show() \n",
    "\n",
    "            xy=x[j]    \n",
    "            mydata=pd.DataFrame()\n",
    "\n",
    "            updated=[]\n",
    "            Q1,Q3=np.percentile(xy,[25,75])\n",
    "            IQR=Q3-Q1\n",
    "            minimum=Q1-1.5*IQR\n",
    "            maximum=Q3+1.5*IQR\n",
    "\n",
    "            ## using the maximum and minimum values obtained from quartiles and inter-quartile range\n",
    "            ## any outliers greater than maximum are updated to be equal to maximum\n",
    "            ## any outliers lesser than minimum are updated to be equal to minimum\n",
    "            ## here, no outliers have been removed to prevent loss of data\n",
    "\n",
    "            for i in xy:\n",
    "                if(i>maximum):\n",
    "                    i=maximum\n",
    "                    updated.append(i)\n",
    "                elif(i<minimum):\n",
    "                    i=minimum\n",
    "                    updated.append(i)\n",
    "                else:\n",
    "                    updated.append(i)\n",
    "\n",
    "            x[j]=updated\n",
    "            print('After Removing Outliers')\n",
    "\n",
    "            ## visualising after removing outliers\n",
    "            b= sns.boxplot(data=x,x=x[j])\n",
    "            plt.tight_layout() \n",
    "            plt.show()\n",
    "\n",
    "        except:\n",
    "            continue\n",
    "\n",
    "    return x\n",
    "df3 = remove_outliers(df2)"
   ]
  },
  {
   "cell_type": "code",
   "execution_count": 140,
   "id": "mounted-governor",
   "metadata": {},
   "outputs": [
    {
     "data": {
      "text/html": [
       "<div>\n",
       "<style scoped>\n",
       "    .dataframe tbody tr th:only-of-type {\n",
       "        vertical-align: middle;\n",
       "    }\n",
       "\n",
       "    .dataframe tbody tr th {\n",
       "        vertical-align: top;\n",
       "    }\n",
       "\n",
       "    .dataframe thead th {\n",
       "        text-align: right;\n",
       "    }\n",
       "</style>\n",
       "<table border=\"1\" class=\"dataframe\">\n",
       "  <thead>\n",
       "    <tr style=\"text-align: right;\">\n",
       "      <th></th>\n",
       "      <th>id</th>\n",
       "      <th>time</th>\n",
       "      <th>activityrecognition#1</th>\n",
       "      <th>android.sensor.accelerometer#mean</th>\n",
       "      <th>android.sensor.accelerometer#min</th>\n",
       "      <th>android.sensor.accelerometer#max</th>\n",
       "      <th>android.sensor.accelerometer#std</th>\n",
       "      <th>android.sensor.game_rotation_vector#mean</th>\n",
       "      <th>android.sensor.game_rotation_vector#min</th>\n",
       "      <th>android.sensor.game_rotation_vector#max</th>\n",
       "      <th>...</th>\n",
       "      <th>android.sensor.step_counter#std</th>\n",
       "      <th>sound#mean</th>\n",
       "      <th>sound#min</th>\n",
       "      <th>sound#max</th>\n",
       "      <th>sound#std</th>\n",
       "      <th>speed#mean</th>\n",
       "      <th>speed#min</th>\n",
       "      <th>speed#max</th>\n",
       "      <th>speed#std</th>\n",
       "      <th>target</th>\n",
       "    </tr>\n",
       "  </thead>\n",
       "  <tbody>\n",
       "    <tr>\n",
       "      <th>2946</th>\n",
       "      <td>5228</td>\n",
       "      <td>190.0</td>\n",
       "      <td>92.0</td>\n",
       "      <td>10.179832</td>\n",
       "      <td>10.137434</td>\n",
       "      <td>10.207683</td>\n",
       "      <td>0.020380</td>\n",
       "      <td>0.995086</td>\n",
       "      <td>0.995067</td>\n",
       "      <td>0.995112</td>\n",
       "      <td>...</td>\n",
       "      <td>2.959475</td>\n",
       "      <td>84.350732</td>\n",
       "      <td>84.350732</td>\n",
       "      <td>84.350732</td>\n",
       "      <td>0.923820</td>\n",
       "      <td>8.235254</td>\n",
       "      <td>8.216747</td>\n",
       "      <td>8.253528</td>\n",
       "      <td>0.236959</td>\n",
       "      <td>3</td>\n",
       "    </tr>\n",
       "    <tr>\n",
       "      <th>3075</th>\n",
       "      <td>5835</td>\n",
       "      <td>193.0</td>\n",
       "      <td>35.0</td>\n",
       "      <td>10.179362</td>\n",
       "      <td>9.853068</td>\n",
       "      <td>10.587065</td>\n",
       "      <td>0.167584</td>\n",
       "      <td>0.987558</td>\n",
       "      <td>0.987359</td>\n",
       "      <td>0.987745</td>\n",
       "      <td>...</td>\n",
       "      <td>2.959475</td>\n",
       "      <td>89.762268</td>\n",
       "      <td>89.762268</td>\n",
       "      <td>89.762268</td>\n",
       "      <td>0.001198</td>\n",
       "      <td>8.235254</td>\n",
       "      <td>8.216747</td>\n",
       "      <td>8.253528</td>\n",
       "      <td>0.236959</td>\n",
       "      <td>3</td>\n",
       "    </tr>\n",
       "    <tr>\n",
       "      <th>3076</th>\n",
       "      <td>2274</td>\n",
       "      <td>256.0</td>\n",
       "      <td>8.0</td>\n",
       "      <td>9.657759</td>\n",
       "      <td>9.029124</td>\n",
       "      <td>10.286443</td>\n",
       "      <td>0.414025</td>\n",
       "      <td>0.844973</td>\n",
       "      <td>0.840452</td>\n",
       "      <td>0.851091</td>\n",
       "      <td>...</td>\n",
       "      <td>2.959475</td>\n",
       "      <td>89.769040</td>\n",
       "      <td>89.769040</td>\n",
       "      <td>89.769040</td>\n",
       "      <td>0.013131</td>\n",
       "      <td>30.750000</td>\n",
       "      <td>30.750000</td>\n",
       "      <td>30.750000</td>\n",
       "      <td>0.236959</td>\n",
       "      <td>1</td>\n",
       "    </tr>\n",
       "    <tr>\n",
       "      <th>3077</th>\n",
       "      <td>7287</td>\n",
       "      <td>86.0</td>\n",
       "      <td>100.0</td>\n",
       "      <td>10.299321</td>\n",
       "      <td>8.088142</td>\n",
       "      <td>12.456252</td>\n",
       "      <td>1.604990</td>\n",
       "      <td>0.968824</td>\n",
       "      <td>0.956427</td>\n",
       "      <td>0.975352</td>\n",
       "      <td>...</td>\n",
       "      <td>2.959475</td>\n",
       "      <td>88.572737</td>\n",
       "      <td>88.572737</td>\n",
       "      <td>88.572737</td>\n",
       "      <td>0.095157</td>\n",
       "      <td>0.750000</td>\n",
       "      <td>0.750000</td>\n",
       "      <td>0.750000</td>\n",
       "      <td>0.236959</td>\n",
       "      <td>5</td>\n",
       "    </tr>\n",
       "    <tr>\n",
       "      <th>3079</th>\n",
       "      <td>184</td>\n",
       "      <td>91.0</td>\n",
       "      <td>85.0</td>\n",
       "      <td>9.729062</td>\n",
       "      <td>7.139446</td>\n",
       "      <td>14.355289</td>\n",
       "      <td>2.184604</td>\n",
       "      <td>0.928255</td>\n",
       "      <td>0.925184</td>\n",
       "      <td>0.931989</td>\n",
       "      <td>...</td>\n",
       "      <td>2.959475</td>\n",
       "      <td>89.773691</td>\n",
       "      <td>89.767912</td>\n",
       "      <td>89.779470</td>\n",
       "      <td>0.008173</td>\n",
       "      <td>11.000000</td>\n",
       "      <td>11.000000</td>\n",
       "      <td>11.000000</td>\n",
       "      <td>0.236959</td>\n",
       "      <td>4</td>\n",
       "    </tr>\n",
       "    <tr>\n",
       "      <th>...</th>\n",
       "      <td>...</td>\n",
       "      <td>...</td>\n",
       "      <td>...</td>\n",
       "      <td>...</td>\n",
       "      <td>...</td>\n",
       "      <td>...</td>\n",
       "      <td>...</td>\n",
       "      <td>...</td>\n",
       "      <td>...</td>\n",
       "      <td>...</td>\n",
       "      <td>...</td>\n",
       "      <td>...</td>\n",
       "      <td>...</td>\n",
       "      <td>...</td>\n",
       "      <td>...</td>\n",
       "      <td>...</td>\n",
       "      <td>...</td>\n",
       "      <td>...</td>\n",
       "      <td>...</td>\n",
       "      <td>...</td>\n",
       "      <td>...</td>\n",
       "    </tr>\n",
       "    <tr>\n",
       "      <th>5063</th>\n",
       "      <td>20310</td>\n",
       "      <td>25.0</td>\n",
       "      <td>100.0</td>\n",
       "      <td>10.637163</td>\n",
       "      <td>2.471217</td>\n",
       "      <td>28.961093</td>\n",
       "      <td>5.469623</td>\n",
       "      <td>0.814607</td>\n",
       "      <td>0.814607</td>\n",
       "      <td>0.814607</td>\n",
       "      <td>...</td>\n",
       "      <td>2.959475</td>\n",
       "      <td>84.941781</td>\n",
       "      <td>84.941781</td>\n",
       "      <td>84.941781</td>\n",
       "      <td>0.945771</td>\n",
       "      <td>1.463377</td>\n",
       "      <td>1.463377</td>\n",
       "      <td>1.463377</td>\n",
       "      <td>0.010040</td>\n",
       "      <td>5</td>\n",
       "    </tr>\n",
       "    <tr>\n",
       "      <th>1296</th>\n",
       "      <td>20330</td>\n",
       "      <td>45.0</td>\n",
       "      <td>100.0</td>\n",
       "      <td>11.333011</td>\n",
       "      <td>3.124888</td>\n",
       "      <td>35.098704</td>\n",
       "      <td>5.852742</td>\n",
       "      <td>0.763646</td>\n",
       "      <td>0.763646</td>\n",
       "      <td>0.763646</td>\n",
       "      <td>...</td>\n",
       "      <td>2.959475</td>\n",
       "      <td>82.625956</td>\n",
       "      <td>82.625956</td>\n",
       "      <td>82.625956</td>\n",
       "      <td>5.321307</td>\n",
       "      <td>0.891086</td>\n",
       "      <td>0.883836</td>\n",
       "      <td>0.898335</td>\n",
       "      <td>0.010252</td>\n",
       "      <td>5</td>\n",
       "    </tr>\n",
       "    <tr>\n",
       "      <th>1619</th>\n",
       "      <td>20292</td>\n",
       "      <td>7.0</td>\n",
       "      <td>100.0</td>\n",
       "      <td>10.592901</td>\n",
       "      <td>4.633172</td>\n",
       "      <td>16.071722</td>\n",
       "      <td>2.962479</td>\n",
       "      <td>0.710383</td>\n",
       "      <td>0.647101</td>\n",
       "      <td>0.761554</td>\n",
       "      <td>...</td>\n",
       "      <td>2.959475</td>\n",
       "      <td>84.591077</td>\n",
       "      <td>84.591077</td>\n",
       "      <td>84.591077</td>\n",
       "      <td>1.913065</td>\n",
       "      <td>1.402243</td>\n",
       "      <td>1.402243</td>\n",
       "      <td>1.402243</td>\n",
       "      <td>0.236959</td>\n",
       "      <td>5</td>\n",
       "    </tr>\n",
       "    <tr>\n",
       "      <th>2314</th>\n",
       "      <td>20299</td>\n",
       "      <td>14.0</td>\n",
       "      <td>100.0</td>\n",
       "      <td>11.132643</td>\n",
       "      <td>7.024562</td>\n",
       "      <td>18.064503</td>\n",
       "      <td>2.831729</td>\n",
       "      <td>0.923661</td>\n",
       "      <td>0.910555</td>\n",
       "      <td>0.943459</td>\n",
       "      <td>...</td>\n",
       "      <td>2.959475</td>\n",
       "      <td>76.260939</td>\n",
       "      <td>76.260939</td>\n",
       "      <td>76.260939</td>\n",
       "      <td>1.913065</td>\n",
       "      <td>1.213918</td>\n",
       "      <td>1.213918</td>\n",
       "      <td>1.213918</td>\n",
       "      <td>0.236959</td>\n",
       "      <td>5</td>\n",
       "    </tr>\n",
       "    <tr>\n",
       "      <th>640</th>\n",
       "      <td>20308</td>\n",
       "      <td>23.0</td>\n",
       "      <td>100.0</td>\n",
       "      <td>9.746732</td>\n",
       "      <td>3.348920</td>\n",
       "      <td>19.931811</td>\n",
       "      <td>4.062253</td>\n",
       "      <td>0.984727</td>\n",
       "      <td>0.984727</td>\n",
       "      <td>0.984727</td>\n",
       "      <td>...</td>\n",
       "      <td>2.959475</td>\n",
       "      <td>87.408041</td>\n",
       "      <td>87.408041</td>\n",
       "      <td>87.408041</td>\n",
       "      <td>0.945771</td>\n",
       "      <td>1.463377</td>\n",
       "      <td>1.463377</td>\n",
       "      <td>1.463377</td>\n",
       "      <td>0.010040</td>\n",
       "      <td>5</td>\n",
       "    </tr>\n",
       "  </tbody>\n",
       "</table>\n",
       "<p>5893 rows × 68 columns</p>\n",
       "</div>"
      ],
      "text/plain": [
       "         id   time  activityrecognition#1  android.sensor.accelerometer#mean  \\\n",
       "2946   5228  190.0                   92.0                          10.179832   \n",
       "3075   5835  193.0                   35.0                          10.179362   \n",
       "3076   2274  256.0                    8.0                           9.657759   \n",
       "3077   7287   86.0                  100.0                          10.299321   \n",
       "3079    184   91.0                   85.0                           9.729062   \n",
       "...     ...    ...                    ...                                ...   \n",
       "5063  20310   25.0                  100.0                          10.637163   \n",
       "1296  20330   45.0                  100.0                          11.333011   \n",
       "1619  20292    7.0                  100.0                          10.592901   \n",
       "2314  20299   14.0                  100.0                          11.132643   \n",
       "640   20308   23.0                  100.0                           9.746732   \n",
       "\n",
       "      android.sensor.accelerometer#min  android.sensor.accelerometer#max  \\\n",
       "2946                         10.137434                         10.207683   \n",
       "3075                          9.853068                         10.587065   \n",
       "3076                          9.029124                         10.286443   \n",
       "3077                          8.088142                         12.456252   \n",
       "3079                          7.139446                         14.355289   \n",
       "...                                ...                               ...   \n",
       "5063                          2.471217                         28.961093   \n",
       "1296                          3.124888                         35.098704   \n",
       "1619                          4.633172                         16.071722   \n",
       "2314                          7.024562                         18.064503   \n",
       "640                           3.348920                         19.931811   \n",
       "\n",
       "      android.sensor.accelerometer#std  \\\n",
       "2946                          0.020380   \n",
       "3075                          0.167584   \n",
       "3076                          0.414025   \n",
       "3077                          1.604990   \n",
       "3079                          2.184604   \n",
       "...                                ...   \n",
       "5063                          5.469623   \n",
       "1296                          5.852742   \n",
       "1619                          2.962479   \n",
       "2314                          2.831729   \n",
       "640                           4.062253   \n",
       "\n",
       "      android.sensor.game_rotation_vector#mean  \\\n",
       "2946                                  0.995086   \n",
       "3075                                  0.987558   \n",
       "3076                                  0.844973   \n",
       "3077                                  0.968824   \n",
       "3079                                  0.928255   \n",
       "...                                        ...   \n",
       "5063                                  0.814607   \n",
       "1296                                  0.763646   \n",
       "1619                                  0.710383   \n",
       "2314                                  0.923661   \n",
       "640                                   0.984727   \n",
       "\n",
       "      android.sensor.game_rotation_vector#min  \\\n",
       "2946                                 0.995067   \n",
       "3075                                 0.987359   \n",
       "3076                                 0.840452   \n",
       "3077                                 0.956427   \n",
       "3079                                 0.925184   \n",
       "...                                       ...   \n",
       "5063                                 0.814607   \n",
       "1296                                 0.763646   \n",
       "1619                                 0.647101   \n",
       "2314                                 0.910555   \n",
       "640                                  0.984727   \n",
       "\n",
       "      android.sensor.game_rotation_vector#max  ...  \\\n",
       "2946                                 0.995112  ...   \n",
       "3075                                 0.987745  ...   \n",
       "3076                                 0.851091  ...   \n",
       "3077                                 0.975352  ...   \n",
       "3079                                 0.931989  ...   \n",
       "...                                       ...  ...   \n",
       "5063                                 0.814607  ...   \n",
       "1296                                 0.763646  ...   \n",
       "1619                                 0.761554  ...   \n",
       "2314                                 0.943459  ...   \n",
       "640                                  0.984727  ...   \n",
       "\n",
       "      android.sensor.step_counter#std  sound#mean  sound#min  sound#max  \\\n",
       "2946                         2.959475   84.350732  84.350732  84.350732   \n",
       "3075                         2.959475   89.762268  89.762268  89.762268   \n",
       "3076                         2.959475   89.769040  89.769040  89.769040   \n",
       "3077                         2.959475   88.572737  88.572737  88.572737   \n",
       "3079                         2.959475   89.773691  89.767912  89.779470   \n",
       "...                               ...         ...        ...        ...   \n",
       "5063                         2.959475   84.941781  84.941781  84.941781   \n",
       "1296                         2.959475   82.625956  82.625956  82.625956   \n",
       "1619                         2.959475   84.591077  84.591077  84.591077   \n",
       "2314                         2.959475   76.260939  76.260939  76.260939   \n",
       "640                          2.959475   87.408041  87.408041  87.408041   \n",
       "\n",
       "      sound#std  speed#mean  speed#min  speed#max  speed#std  target  \n",
       "2946   0.923820    8.235254   8.216747   8.253528   0.236959       3  \n",
       "3075   0.001198    8.235254   8.216747   8.253528   0.236959       3  \n",
       "3076   0.013131   30.750000  30.750000  30.750000   0.236959       1  \n",
       "3077   0.095157    0.750000   0.750000   0.750000   0.236959       5  \n",
       "3079   0.008173   11.000000  11.000000  11.000000   0.236959       4  \n",
       "...         ...         ...        ...        ...        ...     ...  \n",
       "5063   0.945771    1.463377   1.463377   1.463377   0.010040       5  \n",
       "1296   5.321307    0.891086   0.883836   0.898335   0.010252       5  \n",
       "1619   1.913065    1.402243   1.402243   1.402243   0.236959       5  \n",
       "2314   1.913065    1.213918   1.213918   1.213918   0.236959       5  \n",
       "640    0.945771    1.463377   1.463377   1.463377   0.010040       5  \n",
       "\n",
       "[5893 rows x 68 columns]"
      ]
     },
     "execution_count": 140,
     "metadata": {},
     "output_type": "execute_result"
    }
   ],
   "source": [
    "df3"
   ]
  },
  {
   "cell_type": "code",
   "execution_count": 212,
   "id": "interim-grounds",
   "metadata": {},
   "outputs": [
    {
     "name": "stdout",
     "output_type": "stream",
     "text": [
      "4714\n",
      "(4714, 67) (1179, 67)\n"
     ]
    }
   ],
   "source": [
    "#train=df2.sample(frac=0.8,random_state=1) #random state is a seed value #sample\n",
    "#test=df2.drop(train.index)\n",
    "df2 = df1\n",
    "\n",
    "df2 = df2.drop(['user'], axis=1)\n",
    "df2 = df2.drop(['id'],axis =1)\n",
    "\n",
    "train_pct_index = int(0.8 * len(df2))\n",
    "print(train_pct_index)\n",
    "train, test = df2[:train_pct_index], df2[train_pct_index:]\n",
    "print(train.shape, test.shape)"
   ]
  },
  {
   "cell_type": "code",
   "execution_count": 217,
   "id": "protected-convergence",
   "metadata": {},
   "outputs": [
    {
     "name": "stdout",
     "output_type": "stream",
     "text": [
      "0 1178 2357 3535 4714 5893\n"
     ]
    }
   ],
   "source": [
    "train_pct_index1 = int(0.2 * len(df2))\n",
    "train_pct_index2 = int(0.4 * len(df2))\n",
    "train_pct_index3 = int(0.6 * len(df2))\n",
    "train_pct_index4 = int(0.8 * len(df2))\n",
    "print(0,train_pct_index1,train_pct_index2,train_pct_index3,train_pct_index4,len(df2))\n",
    "# first fold:\n",
    "train1, test1 =  df2[train_pct_index1:], df2[:train_pct_index1]  # 20 to 100 \n",
    "# 2 fold:\n",
    "train2, test2 =  df2.head(train_pct_index2).append(df2.tail(train_pct_index2)), df2[train_pct_index1:train_pct_index2] # 40 to 100 + 0 to 20\n",
    "train3, test3 =  df2.head(-train_pct_index3).append(df2.head(train_pct_index2)), df2[train_pct_index2:train_pct_index3] # 60 to 100 + 0 to 40\n",
    "train4, test4 =  df2.head(-train_pct_index4).append(df2.head(train_pct_index3)), df2[train_pct_index3:train_pct_index4] # 80 to 100 + 0 to 60\n",
    "train5, test5 =  df2[:train_pct_index4], df2[train_pct_index4:]  # 0 to 80\n",
    "\n",
    "#print(train1.shape, test1.shape)\n",
    "#print(train2.shape, test2.shape)\n",
    "#print(train3.shape, test3.shape)\n",
    "#print(train4.shape, test4.shape)\n",
    "#print(train5.shape, test5.shape)"
   ]
  },
  {
   "cell_type": "code",
   "execution_count": 218,
   "id": "growing-royal",
   "metadata": {},
   "outputs": [
    {
     "data": {
      "text/html": [
       "<div>\n",
       "<style scoped>\n",
       "    .dataframe tbody tr th:only-of-type {\n",
       "        vertical-align: middle;\n",
       "    }\n",
       "\n",
       "    .dataframe tbody tr th {\n",
       "        vertical-align: top;\n",
       "    }\n",
       "\n",
       "    .dataframe thead th {\n",
       "        text-align: right;\n",
       "    }\n",
       "</style>\n",
       "<table border=\"1\" class=\"dataframe\">\n",
       "  <thead>\n",
       "    <tr style=\"text-align: right;\">\n",
       "      <th></th>\n",
       "      <th>time</th>\n",
       "      <th>activityrecognition#1</th>\n",
       "      <th>android.sensor.accelerometer#mean</th>\n",
       "      <th>android.sensor.accelerometer#min</th>\n",
       "      <th>android.sensor.accelerometer#max</th>\n",
       "      <th>android.sensor.accelerometer#std</th>\n",
       "      <th>android.sensor.game_rotation_vector#mean</th>\n",
       "      <th>android.sensor.game_rotation_vector#min</th>\n",
       "      <th>android.sensor.game_rotation_vector#max</th>\n",
       "      <th>android.sensor.game_rotation_vector#std</th>\n",
       "      <th>...</th>\n",
       "      <th>android.sensor.step_counter#std</th>\n",
       "      <th>sound#mean</th>\n",
       "      <th>sound#min</th>\n",
       "      <th>sound#max</th>\n",
       "      <th>sound#std</th>\n",
       "      <th>speed#mean</th>\n",
       "      <th>speed#min</th>\n",
       "      <th>speed#max</th>\n",
       "      <th>speed#std</th>\n",
       "      <th>target</th>\n",
       "    </tr>\n",
       "  </thead>\n",
       "  <tbody>\n",
       "    <tr>\n",
       "      <th>5816</th>\n",
       "      <td>335.0</td>\n",
       "      <td>100.0</td>\n",
       "      <td>9.803904</td>\n",
       "      <td>9.041084</td>\n",
       "      <td>10.600768</td>\n",
       "      <td>0.431985</td>\n",
       "      <td>0.873268</td>\n",
       "      <td>0.871488</td>\n",
       "      <td>0.875915</td>\n",
       "      <td>0.002022</td>\n",
       "      <td>...</td>\n",
       "      <td>2.959475</td>\n",
       "      <td>78.724855</td>\n",
       "      <td>78.451658</td>\n",
       "      <td>78.997213</td>\n",
       "      <td>1.913065</td>\n",
       "      <td>33.750000</td>\n",
       "      <td>33.750000</td>\n",
       "      <td>33.750000</td>\n",
       "      <td>0.176777</td>\n",
       "      <td>1</td>\n",
       "    </tr>\n",
       "    <tr>\n",
       "      <th>5818</th>\n",
       "      <td>22.0</td>\n",
       "      <td>15.0</td>\n",
       "      <td>10.241418</td>\n",
       "      <td>6.989096</td>\n",
       "      <td>12.978298</td>\n",
       "      <td>1.767100</td>\n",
       "      <td>0.972654</td>\n",
       "      <td>0.968368</td>\n",
       "      <td>0.976999</td>\n",
       "      <td>0.003377</td>\n",
       "      <td>...</td>\n",
       "      <td>2.959475</td>\n",
       "      <td>89.832276</td>\n",
       "      <td>89.832276</td>\n",
       "      <td>89.832276</td>\n",
       "      <td>1.913065</td>\n",
       "      <td>6.750000</td>\n",
       "      <td>6.750000</td>\n",
       "      <td>6.750000</td>\n",
       "      <td>0.236959</td>\n",
       "      <td>4</td>\n",
       "    </tr>\n",
       "    <tr>\n",
       "      <th>5821</th>\n",
       "      <td>51.0</td>\n",
       "      <td>8.0</td>\n",
       "      <td>10.076981</td>\n",
       "      <td>8.747623</td>\n",
       "      <td>11.593766</td>\n",
       "      <td>0.885338</td>\n",
       "      <td>0.929399</td>\n",
       "      <td>0.927497</td>\n",
       "      <td>0.932436</td>\n",
       "      <td>0.002278</td>\n",
       "      <td>...</td>\n",
       "      <td>2.959475</td>\n",
       "      <td>89.782006</td>\n",
       "      <td>89.782006</td>\n",
       "      <td>89.782006</td>\n",
       "      <td>0.019147</td>\n",
       "      <td>10.250000</td>\n",
       "      <td>10.250000</td>\n",
       "      <td>10.250000</td>\n",
       "      <td>0.236959</td>\n",
       "      <td>4</td>\n",
       "    </tr>\n",
       "    <tr>\n",
       "      <th>5825</th>\n",
       "      <td>99.0</td>\n",
       "      <td>85.0</td>\n",
       "      <td>9.674227</td>\n",
       "      <td>8.714782</td>\n",
       "      <td>10.585830</td>\n",
       "      <td>0.656325</td>\n",
       "      <td>0.737124</td>\n",
       "      <td>0.729523</td>\n",
       "      <td>0.741717</td>\n",
       "      <td>0.003475</td>\n",
       "      <td>...</td>\n",
       "      <td>2.959475</td>\n",
       "      <td>89.782569</td>\n",
       "      <td>89.782569</td>\n",
       "      <td>89.782569</td>\n",
       "      <td>0.003391</td>\n",
       "      <td>20.000000</td>\n",
       "      <td>20.000000</td>\n",
       "      <td>20.000000</td>\n",
       "      <td>0.236959</td>\n",
       "      <td>1</td>\n",
       "    </tr>\n",
       "    <tr>\n",
       "      <th>4848</th>\n",
       "      <td>25.0</td>\n",
       "      <td>69.0</td>\n",
       "      <td>10.171165</td>\n",
       "      <td>10.037080</td>\n",
       "      <td>10.269502</td>\n",
       "      <td>0.072740</td>\n",
       "      <td>0.993360</td>\n",
       "      <td>0.993266</td>\n",
       "      <td>0.993420</td>\n",
       "      <td>0.000051</td>\n",
       "      <td>...</td>\n",
       "      <td>2.959475</td>\n",
       "      <td>89.753228</td>\n",
       "      <td>89.748990</td>\n",
       "      <td>89.759444</td>\n",
       "      <td>0.005501</td>\n",
       "      <td>8.235254</td>\n",
       "      <td>8.216747</td>\n",
       "      <td>8.253528</td>\n",
       "      <td>0.236959</td>\n",
       "      <td>3</td>\n",
       "    </tr>\n",
       "    <tr>\n",
       "      <th>...</th>\n",
       "      <td>...</td>\n",
       "      <td>...</td>\n",
       "      <td>...</td>\n",
       "      <td>...</td>\n",
       "      <td>...</td>\n",
       "      <td>...</td>\n",
       "      <td>...</td>\n",
       "      <td>...</td>\n",
       "      <td>...</td>\n",
       "      <td>...</td>\n",
       "      <td>...</td>\n",
       "      <td>...</td>\n",
       "      <td>...</td>\n",
       "      <td>...</td>\n",
       "      <td>...</td>\n",
       "      <td>...</td>\n",
       "      <td>...</td>\n",
       "      <td>...</td>\n",
       "      <td>...</td>\n",
       "      <td>...</td>\n",
       "      <td>...</td>\n",
       "    </tr>\n",
       "    <tr>\n",
       "      <th>5063</th>\n",
       "      <td>25.0</td>\n",
       "      <td>100.0</td>\n",
       "      <td>10.637163</td>\n",
       "      <td>2.471217</td>\n",
       "      <td>28.961093</td>\n",
       "      <td>5.469623</td>\n",
       "      <td>0.814607</td>\n",
       "      <td>0.814607</td>\n",
       "      <td>0.814607</td>\n",
       "      <td>0.017443</td>\n",
       "      <td>...</td>\n",
       "      <td>2.959475</td>\n",
       "      <td>84.941781</td>\n",
       "      <td>84.941781</td>\n",
       "      <td>84.941781</td>\n",
       "      <td>0.945771</td>\n",
       "      <td>1.463377</td>\n",
       "      <td>1.463377</td>\n",
       "      <td>1.463377</td>\n",
       "      <td>0.010040</td>\n",
       "      <td>5</td>\n",
       "    </tr>\n",
       "    <tr>\n",
       "      <th>1296</th>\n",
       "      <td>45.0</td>\n",
       "      <td>100.0</td>\n",
       "      <td>11.333011</td>\n",
       "      <td>3.124888</td>\n",
       "      <td>35.098704</td>\n",
       "      <td>5.852742</td>\n",
       "      <td>0.763646</td>\n",
       "      <td>0.763646</td>\n",
       "      <td>0.763646</td>\n",
       "      <td>0.011899</td>\n",
       "      <td>...</td>\n",
       "      <td>2.959475</td>\n",
       "      <td>82.625956</td>\n",
       "      <td>82.625956</td>\n",
       "      <td>82.625956</td>\n",
       "      <td>5.321307</td>\n",
       "      <td>0.891086</td>\n",
       "      <td>0.883836</td>\n",
       "      <td>0.898335</td>\n",
       "      <td>0.010252</td>\n",
       "      <td>5</td>\n",
       "    </tr>\n",
       "    <tr>\n",
       "      <th>1619</th>\n",
       "      <td>7.0</td>\n",
       "      <td>100.0</td>\n",
       "      <td>10.592901</td>\n",
       "      <td>4.633172</td>\n",
       "      <td>16.071722</td>\n",
       "      <td>2.962479</td>\n",
       "      <td>0.710383</td>\n",
       "      <td>0.647101</td>\n",
       "      <td>0.761554</td>\n",
       "      <td>0.058179</td>\n",
       "      <td>...</td>\n",
       "      <td>2.959475</td>\n",
       "      <td>84.591077</td>\n",
       "      <td>84.591077</td>\n",
       "      <td>84.591077</td>\n",
       "      <td>1.913065</td>\n",
       "      <td>1.402243</td>\n",
       "      <td>1.402243</td>\n",
       "      <td>1.402243</td>\n",
       "      <td>0.236959</td>\n",
       "      <td>5</td>\n",
       "    </tr>\n",
       "    <tr>\n",
       "      <th>2314</th>\n",
       "      <td>14.0</td>\n",
       "      <td>100.0</td>\n",
       "      <td>11.132643</td>\n",
       "      <td>7.024562</td>\n",
       "      <td>18.064503</td>\n",
       "      <td>2.831729</td>\n",
       "      <td>0.923661</td>\n",
       "      <td>0.910555</td>\n",
       "      <td>0.943459</td>\n",
       "      <td>0.017443</td>\n",
       "      <td>...</td>\n",
       "      <td>2.959475</td>\n",
       "      <td>76.260939</td>\n",
       "      <td>76.260939</td>\n",
       "      <td>76.260939</td>\n",
       "      <td>1.913065</td>\n",
       "      <td>1.213918</td>\n",
       "      <td>1.213918</td>\n",
       "      <td>1.213918</td>\n",
       "      <td>0.236959</td>\n",
       "      <td>5</td>\n",
       "    </tr>\n",
       "    <tr>\n",
       "      <th>640</th>\n",
       "      <td>23.0</td>\n",
       "      <td>100.0</td>\n",
       "      <td>9.746732</td>\n",
       "      <td>3.348920</td>\n",
       "      <td>19.931811</td>\n",
       "      <td>4.062253</td>\n",
       "      <td>0.984727</td>\n",
       "      <td>0.984727</td>\n",
       "      <td>0.984727</td>\n",
       "      <td>0.017443</td>\n",
       "      <td>...</td>\n",
       "      <td>2.959475</td>\n",
       "      <td>87.408041</td>\n",
       "      <td>87.408041</td>\n",
       "      <td>87.408041</td>\n",
       "      <td>0.945771</td>\n",
       "      <td>1.463377</td>\n",
       "      <td>1.463377</td>\n",
       "      <td>1.463377</td>\n",
       "      <td>0.010040</td>\n",
       "      <td>5</td>\n",
       "    </tr>\n",
       "  </tbody>\n",
       "</table>\n",
       "<p>4715 rows × 67 columns</p>\n",
       "</div>"
      ],
      "text/plain": [
       "       time  activityrecognition#1  android.sensor.accelerometer#mean  \\\n",
       "5816  335.0                  100.0                           9.803904   \n",
       "5818   22.0                   15.0                          10.241418   \n",
       "5821   51.0                    8.0                          10.076981   \n",
       "5825   99.0                   85.0                           9.674227   \n",
       "4848   25.0                   69.0                          10.171165   \n",
       "...     ...                    ...                                ...   \n",
       "5063   25.0                  100.0                          10.637163   \n",
       "1296   45.0                  100.0                          11.333011   \n",
       "1619    7.0                  100.0                          10.592901   \n",
       "2314   14.0                  100.0                          11.132643   \n",
       "640    23.0                  100.0                           9.746732   \n",
       "\n",
       "      android.sensor.accelerometer#min  android.sensor.accelerometer#max  \\\n",
       "5816                          9.041084                         10.600768   \n",
       "5818                          6.989096                         12.978298   \n",
       "5821                          8.747623                         11.593766   \n",
       "5825                          8.714782                         10.585830   \n",
       "4848                         10.037080                         10.269502   \n",
       "...                                ...                               ...   \n",
       "5063                          2.471217                         28.961093   \n",
       "1296                          3.124888                         35.098704   \n",
       "1619                          4.633172                         16.071722   \n",
       "2314                          7.024562                         18.064503   \n",
       "640                           3.348920                         19.931811   \n",
       "\n",
       "      android.sensor.accelerometer#std  \\\n",
       "5816                          0.431985   \n",
       "5818                          1.767100   \n",
       "5821                          0.885338   \n",
       "5825                          0.656325   \n",
       "4848                          0.072740   \n",
       "...                                ...   \n",
       "5063                          5.469623   \n",
       "1296                          5.852742   \n",
       "1619                          2.962479   \n",
       "2314                          2.831729   \n",
       "640                           4.062253   \n",
       "\n",
       "      android.sensor.game_rotation_vector#mean  \\\n",
       "5816                                  0.873268   \n",
       "5818                                  0.972654   \n",
       "5821                                  0.929399   \n",
       "5825                                  0.737124   \n",
       "4848                                  0.993360   \n",
       "...                                        ...   \n",
       "5063                                  0.814607   \n",
       "1296                                  0.763646   \n",
       "1619                                  0.710383   \n",
       "2314                                  0.923661   \n",
       "640                                   0.984727   \n",
       "\n",
       "      android.sensor.game_rotation_vector#min  \\\n",
       "5816                                 0.871488   \n",
       "5818                                 0.968368   \n",
       "5821                                 0.927497   \n",
       "5825                                 0.729523   \n",
       "4848                                 0.993266   \n",
       "...                                       ...   \n",
       "5063                                 0.814607   \n",
       "1296                                 0.763646   \n",
       "1619                                 0.647101   \n",
       "2314                                 0.910555   \n",
       "640                                  0.984727   \n",
       "\n",
       "      android.sensor.game_rotation_vector#max  \\\n",
       "5816                                 0.875915   \n",
       "5818                                 0.976999   \n",
       "5821                                 0.932436   \n",
       "5825                                 0.741717   \n",
       "4848                                 0.993420   \n",
       "...                                       ...   \n",
       "5063                                 0.814607   \n",
       "1296                                 0.763646   \n",
       "1619                                 0.761554   \n",
       "2314                                 0.943459   \n",
       "640                                  0.984727   \n",
       "\n",
       "      android.sensor.game_rotation_vector#std  ...  \\\n",
       "5816                                 0.002022  ...   \n",
       "5818                                 0.003377  ...   \n",
       "5821                                 0.002278  ...   \n",
       "5825                                 0.003475  ...   \n",
       "4848                                 0.000051  ...   \n",
       "...                                       ...  ...   \n",
       "5063                                 0.017443  ...   \n",
       "1296                                 0.011899  ...   \n",
       "1619                                 0.058179  ...   \n",
       "2314                                 0.017443  ...   \n",
       "640                                  0.017443  ...   \n",
       "\n",
       "      android.sensor.step_counter#std  sound#mean  sound#min  sound#max  \\\n",
       "5816                         2.959475   78.724855  78.451658  78.997213   \n",
       "5818                         2.959475   89.832276  89.832276  89.832276   \n",
       "5821                         2.959475   89.782006  89.782006  89.782006   \n",
       "5825                         2.959475   89.782569  89.782569  89.782569   \n",
       "4848                         2.959475   89.753228  89.748990  89.759444   \n",
       "...                               ...         ...        ...        ...   \n",
       "5063                         2.959475   84.941781  84.941781  84.941781   \n",
       "1296                         2.959475   82.625956  82.625956  82.625956   \n",
       "1619                         2.959475   84.591077  84.591077  84.591077   \n",
       "2314                         2.959475   76.260939  76.260939  76.260939   \n",
       "640                          2.959475   87.408041  87.408041  87.408041   \n",
       "\n",
       "      sound#std  speed#mean  speed#min  speed#max  speed#std  target  \n",
       "5816   1.913065   33.750000  33.750000  33.750000   0.176777       1  \n",
       "5818   1.913065    6.750000   6.750000   6.750000   0.236959       4  \n",
       "5821   0.019147   10.250000  10.250000  10.250000   0.236959       4  \n",
       "5825   0.003391   20.000000  20.000000  20.000000   0.236959       1  \n",
       "4848   0.005501    8.235254   8.216747   8.253528   0.236959       3  \n",
       "...         ...         ...        ...        ...        ...     ...  \n",
       "5063   0.945771    1.463377   1.463377   1.463377   0.010040       5  \n",
       "1296   5.321307    0.891086   0.883836   0.898335   0.010252       5  \n",
       "1619   1.913065    1.402243   1.402243   1.402243   0.236959       5  \n",
       "2314   1.913065    1.213918   1.213918   1.213918   0.236959       5  \n",
       "640    0.945771    1.463377   1.463377   1.463377   0.010040       5  \n",
       "\n",
       "[4715 rows x 67 columns]"
      ]
     },
     "execution_count": 218,
     "metadata": {},
     "output_type": "execute_result"
    }
   ],
   "source": [
    "train1"
   ]
  },
  {
   "cell_type": "code",
   "execution_count": 240,
   "id": "athletic-artist",
   "metadata": {},
   "outputs": [
    {
     "name": "stdout",
     "output_type": "stream",
     "text": [
      "internal accuracy: 0.9840933191940615\n",
      "Accuracy: 0.9813242784380306\n"
     ]
    }
   ],
   "source": [
    "y = train1.target\n",
    "x = train1.loc[:, train.columns != 'target']\n",
    "y1 = test1.target\n",
    "x1 = test1.loc[:, test.columns != 'target']\n",
    "\n",
    "X_train, X_test, y_train, y_test = train_test_split(x, y, test_size=0.2)\n",
    "model=RandomForestClassifier(n_estimators=100)\n",
    "\n",
    "#Train the model using the training sets y_pred=clf.predict(X_test)\n",
    "model.fit(X_train,y_train)\n",
    "y_pred=model.predict(X_test)\n",
    "print(\"internal accuracy:\", metrics.accuracy_score(y_test, y_pred))\n",
    "\n",
    "y_pred=model.predict(x1)\n",
    "fold1= metrics.accuracy_score(y1, y_pred)\n",
    "\n",
    "print(\"Accuracy:\",fold1)"
   ]
  },
  {
   "cell_type": "code",
   "execution_count": 235,
   "id": "ceramic-tablet",
   "metadata": {},
   "outputs": [
    {
     "name": "stdout",
     "output_type": "stream",
     "text": [
      "internal accuracy: 0.9840933191940615\n",
      "Accuracy: 0.9957591178965225\n"
     ]
    }
   ],
   "source": [
    "y = train2.target\n",
    "x = train2.loc[:, train.columns != 'target']\n",
    "y1 = test2.target\n",
    "x1 = test2.loc[:, test.columns != 'target']\n",
    "\n",
    "\n",
    "X_train, X_test, y_train, y_test = train_test_split(x, y, test_size=0.2)\n",
    "model=RandomForestClassifier(n_estimators=100)\n",
    "\n",
    "#Train the model using the training sets y_pred=clf.predict(X_test)\n",
    "model.fit(X_train,y_train)\n",
    "y_pred=model.predict(X_test)\n",
    "print(\"internal accuracy:\", metrics.accuracy_score(y_test, y_pred))\n",
    "\n",
    "y_pred=model.predict(x1)\n",
    "fold2= metrics.accuracy_score(y1, y_pred)\n",
    "print(\"Accuracy:\",fold2)"
   ]
  },
  {
   "cell_type": "code",
   "execution_count": 236,
   "id": "bottom-samuel",
   "metadata": {},
   "outputs": [
    {
     "name": "stdout",
     "output_type": "stream",
     "text": [
      "internal accuracy: 0.9978791092258749\n",
      "Accuracy: 0.4473684210526316\n"
     ]
    }
   ],
   "source": [
    "y = train3.target\n",
    "x = train3.loc[:, train.columns != 'target']\n",
    "y1 = test3.target\n",
    "x1 = test3.loc[:, test.columns != 'target']\n",
    "\n",
    "\n",
    "X_train, X_test, y_train, y_test = train_test_split(x, y, test_size=0.2)\n",
    "model=RandomForestClassifier(n_estimators=100)\n",
    "\n",
    "#Train the model using the training sets y_pred=clf.predict(X_test)\n",
    "model.fit(X_train,y_train)\n",
    "y_pred=model.predict(X_test)\n",
    "print(\"internal accuracy:\", metrics.accuracy_score(y_test, y_pred))\n",
    "\n",
    "y_pred=model.predict(x1)\n",
    "fold3= metrics.accuracy_score(y1, y_pred)\n",
    "print(\"Accuracy:\",fold3)"
   ]
  },
  {
   "cell_type": "code",
   "execution_count": 237,
   "id": "pursuant-spread",
   "metadata": {},
   "outputs": [
    {
     "name": "stdout",
     "output_type": "stream",
     "text": [
      "internal accuracy: 0.9862142099681867\n",
      "Accuracy: 0.49957591178965227\n"
     ]
    }
   ],
   "source": [
    "y = train4.target\n",
    "x = train4.loc[:, train.columns != 'target']\n",
    "y1 = test4.target\n",
    "x1 = test4.loc[:, test.columns != 'target']\n",
    "\n",
    "\n",
    "X_train, X_test, y_train, y_test = train_test_split(x, y, test_size=0.2)\n",
    "model=RandomForestClassifier(n_estimators=100)\n",
    "\n",
    "#Train the model using the training sets y_pred=clf.predict(X_test)\n",
    "model.fit(X_train,y_train)\n",
    "y_pred=model.predict(X_test)\n",
    "print(\"internal accuracy:\", metrics.accuracy_score(y_test, y_pred))\n",
    "\n",
    "y_pred=model.predict(x1)\n",
    "fold4= metrics.accuracy_score(y1, y_pred)\n",
    "print(\"Accuracy:\",fold4)"
   ]
  },
  {
   "cell_type": "code",
   "execution_count": 233,
   "id": "statistical-germany",
   "metadata": {},
   "outputs": [
    {
     "name": "stdout",
     "output_type": "stream",
     "text": [
      "internal accuracy: 0.9830328738069989\n",
      "Accuracy: 0.5979643765903307\n"
     ]
    }
   ],
   "source": [
    "y = train5.target\n",
    "x = train5.loc[:, train.columns != 'target']\n",
    "y1 = test5.target\n",
    "x1 = test5.loc[:, test.columns != 'target']\n",
    "\n",
    "\n",
    "X_train, X_test, y_train, y_test = train_test_split(x, y, test_size=0.2)\n",
    "model=RandomForestClassifier(n_estimators=100)\n",
    "\n",
    "#Train the model using the training sets y_pred=clf.predict(X_test)\n",
    "model.fit(X_train,y_train)\n",
    "y_pred=model.predict(X_test)\n",
    "print(\"internal accuracy:\", metrics.accuracy_score(y_test, y_pred))\n",
    "\n",
    "y_pred=model.predict(x1)\n",
    "fold5= metrics.accuracy_score(y1, y_pred)\n",
    "print(\"Accuracy:\",fold5)"
   ]
  },
  {
   "cell_type": "code",
   "execution_count": 238,
   "id": "fitting-coral",
   "metadata": {},
   "outputs": [
    {
     "name": "stdout",
     "output_type": "stream",
     "text": [
      "mean_fold: 0.7037193040057256\n"
     ]
    }
   ],
   "source": [
    "print(\"mean_fold:\",(fold1+fold2+fold3+fold4+fold5)/5)"
   ]
  },
  {
   "cell_type": "code",
   "execution_count": 102,
   "id": "blond-macedonia",
   "metadata": {},
   "outputs": [
    {
     "name": "stdout",
     "output_type": "stream",
     "text": [
      "Accuracy: 0.992 (0.005)\n"
     ]
    }
   ],
   "source": [
    "# stratified kfold insignificant --> 0.992"
   ]
  },
  {
   "cell_type": "code",
   "execution_count": 221,
   "id": "rotary-tourist",
   "metadata": {},
   "outputs": [
    {
     "name": "stdout",
     "output_type": "stream",
     "text": [
      "Feature: 0, Score: 0.01886\n",
      "Feature: 1, Score: 0.01023\n",
      "Feature: 2, Score: 0.01171\n",
      "Feature: 3, Score: 0.02018\n",
      "Feature: 4, Score: 0.01523\n",
      "Feature: 5, Score: 0.04524\n",
      "Feature: 6, Score: 0.00991\n",
      "Feature: 7, Score: 0.00977\n",
      "Feature: 8, Score: 0.01002\n",
      "Feature: 9, Score: 0.01575\n",
      "Feature: 10, Score: 0.00849\n",
      "Feature: 11, Score: 0.00781\n",
      "Feature: 12, Score: 0.00831\n",
      "Feature: 13, Score: 0.00479\n",
      "Feature: 14, Score: 0.02756\n",
      "Feature: 15, Score: 0.01571\n",
      "Feature: 16, Score: 0.02094\n",
      "Feature: 17, Score: 0.02345\n",
      "Feature: 18, Score: 0.03115\n",
      "Feature: 19, Score: 0.01167\n",
      "Feature: 20, Score: 0.01723\n",
      "Feature: 21, Score: 0.01273\n",
      "Feature: 22, Score: 0.02040\n",
      "Feature: 23, Score: 0.02303\n",
      "Feature: 24, Score: 0.02634\n",
      "Feature: 25, Score: 0.00563\n",
      "Feature: 26, Score: 0.04768\n",
      "Feature: 27, Score: 0.01836\n",
      "Feature: 28, Score: 0.03366\n",
      "Feature: 29, Score: 0.01490\n",
      "Feature: 30, Score: 0.02519\n",
      "Feature: 31, Score: 0.02150\n",
      "Feature: 32, Score: 0.03165\n",
      "Feature: 33, Score: 0.01164\n",
      "Feature: 34, Score: 0.01678\n",
      "Feature: 35, Score: 0.01821\n",
      "Feature: 36, Score: 0.02159\n",
      "Feature: 37, Score: 0.00273\n",
      "Feature: 38, Score: 0.00713\n",
      "Feature: 39, Score: 0.00683\n",
      "Feature: 40, Score: 0.00615\n",
      "Feature: 41, Score: 0.00506\n",
      "Feature: 42, Score: 0.00940\n",
      "Feature: 43, Score: 0.01225\n",
      "Feature: 44, Score: 0.00951\n",
      "Feature: 45, Score: 0.00169\n",
      "Feature: 46, Score: 0.00179\n",
      "Feature: 47, Score: 0.00202\n",
      "Feature: 48, Score: 0.00190\n",
      "Feature: 49, Score: 0.00076\n",
      "Feature: 50, Score: 0.00917\n",
      "Feature: 51, Score: 0.01361\n",
      "Feature: 52, Score: 0.01071\n",
      "Feature: 53, Score: 0.00795\n",
      "Feature: 54, Score: 0.01268\n",
      "Feature: 55, Score: 0.01602\n",
      "Feature: 56, Score: 0.00921\n",
      "Feature: 57, Score: 0.00011\n",
      "Feature: 58, Score: 0.01131\n",
      "Feature: 59, Score: 0.01414\n",
      "Feature: 60, Score: 0.01128\n",
      "Feature: 61, Score: 0.00733\n",
      "Feature: 62, Score: 0.04085\n",
      "Feature: 63, Score: 0.03308\n",
      "Feature: 64, Score: 0.03808\n",
      "Feature: 65, Score: 0.00399\n"
     ]
    },
    {
     "data": {
      "image/png": "[encoded data removed]",
      "text/plain": [
       "<Figure size 432x288 with 1 Axes>"
      ]
     },
     "metadata": {
      "needs_background": "light"
     },
     "output_type": "display_data"
    },
    {
     "name": "stdout",
     "output_type": "stream",
     "text": [
      "Accuracy: 0.9865724381625441\n"
     ]
    }
   ],
   "source": [
    "#pred = model.predict(x1)\n",
    "from sklearn import metrics\n",
    "X_train, X_test, y_train, y_test = train_test_split(x, y, test_size=0.3)\n",
    "clf=RandomForestClassifier(n_estimators=100)\n",
    "\n",
    "#Train the model using the training sets y_pred=clf.predict(X_test)\n",
    "clf.fit(X_train,y_train)\n",
    "\n",
    "y_pred=clf.predict(X_test)\n",
    "# get importance\n",
    "importance = clf.feature_importances_\n",
    "# summarize feature importance\n",
    "for i,v in enumerate(importance):\n",
    "\tprint('Feature: %0d, Score: %.5f' % (i,v))\n",
    "# plot feature importance\n",
    "pyplot.bar([x for x in range(len(importance))], importance)\n",
    "plt.savefig('feature_distribution.png')\n",
    "pyplot.show()\n",
    "\n",
    "print(\"Accuracy:\",metrics.accuracy_score(y_test, y_pred))\n"
   ]
  },
  {
   "cell_type": "code",
   "execution_count": 222,
   "id": "ethical-width",
   "metadata": {},
   "outputs": [
    {
     "name": "stdout",
     "output_type": "stream",
     "text": [
      "Accuracy: 0.987 (0.003)\n"
     ]
    }
   ],
   "source": [
    "# evaluate a logistic regression model using k-fold cross-validation\n",
    "from numpy import mean\n",
    "from numpy import std\n",
    "from sklearn.datasets import make_classification\n",
    "from sklearn.model_selection import KFold\n",
    "from sklearn.model_selection import cross_val_score\n",
    "from sklearn.linear_model import LogisticRegression\n",
    "\n",
    "model = RandomForestClassifier(n_estimators=100)\n",
    "model1 = LogisticRegression()\n",
    "\n",
    "# evaluate the model\n",
    "cv = KFold(n_splits=10, random_state=1, shuffle=True)\n",
    "n_scores = cross_val_score(model, x, y, scoring='accuracy', cv=cv, n_jobs=-1, error_score='raise')\n",
    "# report performance\n",
    "print('Accuracy: %.3f (%.3f)' % (mean(n_scores), std(n_scores)))"
   ]
  },
  {
   "cell_type": "code",
   "execution_count": 223,
   "id": "civic-lawsuit",
   "metadata": {},
   "outputs": [
    {
     "name": "stdout",
     "output_type": "stream",
     "text": [
      "<class 'pandas.core.frame.DataFrame'> (1415, 66)\n",
      "<class 'pandas.core.frame.DataFrame'> (1179, 66)\n",
      "Accuracy: 0.6564885496183206\n"
     ]
    }
   ],
   "source": [
    "print(type(X_test),X_test.shape)\n",
    "print(type(x1),x1.shape)\n",
    "y_pred=clf.predict(x1)\n",
    "print(\"Accuracy:\",metrics.accuracy_score(y1, y_pred))"
   ]
  },
  {
   "cell_type": "code",
   "execution_count": 254,
   "id": "explicit-peoples",
   "metadata": {},
   "outputs": [
    {
     "name": "stdout",
     "output_type": "stream",
     "text": [
      "[3]\n",
      "[1]\n",
      "[4]\n",
      "[2]\n",
      "[5]\n"
     ]
    }
   ],
   "source": [
    "'''\n",
    "a = x1[:1]\n",
    "#print(type(a))\n",
    "y_pred=clf.predict(a)\n",
    "print(y_pred)\n",
    "a.to_csv(\"input1.csv\")\n",
    "a = x1.iloc[[2]] # df.iloc[[0]]\n",
    "y_pred=clf.predict(a)\n",
    "print(y_pred)\n",
    "a.to_csv(\"input2.csv\")\n",
    "a = x1.iloc[[4]]\n",
    "y_pred=clf.predict(a)\n",
    "print(y_pred)\n",
    "a.to_csv(\"input3.csv\")\n",
    "a = x1.iloc[[5]]\n",
    "y_pred=clf.predict(a)\n",
    "print(y_pred)\n",
    "a.to_csv(\"input4.csv\")\n",
    "a = x1.iloc[[7]]\n",
    "y_pred=clf.predict(a)\n",
    "print(y_pred)\n",
    "a.to_csv(\"input5.csv\")\n",
    "'''\n"
   ]
  },
  {
   "cell_type": "code",
   "execution_count": 178,
   "id": "beautiful-disclaimer",
   "metadata": {},
   "outputs": [
    {
     "name": "stdout",
     "output_type": "stream",
     "text": [
      "F1: 0.5572249730161619\n"
     ]
    }
   ],
   "source": [
    "print(\"F1:\", f1_score(y1, y_pred, average='macro'))"
   ]
  },
  {
   "cell_type": "code",
   "execution_count": 92,
   "id": "loose-stations",
   "metadata": {},
   "outputs": [
    {
     "data": {
      "text/html": [
       "<div>\n",
       "<style scoped>\n",
       "    .dataframe tbody tr th:only-of-type {\n",
       "        vertical-align: middle;\n",
       "    }\n",
       "\n",
       "    .dataframe tbody tr th {\n",
       "        vertical-align: top;\n",
       "    }\n",
       "\n",
       "    .dataframe thead th {\n",
       "        text-align: right;\n",
       "    }\n",
       "</style>\n",
       "<table border=\"1\" class=\"dataframe\">\n",
       "  <thead>\n",
       "    <tr style=\"text-align: right;\">\n",
       "      <th></th>\n",
       "      <th>id</th>\n",
       "      <th>time</th>\n",
       "      <th>activityrecognition#1</th>\n",
       "      <th>android.sensor.accelerometer#mean</th>\n",
       "      <th>android.sensor.accelerometer#min</th>\n",
       "      <th>android.sensor.accelerometer#max</th>\n",
       "      <th>android.sensor.accelerometer#std</th>\n",
       "      <th>android.sensor.game_rotation_vector#mean</th>\n",
       "      <th>android.sensor.game_rotation_vector#min</th>\n",
       "      <th>android.sensor.game_rotation_vector#max</th>\n",
       "      <th>...</th>\n",
       "      <th>sound#mean</th>\n",
       "      <th>sound#min</th>\n",
       "      <th>sound#max</th>\n",
       "      <th>sound#std</th>\n",
       "      <th>speed#mean</th>\n",
       "      <th>speed#min</th>\n",
       "      <th>speed#max</th>\n",
       "      <th>speed#std</th>\n",
       "      <th>target</th>\n",
       "      <th>user</th>\n",
       "    </tr>\n",
       "  </thead>\n",
       "  <tbody>\n",
       "    <tr>\n",
       "      <th>2946</th>\n",
       "      <td>5228</td>\n",
       "      <td>190.0</td>\n",
       "      <td>92.0</td>\n",
       "      <td>10.179832</td>\n",
       "      <td>10.137434</td>\n",
       "      <td>10.207683</td>\n",
       "      <td>0.020380</td>\n",
       "      <td>0.995086</td>\n",
       "      <td>0.995067</td>\n",
       "      <td>0.995112</td>\n",
       "      <td>...</td>\n",
       "      <td>84.350732</td>\n",
       "      <td>84.350732</td>\n",
       "      <td>84.350732</td>\n",
       "      <td>0.923820</td>\n",
       "      <td>8.235254</td>\n",
       "      <td>8.216747</td>\n",
       "      <td>8.253528</td>\n",
       "      <td>0.236959</td>\n",
       "      <td>3</td>\n",
       "      <td>1</td>\n",
       "    </tr>\n",
       "    <tr>\n",
       "      <th>3075</th>\n",
       "      <td>5835</td>\n",
       "      <td>193.0</td>\n",
       "      <td>35.0</td>\n",
       "      <td>10.179362</td>\n",
       "      <td>9.853068</td>\n",
       "      <td>10.587065</td>\n",
       "      <td>0.167584</td>\n",
       "      <td>0.987558</td>\n",
       "      <td>0.987359</td>\n",
       "      <td>0.987745</td>\n",
       "      <td>...</td>\n",
       "      <td>89.762268</td>\n",
       "      <td>89.762268</td>\n",
       "      <td>89.762268</td>\n",
       "      <td>0.001198</td>\n",
       "      <td>8.235254</td>\n",
       "      <td>8.216747</td>\n",
       "      <td>8.253528</td>\n",
       "      <td>0.236959</td>\n",
       "      <td>3</td>\n",
       "      <td>1</td>\n",
       "    </tr>\n",
       "    <tr>\n",
       "      <th>3076</th>\n",
       "      <td>2274</td>\n",
       "      <td>256.0</td>\n",
       "      <td>8.0</td>\n",
       "      <td>9.657759</td>\n",
       "      <td>9.029124</td>\n",
       "      <td>10.286443</td>\n",
       "      <td>0.414025</td>\n",
       "      <td>0.844973</td>\n",
       "      <td>0.840452</td>\n",
       "      <td>0.851091</td>\n",
       "      <td>...</td>\n",
       "      <td>89.769040</td>\n",
       "      <td>89.769040</td>\n",
       "      <td>89.769040</td>\n",
       "      <td>0.013131</td>\n",
       "      <td>30.750000</td>\n",
       "      <td>30.750000</td>\n",
       "      <td>30.750000</td>\n",
       "      <td>0.236959</td>\n",
       "      <td>1</td>\n",
       "      <td>1</td>\n",
       "    </tr>\n",
       "    <tr>\n",
       "      <th>3077</th>\n",
       "      <td>7287</td>\n",
       "      <td>86.0</td>\n",
       "      <td>100.0</td>\n",
       "      <td>10.299321</td>\n",
       "      <td>8.088142</td>\n",
       "      <td>12.456252</td>\n",
       "      <td>1.604990</td>\n",
       "      <td>0.968824</td>\n",
       "      <td>0.956427</td>\n",
       "      <td>0.975352</td>\n",
       "      <td>...</td>\n",
       "      <td>88.572737</td>\n",
       "      <td>88.572737</td>\n",
       "      <td>88.572737</td>\n",
       "      <td>0.095157</td>\n",
       "      <td>0.750000</td>\n",
       "      <td>0.750000</td>\n",
       "      <td>0.750000</td>\n",
       "      <td>0.236959</td>\n",
       "      <td>5</td>\n",
       "      <td>1</td>\n",
       "    </tr>\n",
       "    <tr>\n",
       "      <th>3079</th>\n",
       "      <td>184</td>\n",
       "      <td>91.0</td>\n",
       "      <td>85.0</td>\n",
       "      <td>9.729062</td>\n",
       "      <td>7.139446</td>\n",
       "      <td>14.355289</td>\n",
       "      <td>2.184604</td>\n",
       "      <td>0.928255</td>\n",
       "      <td>0.925184</td>\n",
       "      <td>0.931989</td>\n",
       "      <td>...</td>\n",
       "      <td>89.773691</td>\n",
       "      <td>89.767912</td>\n",
       "      <td>89.779470</td>\n",
       "      <td>0.008173</td>\n",
       "      <td>11.000000</td>\n",
       "      <td>11.000000</td>\n",
       "      <td>11.000000</td>\n",
       "      <td>0.236959</td>\n",
       "      <td>4</td>\n",
       "      <td>1</td>\n",
       "    </tr>\n",
       "    <tr>\n",
       "      <th>...</th>\n",
       "      <td>...</td>\n",
       "      <td>...</td>\n",
       "      <td>...</td>\n",
       "      <td>...</td>\n",
       "      <td>...</td>\n",
       "      <td>...</td>\n",
       "      <td>...</td>\n",
       "      <td>...</td>\n",
       "      <td>...</td>\n",
       "      <td>...</td>\n",
       "      <td>...</td>\n",
       "      <td>...</td>\n",
       "      <td>...</td>\n",
       "      <td>...</td>\n",
       "      <td>...</td>\n",
       "      <td>...</td>\n",
       "      <td>...</td>\n",
       "      <td>...</td>\n",
       "      <td>...</td>\n",
       "      <td>...</td>\n",
       "      <td>...</td>\n",
       "    </tr>\n",
       "    <tr>\n",
       "      <th>5223</th>\n",
       "      <td>21190</td>\n",
       "      <td>72.0</td>\n",
       "      <td>46.0</td>\n",
       "      <td>9.813829</td>\n",
       "      <td>8.480456</td>\n",
       "      <td>11.045430</td>\n",
       "      <td>0.420721</td>\n",
       "      <td>0.759280</td>\n",
       "      <td>0.743872</td>\n",
       "      <td>0.771629</td>\n",
       "      <td>...</td>\n",
       "      <td>70.725101</td>\n",
       "      <td>66.415385</td>\n",
       "      <td>75.034817</td>\n",
       "      <td>6.094859</td>\n",
       "      <td>3.500000</td>\n",
       "      <td>3.500000</td>\n",
       "      <td>3.500000</td>\n",
       "      <td>0.883883</td>\n",
       "      <td>4</td>\n",
       "      <td>6</td>\n",
       "    </tr>\n",
       "    <tr>\n",
       "      <th>1303</th>\n",
       "      <td>21588</td>\n",
       "      <td>28.0</td>\n",
       "      <td>100.0</td>\n",
       "      <td>9.594941</td>\n",
       "      <td>9.313803</td>\n",
       "      <td>9.864101</td>\n",
       "      <td>0.071488</td>\n",
       "      <td>0.759280</td>\n",
       "      <td>0.743872</td>\n",
       "      <td>0.771629</td>\n",
       "      <td>...</td>\n",
       "      <td>39.369659</td>\n",
       "      <td>39.369659</td>\n",
       "      <td>39.369659</td>\n",
       "      <td>1.913065</td>\n",
       "      <td>8.235254</td>\n",
       "      <td>8.216747</td>\n",
       "      <td>8.253528</td>\n",
       "      <td>0.236959</td>\n",
       "      <td>2</td>\n",
       "      <td>6</td>\n",
       "    </tr>\n",
       "    <tr>\n",
       "      <th>5527</th>\n",
       "      <td>21969</td>\n",
       "      <td>11.0</td>\n",
       "      <td>100.0</td>\n",
       "      <td>10.152073</td>\n",
       "      <td>5.343652</td>\n",
       "      <td>17.018795</td>\n",
       "      <td>2.925637</td>\n",
       "      <td>0.759280</td>\n",
       "      <td>0.743872</td>\n",
       "      <td>0.771629</td>\n",
       "      <td>...</td>\n",
       "      <td>72.157675</td>\n",
       "      <td>72.157675</td>\n",
       "      <td>72.157675</td>\n",
       "      <td>1.913065</td>\n",
       "      <td>0.750000</td>\n",
       "      <td>0.750000</td>\n",
       "      <td>0.750000</td>\n",
       "      <td>0.236959</td>\n",
       "      <td>5</td>\n",
       "      <td>6</td>\n",
       "    </tr>\n",
       "    <tr>\n",
       "      <th>2201</th>\n",
       "      <td>21349</td>\n",
       "      <td>54.0</td>\n",
       "      <td>100.0</td>\n",
       "      <td>10.062139</td>\n",
       "      <td>8.815584</td>\n",
       "      <td>11.753848</td>\n",
       "      <td>0.495030</td>\n",
       "      <td>0.759280</td>\n",
       "      <td>0.743872</td>\n",
       "      <td>0.771629</td>\n",
       "      <td>...</td>\n",
       "      <td>73.302235</td>\n",
       "      <td>73.302235</td>\n",
       "      <td>73.302235</td>\n",
       "      <td>1.999672</td>\n",
       "      <td>4.750000</td>\n",
       "      <td>4.750000</td>\n",
       "      <td>4.750000</td>\n",
       "      <td>0.236959</td>\n",
       "      <td>1</td>\n",
       "      <td>6</td>\n",
       "    </tr>\n",
       "    <tr>\n",
       "      <th>5188</th>\n",
       "      <td>21159</td>\n",
       "      <td>41.0</td>\n",
       "      <td>46.0</td>\n",
       "      <td>9.978025</td>\n",
       "      <td>9.602366</td>\n",
       "      <td>10.403309</td>\n",
       "      <td>0.146505</td>\n",
       "      <td>0.759280</td>\n",
       "      <td>0.743872</td>\n",
       "      <td>0.771629</td>\n",
       "      <td>...</td>\n",
       "      <td>79.996525</td>\n",
       "      <td>79.996525</td>\n",
       "      <td>79.996525</td>\n",
       "      <td>5.538316</td>\n",
       "      <td>0.000000</td>\n",
       "      <td>0.000000</td>\n",
       "      <td>0.000000</td>\n",
       "      <td>0.353553</td>\n",
       "      <td>4</td>\n",
       "      <td>6</td>\n",
       "    </tr>\n",
       "  </tbody>\n",
       "</table>\n",
       "<p>4714 rows × 69 columns</p>\n",
       "</div>"
      ],
      "text/plain": [
       "         id   time  activityrecognition#1  android.sensor.accelerometer#mean  \\\n",
       "2946   5228  190.0                   92.0                          10.179832   \n",
       "3075   5835  193.0                   35.0                          10.179362   \n",
       "3076   2274  256.0                    8.0                           9.657759   \n",
       "3077   7287   86.0                  100.0                          10.299321   \n",
       "3079    184   91.0                   85.0                           9.729062   \n",
       "...     ...    ...                    ...                                ...   \n",
       "5223  21190   72.0                   46.0                           9.813829   \n",
       "1303  21588   28.0                  100.0                           9.594941   \n",
       "5527  21969   11.0                  100.0                          10.152073   \n",
       "2201  21349   54.0                  100.0                          10.062139   \n",
       "5188  21159   41.0                   46.0                           9.978025   \n",
       "\n",
       "      android.sensor.accelerometer#min  android.sensor.accelerometer#max  \\\n",
       "2946                         10.137434                         10.207683   \n",
       "3075                          9.853068                         10.587065   \n",
       "3076                          9.029124                         10.286443   \n",
       "3077                          8.088142                         12.456252   \n",
       "3079                          7.139446                         14.355289   \n",
       "...                                ...                               ...   \n",
       "5223                          8.480456                         11.045430   \n",
       "1303                          9.313803                          9.864101   \n",
       "5527                          5.343652                         17.018795   \n",
       "2201                          8.815584                         11.753848   \n",
       "5188                          9.602366                         10.403309   \n",
       "\n",
       "      android.sensor.accelerometer#std  \\\n",
       "2946                          0.020380   \n",
       "3075                          0.167584   \n",
       "3076                          0.414025   \n",
       "3077                          1.604990   \n",
       "3079                          2.184604   \n",
       "...                                ...   \n",
       "5223                          0.420721   \n",
       "1303                          0.071488   \n",
       "5527                          2.925637   \n",
       "2201                          0.495030   \n",
       "5188                          0.146505   \n",
       "\n",
       "      android.sensor.game_rotation_vector#mean  \\\n",
       "2946                                  0.995086   \n",
       "3075                                  0.987558   \n",
       "3076                                  0.844973   \n",
       "3077                                  0.968824   \n",
       "3079                                  0.928255   \n",
       "...                                        ...   \n",
       "5223                                  0.759280   \n",
       "1303                                  0.759280   \n",
       "5527                                  0.759280   \n",
       "2201                                  0.759280   \n",
       "5188                                  0.759280   \n",
       "\n",
       "      android.sensor.game_rotation_vector#min  \\\n",
       "2946                                 0.995067   \n",
       "3075                                 0.987359   \n",
       "3076                                 0.840452   \n",
       "3077                                 0.956427   \n",
       "3079                                 0.925184   \n",
       "...                                       ...   \n",
       "5223                                 0.743872   \n",
       "1303                                 0.743872   \n",
       "5527                                 0.743872   \n",
       "2201                                 0.743872   \n",
       "5188                                 0.743872   \n",
       "\n",
       "      android.sensor.game_rotation_vector#max  ...  sound#mean  sound#min  \\\n",
       "2946                                 0.995112  ...   84.350732  84.350732   \n",
       "3075                                 0.987745  ...   89.762268  89.762268   \n",
       "3076                                 0.851091  ...   89.769040  89.769040   \n",
       "3077                                 0.975352  ...   88.572737  88.572737   \n",
       "3079                                 0.931989  ...   89.773691  89.767912   \n",
       "...                                       ...  ...         ...        ...   \n",
       "5223                                 0.771629  ...   70.725101  66.415385   \n",
       "1303                                 0.771629  ...   39.369659  39.369659   \n",
       "5527                                 0.771629  ...   72.157675  72.157675   \n",
       "2201                                 0.771629  ...   73.302235  73.302235   \n",
       "5188                                 0.771629  ...   79.996525  79.996525   \n",
       "\n",
       "      sound#max  sound#std  speed#mean  speed#min  speed#max  speed#std  \\\n",
       "2946  84.350732   0.923820    8.235254   8.216747   8.253528   0.236959   \n",
       "3075  89.762268   0.001198    8.235254   8.216747   8.253528   0.236959   \n",
       "3076  89.769040   0.013131   30.750000  30.750000  30.750000   0.236959   \n",
       "3077  88.572737   0.095157    0.750000   0.750000   0.750000   0.236959   \n",
       "3079  89.779470   0.008173   11.000000  11.000000  11.000000   0.236959   \n",
       "...         ...        ...         ...        ...        ...        ...   \n",
       "5223  75.034817   6.094859    3.500000   3.500000   3.500000   0.883883   \n",
       "1303  39.369659   1.913065    8.235254   8.216747   8.253528   0.236959   \n",
       "5527  72.157675   1.913065    0.750000   0.750000   0.750000   0.236959   \n",
       "2201  73.302235   1.999672    4.750000   4.750000   4.750000   0.236959   \n",
       "5188  79.996525   5.538316    0.000000   0.000000   0.000000   0.353553   \n",
       "\n",
       "      target  user  \n",
       "2946       3     1  \n",
       "3075       3     1  \n",
       "3076       1     1  \n",
       "3077       5     1  \n",
       "3079       4     1  \n",
       "...      ...   ...  \n",
       "5223       4     6  \n",
       "1303       2     6  \n",
       "5527       5     6  \n",
       "2201       1     6  \n",
       "5188       4     6  \n",
       "\n",
       "[4714 rows x 69 columns]"
      ]
     },
     "execution_count": 92,
     "metadata": {},
     "output_type": "execute_result"
    }
   ],
   "source": [
    "train"
   ]
  },
  {
   "cell_type": "code",
   "execution_count": 93,
   "id": "increased-platinum",
   "metadata": {},
   "outputs": [
    {
     "data": {
      "text/html": [
       "<div>\n",
       "<style scoped>\n",
       "    .dataframe tbody tr th:only-of-type {\n",
       "        vertical-align: middle;\n",
       "    }\n",
       "\n",
       "    .dataframe tbody tr th {\n",
       "        vertical-align: top;\n",
       "    }\n",
       "\n",
       "    .dataframe thead th {\n",
       "        text-align: right;\n",
       "    }\n",
       "</style>\n",
       "<table border=\"1\" class=\"dataframe\">\n",
       "  <thead>\n",
       "    <tr style=\"text-align: right;\">\n",
       "      <th></th>\n",
       "      <th>id</th>\n",
       "      <th>time</th>\n",
       "      <th>activityrecognition#1</th>\n",
       "      <th>android.sensor.accelerometer#mean</th>\n",
       "      <th>android.sensor.accelerometer#min</th>\n",
       "      <th>android.sensor.accelerometer#max</th>\n",
       "      <th>android.sensor.accelerometer#std</th>\n",
       "      <th>android.sensor.game_rotation_vector#mean</th>\n",
       "      <th>android.sensor.game_rotation_vector#min</th>\n",
       "      <th>android.sensor.game_rotation_vector#max</th>\n",
       "      <th>...</th>\n",
       "      <th>sound#mean</th>\n",
       "      <th>sound#min</th>\n",
       "      <th>sound#max</th>\n",
       "      <th>sound#std</th>\n",
       "      <th>speed#mean</th>\n",
       "      <th>speed#min</th>\n",
       "      <th>speed#max</th>\n",
       "      <th>speed#std</th>\n",
       "      <th>target</th>\n",
       "      <th>user</th>\n",
       "    </tr>\n",
       "  </thead>\n",
       "  <tbody>\n",
       "    <tr>\n",
       "      <th>3405</th>\n",
       "      <td>22014</td>\n",
       "      <td>32.0</td>\n",
       "      <td>100.0</td>\n",
       "      <td>10.016017</td>\n",
       "      <td>6.695976</td>\n",
       "      <td>17.216023</td>\n",
       "      <td>2.291921</td>\n",
       "      <td>0.759280</td>\n",
       "      <td>0.743872</td>\n",
       "      <td>0.771629</td>\n",
       "      <td>...</td>\n",
       "      <td>77.430291</td>\n",
       "      <td>77.430291</td>\n",
       "      <td>77.430291</td>\n",
       "      <td>6.594260</td>\n",
       "      <td>2.358495</td>\n",
       "      <td>2.358495</td>\n",
       "      <td>2.358495</td>\n",
       "      <td>0.000000</td>\n",
       "      <td>5</td>\n",
       "      <td>6</td>\n",
       "    </tr>\n",
       "    <tr>\n",
       "      <th>5109</th>\n",
       "      <td>21477</td>\n",
       "      <td>12.0</td>\n",
       "      <td>100.0</td>\n",
       "      <td>10.076863</td>\n",
       "      <td>9.980503</td>\n",
       "      <td>10.172089</td>\n",
       "      <td>0.043253</td>\n",
       "      <td>0.759280</td>\n",
       "      <td>0.743872</td>\n",
       "      <td>0.771629</td>\n",
       "      <td>...</td>\n",
       "      <td>38.061800</td>\n",
       "      <td>38.061800</td>\n",
       "      <td>38.061800</td>\n",
       "      <td>1.038442</td>\n",
       "      <td>8.235254</td>\n",
       "      <td>8.216747</td>\n",
       "      <td>8.253528</td>\n",
       "      <td>0.236959</td>\n",
       "      <td>2</td>\n",
       "      <td>6</td>\n",
       "    </tr>\n",
       "    <tr>\n",
       "      <th>1061</th>\n",
       "      <td>21155</td>\n",
       "      <td>37.0</td>\n",
       "      <td>46.0</td>\n",
       "      <td>10.097191</td>\n",
       "      <td>8.677063</td>\n",
       "      <td>12.176887</td>\n",
       "      <td>0.579607</td>\n",
       "      <td>0.759280</td>\n",
       "      <td>0.743872</td>\n",
       "      <td>0.771629</td>\n",
       "      <td>...</td>\n",
       "      <td>74.703991</td>\n",
       "      <td>74.703991</td>\n",
       "      <td>74.703991</td>\n",
       "      <td>5.538316</td>\n",
       "      <td>3.250000</td>\n",
       "      <td>3.000000</td>\n",
       "      <td>3.500000</td>\n",
       "      <td>0.353553</td>\n",
       "      <td>4</td>\n",
       "      <td>6</td>\n",
       "    </tr>\n",
       "    <tr>\n",
       "      <th>1045</th>\n",
       "      <td>21440</td>\n",
       "      <td>67.0</td>\n",
       "      <td>46.0</td>\n",
       "      <td>9.667734</td>\n",
       "      <td>7.994919</td>\n",
       "      <td>12.931701</td>\n",
       "      <td>0.851957</td>\n",
       "      <td>0.759280</td>\n",
       "      <td>0.743872</td>\n",
       "      <td>0.771629</td>\n",
       "      <td>...</td>\n",
       "      <td>75.447901</td>\n",
       "      <td>75.447901</td>\n",
       "      <td>75.447901</td>\n",
       "      <td>3.376136</td>\n",
       "      <td>18.500000</td>\n",
       "      <td>18.500000</td>\n",
       "      <td>18.500000</td>\n",
       "      <td>0.353553</td>\n",
       "      <td>1</td>\n",
       "      <td>6</td>\n",
       "    </tr>\n",
       "    <tr>\n",
       "      <th>1317</th>\n",
       "      <td>21549</td>\n",
       "      <td>84.0</td>\n",
       "      <td>100.0</td>\n",
       "      <td>9.695505</td>\n",
       "      <td>9.557380</td>\n",
       "      <td>9.929158</td>\n",
       "      <td>0.060032</td>\n",
       "      <td>0.759280</td>\n",
       "      <td>0.743872</td>\n",
       "      <td>0.771629</td>\n",
       "      <td>...</td>\n",
       "      <td>36.123599</td>\n",
       "      <td>36.123599</td>\n",
       "      <td>36.123599</td>\n",
       "      <td>1.426948</td>\n",
       "      <td>8.235254</td>\n",
       "      <td>8.216747</td>\n",
       "      <td>8.253528</td>\n",
       "      <td>0.236959</td>\n",
       "      <td>2</td>\n",
       "      <td>6</td>\n",
       "    </tr>\n",
       "    <tr>\n",
       "      <th>...</th>\n",
       "      <td>...</td>\n",
       "      <td>...</td>\n",
       "      <td>...</td>\n",
       "      <td>...</td>\n",
       "      <td>...</td>\n",
       "      <td>...</td>\n",
       "      <td>...</td>\n",
       "      <td>...</td>\n",
       "      <td>...</td>\n",
       "      <td>...</td>\n",
       "      <td>...</td>\n",
       "      <td>...</td>\n",
       "      <td>...</td>\n",
       "      <td>...</td>\n",
       "      <td>...</td>\n",
       "      <td>...</td>\n",
       "      <td>...</td>\n",
       "      <td>...</td>\n",
       "      <td>...</td>\n",
       "      <td>...</td>\n",
       "      <td>...</td>\n",
       "    </tr>\n",
       "    <tr>\n",
       "      <th>5063</th>\n",
       "      <td>20310</td>\n",
       "      <td>25.0</td>\n",
       "      <td>100.0</td>\n",
       "      <td>10.637163</td>\n",
       "      <td>2.471217</td>\n",
       "      <td>28.961093</td>\n",
       "      <td>5.469623</td>\n",
       "      <td>0.814607</td>\n",
       "      <td>0.814607</td>\n",
       "      <td>0.814607</td>\n",
       "      <td>...</td>\n",
       "      <td>84.941781</td>\n",
       "      <td>84.941781</td>\n",
       "      <td>84.941781</td>\n",
       "      <td>0.945771</td>\n",
       "      <td>1.463377</td>\n",
       "      <td>1.463377</td>\n",
       "      <td>1.463377</td>\n",
       "      <td>0.010040</td>\n",
       "      <td>5</td>\n",
       "      <td>13</td>\n",
       "    </tr>\n",
       "    <tr>\n",
       "      <th>1296</th>\n",
       "      <td>20330</td>\n",
       "      <td>45.0</td>\n",
       "      <td>100.0</td>\n",
       "      <td>11.333011</td>\n",
       "      <td>3.124888</td>\n",
       "      <td>35.098704</td>\n",
       "      <td>5.852742</td>\n",
       "      <td>0.763646</td>\n",
       "      <td>0.763646</td>\n",
       "      <td>0.763646</td>\n",
       "      <td>...</td>\n",
       "      <td>82.625956</td>\n",
       "      <td>82.625956</td>\n",
       "      <td>82.625956</td>\n",
       "      <td>5.321307</td>\n",
       "      <td>0.891086</td>\n",
       "      <td>0.883836</td>\n",
       "      <td>0.898335</td>\n",
       "      <td>0.010252</td>\n",
       "      <td>5</td>\n",
       "      <td>13</td>\n",
       "    </tr>\n",
       "    <tr>\n",
       "      <th>1619</th>\n",
       "      <td>20292</td>\n",
       "      <td>7.0</td>\n",
       "      <td>100.0</td>\n",
       "      <td>10.592901</td>\n",
       "      <td>4.633172</td>\n",
       "      <td>16.071722</td>\n",
       "      <td>2.962479</td>\n",
       "      <td>0.710383</td>\n",
       "      <td>0.647101</td>\n",
       "      <td>0.761554</td>\n",
       "      <td>...</td>\n",
       "      <td>84.591077</td>\n",
       "      <td>84.591077</td>\n",
       "      <td>84.591077</td>\n",
       "      <td>1.913065</td>\n",
       "      <td>1.402243</td>\n",
       "      <td>1.402243</td>\n",
       "      <td>1.402243</td>\n",
       "      <td>0.236959</td>\n",
       "      <td>5</td>\n",
       "      <td>13</td>\n",
       "    </tr>\n",
       "    <tr>\n",
       "      <th>2314</th>\n",
       "      <td>20299</td>\n",
       "      <td>14.0</td>\n",
       "      <td>100.0</td>\n",
       "      <td>11.132643</td>\n",
       "      <td>7.024562</td>\n",
       "      <td>18.064503</td>\n",
       "      <td>2.831729</td>\n",
       "      <td>0.923661</td>\n",
       "      <td>0.910555</td>\n",
       "      <td>0.943459</td>\n",
       "      <td>...</td>\n",
       "      <td>76.260939</td>\n",
       "      <td>76.260939</td>\n",
       "      <td>76.260939</td>\n",
       "      <td>1.913065</td>\n",
       "      <td>1.213918</td>\n",
       "      <td>1.213918</td>\n",
       "      <td>1.213918</td>\n",
       "      <td>0.236959</td>\n",
       "      <td>5</td>\n",
       "      <td>13</td>\n",
       "    </tr>\n",
       "    <tr>\n",
       "      <th>640</th>\n",
       "      <td>20308</td>\n",
       "      <td>23.0</td>\n",
       "      <td>100.0</td>\n",
       "      <td>9.746732</td>\n",
       "      <td>3.348920</td>\n",
       "      <td>19.931811</td>\n",
       "      <td>4.062253</td>\n",
       "      <td>0.984727</td>\n",
       "      <td>0.984727</td>\n",
       "      <td>0.984727</td>\n",
       "      <td>...</td>\n",
       "      <td>87.408041</td>\n",
       "      <td>87.408041</td>\n",
       "      <td>87.408041</td>\n",
       "      <td>0.945771</td>\n",
       "      <td>1.463377</td>\n",
       "      <td>1.463377</td>\n",
       "      <td>1.463377</td>\n",
       "      <td>0.010040</td>\n",
       "      <td>5</td>\n",
       "      <td>13</td>\n",
       "    </tr>\n",
       "  </tbody>\n",
       "</table>\n",
       "<p>1179 rows × 69 columns</p>\n",
       "</div>"
      ],
      "text/plain": [
       "         id  time  activityrecognition#1  android.sensor.accelerometer#mean  \\\n",
       "3405  22014  32.0                  100.0                          10.016017   \n",
       "5109  21477  12.0                  100.0                          10.076863   \n",
       "1061  21155  37.0                   46.0                          10.097191   \n",
       "1045  21440  67.0                   46.0                           9.667734   \n",
       "1317  21549  84.0                  100.0                           9.695505   \n",
       "...     ...   ...                    ...                                ...   \n",
       "5063  20310  25.0                  100.0                          10.637163   \n",
       "1296  20330  45.0                  100.0                          11.333011   \n",
       "1619  20292   7.0                  100.0                          10.592901   \n",
       "2314  20299  14.0                  100.0                          11.132643   \n",
       "640   20308  23.0                  100.0                           9.746732   \n",
       "\n",
       "      android.sensor.accelerometer#min  android.sensor.accelerometer#max  \\\n",
       "3405                          6.695976                         17.216023   \n",
       "5109                          9.980503                         10.172089   \n",
       "1061                          8.677063                         12.176887   \n",
       "1045                          7.994919                         12.931701   \n",
       "1317                          9.557380                          9.929158   \n",
       "...                                ...                               ...   \n",
       "5063                          2.471217                         28.961093   \n",
       "1296                          3.124888                         35.098704   \n",
       "1619                          4.633172                         16.071722   \n",
       "2314                          7.024562                         18.064503   \n",
       "640                           3.348920                         19.931811   \n",
       "\n",
       "      android.sensor.accelerometer#std  \\\n",
       "3405                          2.291921   \n",
       "5109                          0.043253   \n",
       "1061                          0.579607   \n",
       "1045                          0.851957   \n",
       "1317                          0.060032   \n",
       "...                                ...   \n",
       "5063                          5.469623   \n",
       "1296                          5.852742   \n",
       "1619                          2.962479   \n",
       "2314                          2.831729   \n",
       "640                           4.062253   \n",
       "\n",
       "      android.sensor.game_rotation_vector#mean  \\\n",
       "3405                                  0.759280   \n",
       "5109                                  0.759280   \n",
       "1061                                  0.759280   \n",
       "1045                                  0.759280   \n",
       "1317                                  0.759280   \n",
       "...                                        ...   \n",
       "5063                                  0.814607   \n",
       "1296                                  0.763646   \n",
       "1619                                  0.710383   \n",
       "2314                                  0.923661   \n",
       "640                                   0.984727   \n",
       "\n",
       "      android.sensor.game_rotation_vector#min  \\\n",
       "3405                                 0.743872   \n",
       "5109                                 0.743872   \n",
       "1061                                 0.743872   \n",
       "1045                                 0.743872   \n",
       "1317                                 0.743872   \n",
       "...                                       ...   \n",
       "5063                                 0.814607   \n",
       "1296                                 0.763646   \n",
       "1619                                 0.647101   \n",
       "2314                                 0.910555   \n",
       "640                                  0.984727   \n",
       "\n",
       "      android.sensor.game_rotation_vector#max  ...  sound#mean  sound#min  \\\n",
       "3405                                 0.771629  ...   77.430291  77.430291   \n",
       "5109                                 0.771629  ...   38.061800  38.061800   \n",
       "1061                                 0.771629  ...   74.703991  74.703991   \n",
       "1045                                 0.771629  ...   75.447901  75.447901   \n",
       "1317                                 0.771629  ...   36.123599  36.123599   \n",
       "...                                       ...  ...         ...        ...   \n",
       "5063                                 0.814607  ...   84.941781  84.941781   \n",
       "1296                                 0.763646  ...   82.625956  82.625956   \n",
       "1619                                 0.761554  ...   84.591077  84.591077   \n",
       "2314                                 0.943459  ...   76.260939  76.260939   \n",
       "640                                  0.984727  ...   87.408041  87.408041   \n",
       "\n",
       "      sound#max  sound#std  speed#mean  speed#min  speed#max  speed#std  \\\n",
       "3405  77.430291   6.594260    2.358495   2.358495   2.358495   0.000000   \n",
       "5109  38.061800   1.038442    8.235254   8.216747   8.253528   0.236959   \n",
       "1061  74.703991   5.538316    3.250000   3.000000   3.500000   0.353553   \n",
       "1045  75.447901   3.376136   18.500000  18.500000  18.500000   0.353553   \n",
       "1317  36.123599   1.426948    8.235254   8.216747   8.253528   0.236959   \n",
       "...         ...        ...         ...        ...        ...        ...   \n",
       "5063  84.941781   0.945771    1.463377   1.463377   1.463377   0.010040   \n",
       "1296  82.625956   5.321307    0.891086   0.883836   0.898335   0.010252   \n",
       "1619  84.591077   1.913065    1.402243   1.402243   1.402243   0.236959   \n",
       "2314  76.260939   1.913065    1.213918   1.213918   1.213918   0.236959   \n",
       "640   87.408041   0.945771    1.463377   1.463377   1.463377   0.010040   \n",
       "\n",
       "      target  user  \n",
       "3405       5     6  \n",
       "5109       2     6  \n",
       "1061       4     6  \n",
       "1045       1     6  \n",
       "1317       2     6  \n",
       "...      ...   ...  \n",
       "5063       5    13  \n",
       "1296       5    13  \n",
       "1619       5    13  \n",
       "2314       5    13  \n",
       "640        5    13  \n",
       "\n",
       "[1179 rows x 69 columns]"
      ]
     },
     "execution_count": 93,
     "metadata": {},
     "output_type": "execute_result"
    }
   ],
   "source": [
    "test"
   ]
  },
  {
   "cell_type": "code",
   "execution_count": 239,
   "id": "judicial-partner",
   "metadata": {},
   "outputs": [],
   "source": [
    "import pickle\n",
    "\n",
    "filename = 'model.sav'\n",
    "pickle.dump(model, open(filename, 'wb'))\n",
    " "
   ]
  }
 ],
 "metadata": {
  "kernelspec": {
   "display_name": "Python 3",
   "language": "python",
   "name": "python3"
  },
  "language_info": {
   "codemirror_mode": {
    "name": "ipython",
    "version": 3
   },
   "file_extension": ".py",
   "mimetype": "text/x-python",
   "name": "python",
   "nbconvert_exporter": "python",
   "pygments_lexer": "ipython3",
   "version": "3.7.10"
  }
 },
 "nbformat": 4,
 "nbformat_minor": 5
}
