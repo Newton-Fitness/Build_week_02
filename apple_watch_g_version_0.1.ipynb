{
 "cells": [
  {
   "cell_type": "code",
   "execution_count": 2,
   "id": "familiar-extension",
   "metadata": {},
   "outputs": [],
   "source": [
    "import pandas as pd\n",
    "from sklearn import tree\n",
    "from sklearn.metrics import accuracy_score\n",
    "import os\n",
    "from sklearn.ensemble import RandomForestClassifier\n",
    "from sklearn.neural_network import MLPClassifier\n",
    "from sklearn.svm import SVC\n",
    "import itertools\n",
    "import math\n",
    "from TMDataset import TMDataset\n",
    "import const\n",
    "import util\n",
    "from sklearn import tree\n",
    "from sklearn.metrics import accuracy_score\n",
    "import pandas as pd\n",
    "import os\n",
    "from sklearn.ensemble import RandomForestClassifier\n",
    "from sklearn.neural_network import MLPClassifier\n",
    "from sklearn.svm import SVC\n",
    "import itertools\n",
    "import math\n",
    "from TMDataset import TMDataset\n",
    "import const\n",
    "import util\n"
   ]
  },
  {
   "cell_type": "code",
   "execution_count": null,
   "id": "spiritual-president",
   "metadata": {},
   "outputs": [],
   "source": []
  },
  {
   "cell_type": "code",
   "execution_count": 5,
   "id": "composed-agriculture",
   "metadata": {},
   "outputs": [],
   "source": [
    "df = pd.read_csv(\"TransportationData/datasetBalanced/dataset_5secondWindow.csv\")"
   ]
  },
  {
   "cell_type": "code",
   "execution_count": 3,
   "id": "eligible-lyric",
   "metadata": {},
   "outputs": [],
   "source": [
    "#df"
   ]
  },
  {
   "cell_type": "code",
   "execution_count": 8,
   "id": "olympic-cycling",
   "metadata": {},
   "outputs": [],
   "source": [
    "#df.columns"
   ]
  },
  {
   "cell_type": "code",
   "execution_count": 4,
   "id": "bacterial-floating",
   "metadata": {},
   "outputs": [],
   "source": [
    "class TMDetection:\n",
    "    dataset = TMDataset()\n",
    "    classes = []\n",
    "    classes2string = {}\n",
    "    classes2number = {}\n",
    "\n",
    "    def __init__(self):\n",
    "        if not const.HAVE_DT:\n",
    "            self.dataset.create_balanced_dataset(const.SINTETIC_LEARNING)\n",
    "        classes_dataset = self.dataset.get_dataset['target'].values\n",
    "        print(classes_dataset)\n",
    "        for i, c in enumerate(sorted(set(classes_dataset))):\n",
    "            self.classes2string[i] = c\n",
    "            self.classes2number[c] = i\n",
    "            self.classes.append(c)\n",
    "\n",
    "    def __get_sets_for_classification(self, df_train, df_test, features):\n",
    "        train, test = util.fill_nan_with_mean_training(df_train, df_test)\n",
    "        train_features = train[features].values\n",
    "        train_classes = [self.classes2number[c] for c in train['target'].values]\n",
    "        test_features = test[features].values\n",
    "        test_classes = [self.classes2number[c] for c in test['target'].values]\n",
    "        return train_features, train_classes, test_features, test_classes\n",
    "\n",
    "    # decision tree algorithm training on training al train set and test on all test set\n",
    "    def decision_tree(self, sensors_set):\n",
    "        features = list(self.dataset.get_sensors_set_features(sensors_set))\n",
    "        print(\"DECISION TREE.....\")\n",
    "        print(\"CLASSIFICATION BASED ON THESE SENSORS: \", self.dataset.get_remained_sensors(sensors_set))\n",
    "        print(\"NUMBER OF FEATURES: \", len(features))\n",
    "        train_features, train_classes, test_features, test_classes = self.__get_sets_for_classification(\n",
    "            self.dataset.get_train, self.dataset.get_test, features)\n",
    "        classifier_decision_tree = tree.DecisionTreeClassifier()\n",
    "        classifier_decision_tree.fit(train_features, train_classes)\n",
    "        test_prediction = classifier_decision_tree.predict(test_features)\n",
    "        acc = accuracy_score(test_classes, test_prediction)\n",
    "        df_feature = pd.DataFrame(\n",
    "            {'accuracy': acc, 'features': features, 'importance': classifier_decision_tree.feature_importances_})\n",
    "        df_feature = df_feature.sort_values(by='importance', ascending=False)\n",
    "        print(\"ACCURACY : \" + str(acc))\n",
    "        print(\"END TREE\")\n",
    "\n",
    "        if not os.path.exists(const.DIR_RESULTS):\n",
    "            os.makedirs(const.DIR_RESULTS)\n",
    "        df_feature.to_csv(const.DIR_RESULTS + \"/\" + str(sensors_set) + const.FILE_DECISION_TREE_RESULTS, index=False)\n",
    "\n",
    "    # random forest algorithm training on training al train set and test on all test set\n",
    "    def random_forest(self, sensors_set):\n",
    "        features = list(self.dataset.get_sensors_set_features(sensors_set))\n",
    "        print(\"RANDOM FOREST.....\")\n",
    "        print(\"CLASSIFICATION BASED ON THESE SENSORS: \", self.dataset.get_remained_sensors(sensors_set))\n",
    "        print(\"NUMBER OF FEATURES: \", len(features))\n",
    "        train_features, train_classes, test_features, test_classes = self.__get_sets_for_classification(\n",
    "            self.dataset.get_train, self.dataset.get_test, features)\n",
    "        classifier_forest = RandomForestClassifier(n_estimators=const.PAR_RF_ESTIMATOR)\n",
    "        classifier_forest.fit(train_features, train_classes)\n",
    "        test_prediction = classifier_forest.predict(test_features)\n",
    "        acc = accuracy_score(test_classes, test_prediction)\n",
    "        df_feature = pd.DataFrame(\n",
    "            {'accuracy': acc, 'featureName': features, 'importance': classifier_forest.feature_importances_})\n",
    "        df_feature = df_feature.sort_values(by='importance', ascending=False)\n",
    "        print(\"ACCURACY : \" + str(acc))\n",
    "        print(\"END RANDOM FOREST\")\n",
    "\n",
    "        if not os.path.exists(const.DIR_RESULTS):\n",
    "            os.makedirs(const.DIR_RESULTS)\n",
    "        df_feature.to_csv(const.DIR_RESULTS + \"/\" + str(sensors_set) + const.FILE_RANDOM_FOREST_RESULTS, index=False)\n"
   ]
  },
  {
   "cell_type": "code",
   "execution_count": null,
   "id": "iraqi-kennedy",
   "metadata": {},
   "outputs": [],
   "source": []
  },
  {
   "cell_type": "code",
   "execution_count": null,
   "id": "hungarian-seating",
   "metadata": {},
   "outputs": [],
   "source": []
  },
  {
   "cell_type": "code",
   "execution_count": null,
   "id": "soviet-aquatic",
   "metadata": {},
   "outputs": [],
   "source": []
  },
  {
   "cell_type": "code",
   "execution_count": null,
   "id": "adapted-hungarian",
   "metadata": {},
   "outputs": [],
   "source": []
  },
  {
   "cell_type": "code",
   "execution_count": null,
   "id": "disciplinary-following",
   "metadata": {},
   "outputs": [],
   "source": []
  },
  {
   "cell_type": "code",
   "execution_count": null,
   "id": "alternate-malpractice",
   "metadata": {},
   "outputs": [],
   "source": []
  }
 ],
 "metadata": {
  "kernelspec": {
   "display_name": "Python 3",
   "language": "python",
   "name": "python3"
  },
  "language_info": {
   "codemirror_mode": {
    "name": "ipython",
    "version": 3
   },
   "file_extension": ".py",
   "mimetype": "text/x-python",
   "name": "python",
   "nbconvert_exporter": "python",
   "pygments_lexer": "ipython3",
   "version": "3.7.10"
  }
 },
 "nbformat": 4,
 "nbformat_minor": 5
}
