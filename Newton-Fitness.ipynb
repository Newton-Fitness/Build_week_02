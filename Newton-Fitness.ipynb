{
 "cells": [
  {
   "cell_type": "code",
   "execution_count": 28,
   "id": "binding-blend",
   "metadata": {},
   "outputs": [],
   "source": [
    "import pandas as pd\n",
    "from sklearn import tree\n",
    "from sklearn.metrics import accuracy_score\n",
    "import os\n",
    "from sklearn.ensemble import RandomForestClassifier\n",
    "from sklearn.neural_network import MLPClassifier\n",
    "from sklearn.svm import SVC\n",
    "import itertools\n",
    "import math\n",
    "from TMDataset import TMDataset\n",
    "import const\n",
    "import util\n",
    "import numpy as np\n"
   ]
  },
  {
   "cell_type": "code",
   "execution_count": 6,
   "id": "willing-river",
   "metadata": {},
   "outputs": [],
   "source": [
    "import pandas as pd\n",
    "from matplotlib import pyplot as plt\n",
    "from sklearn.ensemble import RandomForestClassifier\n",
    "from sklearn.model_selection import train_test_split\n",
    "from sklearn.preprocessing import LabelEncoder\n",
    "from sklearn.metrics import roc_curve\n",
    "from sklearn.metrics import auc\n",
    "from sklearn.metrics import precision_recall_curve\n",
    "from sklearn.metrics import precision_score\n",
    "from sklearn.metrics import recall_score\n",
    "from sklearn.metrics import f1_score\n",
    "from sklearn.metrics import average_precision_score\n",
    "from inspect import signature"
   ]
  },
  {
   "cell_type": "code",
   "execution_count": 5,
   "id": "decimal-roommate",
   "metadata": {},
   "outputs": [],
   "source": [
    "df = pd.read_csv(\"TransportationData/datasetBalanced/dataset_5secondWindow.csv\")"
   ]
  },
  {
   "cell_type": "code",
   "execution_count": 3,
   "id": "outdoor-summary",
   "metadata": {},
   "outputs": [],
   "source": [
    "#df"
   ]
  },
  {
   "cell_type": "code",
   "execution_count": 8,
   "id": "sustainable-letters",
   "metadata": {},
   "outputs": [],
   "source": [
    "#df.columns"
   ]
  },
  {
   "cell_type": "code",
   "execution_count": 34,
   "id": "wound-arkansas",
   "metadata": {},
   "outputs": [],
   "source": [
    "class TMDetection:\n",
    "    dataset = TMDataset()\n",
    "    classes = []\n",
    "    classes2string = {}\n",
    "    classes2number = {}\n",
    "\n",
    "    def __init__(self):\n",
    "        if not const.HAVE_DT:\n",
    "            self.dataset.create_balanced_dataset(const.SINTETIC_LEARNING)\n",
    "        classes_dataset = self.dataset.get_dataset['target'].values\n",
    "        print(classes_dataset)\n",
    "        for i, c in enumerate(sorted(set(classes_dataset))):\n",
    "            self.classes2string[i] = c\n",
    "            self.classes2number[c] = i\n",
    "            self.classes.append(c)\n",
    "\n",
    "    def __get_sets_for_classification(self, df_train, df_test, features):\n",
    "        train, test = util.fill_nan_with_mean_training(df_train, df_test)\n",
    "        train_features = train[features].values\n",
    "        train_classes = [self.classes2number[c] for c in train['target'].values]\n",
    "        test_features = test[features].values\n",
    "        test_classes = [self.classes2number[c] for c in test['target'].values]\n",
    "        return train_features, train_classes, test_features, test_classes\n",
    "\n",
    "    # random forest algorithm training on training al train set and test on all test set\n",
    "    def random_forest(self, sensors_set):\n",
    "        features = list(self.dataset.get_sensors_set_features(sensors_set))\n",
    "        print(\"RANDOM FOREST.....\")\n",
    "        print(\"CLASSIFICATION BASED ON THESE SENSORS: \", self.dataset.get_remained_sensors(sensors_set))\n",
    "        print(\"NUMBER OF FEATURES: \", len(features))\n",
    "        train_features, train_classes, test_features, test_classes = self.__get_sets_for_classification(\n",
    "            self.dataset.get_train, self.dataset.get_test, features)\n",
    "        classifier_forest = RandomForestClassifier(n_estimators=const.PAR_RF_ESTIMATOR)\n",
    "        classifier_forest.fit(train_features, train_classes)\n",
    "        test_prediction = classifier_forest.predict(test_features)\n",
    "        \n",
    "        # metrics\n",
    "        acc = accuracy_score(test_classes, test_prediction)\n",
    "        test_pred = test_prediction.tolist()\n",
    "        print(type(test_classes), type(test_pred))\n",
    "        print(len(test_classes), len(test_prediction))\n",
    "        #print(test_classes,test_prediction)\n",
    "        precision = precision_score(test_classes, test_pred, average='micro')\n",
    "        print(precision)\n",
    "        precision = precision_score(test_classes, test_pred, average='macro')\n",
    "        print(precision)\n",
    "        precision = precision_score(test_classes, test_pred, average='weighted')\n",
    "        print(precision)\n",
    "        f1 = f1_score(test_classes, test_pred, average='weighted')\n",
    "        #recall = recall_score(test_classes, test_prediction)\n",
    "        #f1 = f1_score(test_classes, test_prediction)\n",
    "        \n",
    "        \n",
    "        #df_feature = pd.DataFrame(\n",
    "            #{'accuracy': acc, 'featureName': features, 'importance': classifier_forest.feature_importances_})\n",
    "        #df_feature = df_feature.sort_values(by='importance', ascending=False)\n",
    "        #print(\"ACCURACY : \" + str(acc), \"Precision:\" + str(precision),\"recall score:\" + str(recall),\"F1 score:\" + str(f1),)\n",
    "        \n",
    "        print(\"END RANDOM FOREST\")\n",
    "\n",
    "        if not os.path.exists(const.DIR_RESULTS):\n",
    "            os.makedirs(const.DIR_RESULTS)\n",
    "        #df_feature.to_csv(const.DIR_RESULTS + \"/\" + str(sensors_set) + const.FILE_RANDOM_FOREST_RESULTS, index=False)\n"
   ]
  },
  {
   "cell_type": "code",
   "execution_count": 35,
   "id": "diagnostic-radar",
   "metadata": {},
   "outputs": [
    {
     "name": "stdout",
     "output_type": "stream",
     "text": [
      "START CREATE BALANCED DATASET....\n",
      "./TransportationData/_Dataset/dataset.csv\n",
      "END CREATE BALANCED DATASET....\n",
      "['Bus' 'Bus' 'Bus' ... 'Walking' 'Walking' 'Walking']\n",
      "RANDOM FOREST.....\n",
      "CLASSIFICATION BASED ON THESE SENSORS:  ['android.sensor.game_rotation_vector', 'android.sensor.gyroscope', 'android.sensor.rotation_vector', 'android.sensor.gyroscope_uncalibrated', 'android.sensor.accelerometer', 'android.sensor.linear_acceleration', 'sound', 'android.sensor.orientation', 'speed']\n",
      "NUMBER OF FEATURES:  36\n",
      "<class 'list'> <class 'list'>\n",
      "1833 1833\n",
      "0.9181669394435352\n",
      "END RANDOM FOREST\n"
     ]
    }
   ],
   "source": [
    "if __name__ == \"__main__\":\n",
    "    detection = TMDetection()\n",
    "    detection.random_forest(3)\n",
    "\n",
    "\n"
   ]
  },
  {
   "cell_type": "code",
   "execution_count": null,
   "id": "aggregate-variance",
   "metadata": {},
   "outputs": [],
   "source": [
    "probs = classifier_forest.predict_proba(test_features)\n",
    "        \n",
    "target_probs = probs[:,1]\n",
    "        fpr, tpr, thresholds = roc_curve(test_classes, target_probs)\n",
    "        roc_auc = auc(fpr, tpr)\n",
    "        plt.title('Receiver Operating Characteristic')\n",
    "        plt.plot(fpr, tpr, 'y', label = 'AUC = %0.2f' % roc_auc)\n",
    "        plt.legend(loc = 'lower right')\n",
    "        plt.plot([0, 1], [0, 1],'r--')\n",
    "        plt.xlim([0, 1])\n",
    "        plt.ylim([0, 1])\n",
    "        plt.ylabel('True Positive Rate')\n",
    "        plt.xlabel('False Positive Rate')\n",
    "        plt.show()\n",
    "        "
   ]
  },
  {
   "cell_type": "code",
   "execution_count": 25,
   "id": "proved-template",
   "metadata": {},
   "outputs": [
    {
     "name": "stdout",
     "output_type": "stream",
     "text": [
      "Precision: 0.750\n",
      "<class 'list'> <class 'list'>\n",
      "10100 10100\n"
     ]
    }
   ],
   "source": [
    "from sklearn.metrics import precision_score\n",
    "# define actual\n",
    "act_pos = [1 for _ in range(100)]\n",
    "act_neg = [0 for _ in range(10000)]\n",
    "y_true = act_pos + act_neg\n",
    "# define predictions\n",
    "pred_pos = [0 for _ in range(10)] + [1 for _ in range(90)]\n",
    "pred_neg = [1 for _ in range(30)] + [0 for _ in range(9970)]\n",
    "y_pred = pred_pos + pred_neg\n",
    "# calculate prediction\n",
    "precision = precision_score(y_true, y_pred, average='binary')\n",
    "print('Precision: %.3f' % precision)\n",
    "print(type(y_true), type(y_pred))\n",
    "print(len(y_true), len(y_pred))\n"
   ]
  },
  {
   "cell_type": "code",
   "execution_count": null,
   "id": "valid-painting",
   "metadata": {},
   "outputs": [],
   "source": []
  },
  {
   "cell_type": "code",
   "execution_count": null,
   "id": "continent-canberra",
   "metadata": {},
   "outputs": [],
   "source": []
  },
  {
   "cell_type": "code",
   "execution_count": null,
   "id": "collective-profile",
   "metadata": {},
   "outputs": [],
   "source": []
  },
  {
   "cell_type": "code",
   "execution_count": null,
   "id": "removable-custody",
   "metadata": {},
   "outputs": [],
   "source": []
  }
 ],
 "metadata": {
  "kernelspec": {
   "display_name": "Python 3",
   "language": "python",
   "name": "python3"
  },
  "language_info": {
   "codemirror_mode": {
    "name": "ipython",
    "version": 3
   },
   "file_extension": ".py",
   "mimetype": "text/x-python",
   "name": "python",
   "nbconvert_exporter": "python",
   "pygments_lexer": "ipython3",
   "version": "3.7.10"
  }
 },
 "nbformat": 4,
 "nbformat_minor": 5
}
